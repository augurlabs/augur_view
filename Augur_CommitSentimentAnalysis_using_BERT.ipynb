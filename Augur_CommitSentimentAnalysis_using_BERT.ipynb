{
  "nbformat": 4,
  "nbformat_minor": 0,
  "metadata": {
    "colab": {
      "provenance": [],
      "collapsed_sections": [
        "TW5Pun3x6lAB",
        "rgqTDEbs53Xy",
        "NQIt_XwIl_Jd"
      ]
    },
    "kernelspec": {
      "name": "python3",
      "display_name": "Python 3"
    },
    "accelerator": "GPU",
    "widgets": {
      "application/vnd.jupyter.widget-state+json": {
        "d210d82c23ea4f259382d224bae74cad": {
          "model_module": "@jupyter-widgets/controls",
          "model_name": "HBoxModel",
          "model_module_version": "1.5.0",
          "state": {
            "_dom_classes": [],
            "_model_module": "@jupyter-widgets/controls",
            "_model_module_version": "1.5.0",
            "_model_name": "HBoxModel",
            "_view_count": null,
            "_view_module": "@jupyter-widgets/controls",
            "_view_module_version": "1.5.0",
            "_view_name": "HBoxView",
            "box_style": "",
            "children": [
              "IPY_MODEL_c466be8cd38444abb424cf9b05305269",
              "IPY_MODEL_d412f012c9184749a5da5ae51f123cf2",
              "IPY_MODEL_3620c4b3c4e54cca84aea64d70114cd0"
            ],
            "layout": "IPY_MODEL_bcbe774a04ee4b8498efe2637f839790"
          }
        },
        "c466be8cd38444abb424cf9b05305269": {
          "model_module": "@jupyter-widgets/controls",
          "model_name": "HTMLModel",
          "model_module_version": "1.5.0",
          "state": {
            "_dom_classes": [],
            "_model_module": "@jupyter-widgets/controls",
            "_model_module_version": "1.5.0",
            "_model_name": "HTMLModel",
            "_view_count": null,
            "_view_module": "@jupyter-widgets/controls",
            "_view_module_version": "1.5.0",
            "_view_name": "HTMLView",
            "description": "",
            "description_tooltip": null,
            "layout": "IPY_MODEL_8b6315e21a6140bf988b0faf075542c3",
            "placeholder": "​",
            "style": "IPY_MODEL_e56e4c5d5b8f40c79247e6ba910b90c4",
            "value": "Downloading: 100%"
          }
        },
        "d412f012c9184749a5da5ae51f123cf2": {
          "model_module": "@jupyter-widgets/controls",
          "model_name": "FloatProgressModel",
          "model_module_version": "1.5.0",
          "state": {
            "_dom_classes": [],
            "_model_module": "@jupyter-widgets/controls",
            "_model_module_version": "1.5.0",
            "_model_name": "FloatProgressModel",
            "_view_count": null,
            "_view_module": "@jupyter-widgets/controls",
            "_view_module_version": "1.5.0",
            "_view_name": "ProgressView",
            "bar_style": "success",
            "description": "",
            "description_tooltip": null,
            "layout": "IPY_MODEL_94fa6b212f1c431ba0031a6c7700f42d",
            "max": 28,
            "min": 0,
            "orientation": "horizontal",
            "style": "IPY_MODEL_54d4c1f2a4694fdaa7309adfec92a599",
            "value": 28
          }
        },
        "3620c4b3c4e54cca84aea64d70114cd0": {
          "model_module": "@jupyter-widgets/controls",
          "model_name": "HTMLModel",
          "model_module_version": "1.5.0",
          "state": {
            "_dom_classes": [],
            "_model_module": "@jupyter-widgets/controls",
            "_model_module_version": "1.5.0",
            "_model_name": "HTMLModel",
            "_view_count": null,
            "_view_module": "@jupyter-widgets/controls",
            "_view_module_version": "1.5.0",
            "_view_name": "HTMLView",
            "description": "",
            "description_tooltip": null,
            "layout": "IPY_MODEL_6d7d7e5b197446afb53ac0f993ec1257",
            "placeholder": "​",
            "style": "IPY_MODEL_16745d76478e48ea8631d0c71fcb585f",
            "value": " 28.0/28.0 [00:00&lt;00:00, 1.34kB/s]"
          }
        },
        "bcbe774a04ee4b8498efe2637f839790": {
          "model_module": "@jupyter-widgets/base",
          "model_name": "LayoutModel",
          "model_module_version": "1.2.0",
          "state": {
            "_model_module": "@jupyter-widgets/base",
            "_model_module_version": "1.2.0",
            "_model_name": "LayoutModel",
            "_view_count": null,
            "_view_module": "@jupyter-widgets/base",
            "_view_module_version": "1.2.0",
            "_view_name": "LayoutView",
            "align_content": null,
            "align_items": null,
            "align_self": null,
            "border": null,
            "bottom": null,
            "display": null,
            "flex": null,
            "flex_flow": null,
            "grid_area": null,
            "grid_auto_columns": null,
            "grid_auto_flow": null,
            "grid_auto_rows": null,
            "grid_column": null,
            "grid_gap": null,
            "grid_row": null,
            "grid_template_areas": null,
            "grid_template_columns": null,
            "grid_template_rows": null,
            "height": null,
            "justify_content": null,
            "justify_items": null,
            "left": null,
            "margin": null,
            "max_height": null,
            "max_width": null,
            "min_height": null,
            "min_width": null,
            "object_fit": null,
            "object_position": null,
            "order": null,
            "overflow": null,
            "overflow_x": null,
            "overflow_y": null,
            "padding": null,
            "right": null,
            "top": null,
            "visibility": null,
            "width": null
          }
        },
        "8b6315e21a6140bf988b0faf075542c3": {
          "model_module": "@jupyter-widgets/base",
          "model_name": "LayoutModel",
          "model_module_version": "1.2.0",
          "state": {
            "_model_module": "@jupyter-widgets/base",
            "_model_module_version": "1.2.0",
            "_model_name": "LayoutModel",
            "_view_count": null,
            "_view_module": "@jupyter-widgets/base",
            "_view_module_version": "1.2.0",
            "_view_name": "LayoutView",
            "align_content": null,
            "align_items": null,
            "align_self": null,
            "border": null,
            "bottom": null,
            "display": null,
            "flex": null,
            "flex_flow": null,
            "grid_area": null,
            "grid_auto_columns": null,
            "grid_auto_flow": null,
            "grid_auto_rows": null,
            "grid_column": null,
            "grid_gap": null,
            "grid_row": null,
            "grid_template_areas": null,
            "grid_template_columns": null,
            "grid_template_rows": null,
            "height": null,
            "justify_content": null,
            "justify_items": null,
            "left": null,
            "margin": null,
            "max_height": null,
            "max_width": null,
            "min_height": null,
            "min_width": null,
            "object_fit": null,
            "object_position": null,
            "order": null,
            "overflow": null,
            "overflow_x": null,
            "overflow_y": null,
            "padding": null,
            "right": null,
            "top": null,
            "visibility": null,
            "width": null
          }
        },
        "e56e4c5d5b8f40c79247e6ba910b90c4": {
          "model_module": "@jupyter-widgets/controls",
          "model_name": "DescriptionStyleModel",
          "model_module_version": "1.5.0",
          "state": {
            "_model_module": "@jupyter-widgets/controls",
            "_model_module_version": "1.5.0",
            "_model_name": "DescriptionStyleModel",
            "_view_count": null,
            "_view_module": "@jupyter-widgets/base",
            "_view_module_version": "1.2.0",
            "_view_name": "StyleView",
            "description_width": ""
          }
        },
        "94fa6b212f1c431ba0031a6c7700f42d": {
          "model_module": "@jupyter-widgets/base",
          "model_name": "LayoutModel",
          "model_module_version": "1.2.0",
          "state": {
            "_model_module": "@jupyter-widgets/base",
            "_model_module_version": "1.2.0",
            "_model_name": "LayoutModel",
            "_view_count": null,
            "_view_module": "@jupyter-widgets/base",
            "_view_module_version": "1.2.0",
            "_view_name": "LayoutView",
            "align_content": null,
            "align_items": null,
            "align_self": null,
            "border": null,
            "bottom": null,
            "display": null,
            "flex": null,
            "flex_flow": null,
            "grid_area": null,
            "grid_auto_columns": null,
            "grid_auto_flow": null,
            "grid_auto_rows": null,
            "grid_column": null,
            "grid_gap": null,
            "grid_row": null,
            "grid_template_areas": null,
            "grid_template_columns": null,
            "grid_template_rows": null,
            "height": null,
            "justify_content": null,
            "justify_items": null,
            "left": null,
            "margin": null,
            "max_height": null,
            "max_width": null,
            "min_height": null,
            "min_width": null,
            "object_fit": null,
            "object_position": null,
            "order": null,
            "overflow": null,
            "overflow_x": null,
            "overflow_y": null,
            "padding": null,
            "right": null,
            "top": null,
            "visibility": null,
            "width": null
          }
        },
        "54d4c1f2a4694fdaa7309adfec92a599": {
          "model_module": "@jupyter-widgets/controls",
          "model_name": "ProgressStyleModel",
          "model_module_version": "1.5.0",
          "state": {
            "_model_module": "@jupyter-widgets/controls",
            "_model_module_version": "1.5.0",
            "_model_name": "ProgressStyleModel",
            "_view_count": null,
            "_view_module": "@jupyter-widgets/base",
            "_view_module_version": "1.2.0",
            "_view_name": "StyleView",
            "bar_color": null,
            "description_width": ""
          }
        },
        "6d7d7e5b197446afb53ac0f993ec1257": {
          "model_module": "@jupyter-widgets/base",
          "model_name": "LayoutModel",
          "model_module_version": "1.2.0",
          "state": {
            "_model_module": "@jupyter-widgets/base",
            "_model_module_version": "1.2.0",
            "_model_name": "LayoutModel",
            "_view_count": null,
            "_view_module": "@jupyter-widgets/base",
            "_view_module_version": "1.2.0",
            "_view_name": "LayoutView",
            "align_content": null,
            "align_items": null,
            "align_self": null,
            "border": null,
            "bottom": null,
            "display": null,
            "flex": null,
            "flex_flow": null,
            "grid_area": null,
            "grid_auto_columns": null,
            "grid_auto_flow": null,
            "grid_auto_rows": null,
            "grid_column": null,
            "grid_gap": null,
            "grid_row": null,
            "grid_template_areas": null,
            "grid_template_columns": null,
            "grid_template_rows": null,
            "height": null,
            "justify_content": null,
            "justify_items": null,
            "left": null,
            "margin": null,
            "max_height": null,
            "max_width": null,
            "min_height": null,
            "min_width": null,
            "object_fit": null,
            "object_position": null,
            "order": null,
            "overflow": null,
            "overflow_x": null,
            "overflow_y": null,
            "padding": null,
            "right": null,
            "top": null,
            "visibility": null,
            "width": null
          }
        },
        "16745d76478e48ea8631d0c71fcb585f": {
          "model_module": "@jupyter-widgets/controls",
          "model_name": "DescriptionStyleModel",
          "model_module_version": "1.5.0",
          "state": {
            "_model_module": "@jupyter-widgets/controls",
            "_model_module_version": "1.5.0",
            "_model_name": "DescriptionStyleModel",
            "_view_count": null,
            "_view_module": "@jupyter-widgets/base",
            "_view_module_version": "1.2.0",
            "_view_name": "StyleView",
            "description_width": ""
          }
        },
        "c9a36ddea95d4c47a3765211662004be": {
          "model_module": "@jupyter-widgets/controls",
          "model_name": "HBoxModel",
          "model_module_version": "1.5.0",
          "state": {
            "_dom_classes": [],
            "_model_module": "@jupyter-widgets/controls",
            "_model_module_version": "1.5.0",
            "_model_name": "HBoxModel",
            "_view_count": null,
            "_view_module": "@jupyter-widgets/controls",
            "_view_module_version": "1.5.0",
            "_view_name": "HBoxView",
            "box_style": "",
            "children": [
              "IPY_MODEL_acaf5bbf70ad42ce845c1fdbda529319",
              "IPY_MODEL_cd09dc2d743d4a78ae58fb586f696ab6",
              "IPY_MODEL_466248ec07994f44bc1e17d9ae92528d"
            ],
            "layout": "IPY_MODEL_dea4aaf1221a4d5d801088724a66696c"
          }
        },
        "acaf5bbf70ad42ce845c1fdbda529319": {
          "model_module": "@jupyter-widgets/controls",
          "model_name": "HTMLModel",
          "model_module_version": "1.5.0",
          "state": {
            "_dom_classes": [],
            "_model_module": "@jupyter-widgets/controls",
            "_model_module_version": "1.5.0",
            "_model_name": "HTMLModel",
            "_view_count": null,
            "_view_module": "@jupyter-widgets/controls",
            "_view_module_version": "1.5.0",
            "_view_name": "HTMLView",
            "description": "",
            "description_tooltip": null,
            "layout": "IPY_MODEL_bd3319e07d9f486b9528a38d2dcc0c2a",
            "placeholder": "​",
            "style": "IPY_MODEL_b701ca86e35d44a0b6a101757757074a",
            "value": "Downloading: 100%"
          }
        },
        "cd09dc2d743d4a78ae58fb586f696ab6": {
          "model_module": "@jupyter-widgets/controls",
          "model_name": "FloatProgressModel",
          "model_module_version": "1.5.0",
          "state": {
            "_dom_classes": [],
            "_model_module": "@jupyter-widgets/controls",
            "_model_module_version": "1.5.0",
            "_model_name": "FloatProgressModel",
            "_view_count": null,
            "_view_module": "@jupyter-widgets/controls",
            "_view_module_version": "1.5.0",
            "_view_name": "ProgressView",
            "bar_style": "success",
            "description": "",
            "description_tooltip": null,
            "layout": "IPY_MODEL_6bf1af6dd3ae49319057898514eded62",
            "max": 231508,
            "min": 0,
            "orientation": "horizontal",
            "style": "IPY_MODEL_3343ac976d074c289338ccf8f0c68bd6",
            "value": 231508
          }
        },
        "466248ec07994f44bc1e17d9ae92528d": {
          "model_module": "@jupyter-widgets/controls",
          "model_name": "HTMLModel",
          "model_module_version": "1.5.0",
          "state": {
            "_dom_classes": [],
            "_model_module": "@jupyter-widgets/controls",
            "_model_module_version": "1.5.0",
            "_model_name": "HTMLModel",
            "_view_count": null,
            "_view_module": "@jupyter-widgets/controls",
            "_view_module_version": "1.5.0",
            "_view_name": "HTMLView",
            "description": "",
            "description_tooltip": null,
            "layout": "IPY_MODEL_75f10265ec024864a5520b56d43187f7",
            "placeholder": "​",
            "style": "IPY_MODEL_da71f7e2acd645bcaa30bbbf0254c595",
            "value": " 232k/232k [00:00&lt;00:00, 283kB/s]"
          }
        },
        "dea4aaf1221a4d5d801088724a66696c": {
          "model_module": "@jupyter-widgets/base",
          "model_name": "LayoutModel",
          "model_module_version": "1.2.0",
          "state": {
            "_model_module": "@jupyter-widgets/base",
            "_model_module_version": "1.2.0",
            "_model_name": "LayoutModel",
            "_view_count": null,
            "_view_module": "@jupyter-widgets/base",
            "_view_module_version": "1.2.0",
            "_view_name": "LayoutView",
            "align_content": null,
            "align_items": null,
            "align_self": null,
            "border": null,
            "bottom": null,
            "display": null,
            "flex": null,
            "flex_flow": null,
            "grid_area": null,
            "grid_auto_columns": null,
            "grid_auto_flow": null,
            "grid_auto_rows": null,
            "grid_column": null,
            "grid_gap": null,
            "grid_row": null,
            "grid_template_areas": null,
            "grid_template_columns": null,
            "grid_template_rows": null,
            "height": null,
            "justify_content": null,
            "justify_items": null,
            "left": null,
            "margin": null,
            "max_height": null,
            "max_width": null,
            "min_height": null,
            "min_width": null,
            "object_fit": null,
            "object_position": null,
            "order": null,
            "overflow": null,
            "overflow_x": null,
            "overflow_y": null,
            "padding": null,
            "right": null,
            "top": null,
            "visibility": null,
            "width": null
          }
        },
        "bd3319e07d9f486b9528a38d2dcc0c2a": {
          "model_module": "@jupyter-widgets/base",
          "model_name": "LayoutModel",
          "model_module_version": "1.2.0",
          "state": {
            "_model_module": "@jupyter-widgets/base",
            "_model_module_version": "1.2.0",
            "_model_name": "LayoutModel",
            "_view_count": null,
            "_view_module": "@jupyter-widgets/base",
            "_view_module_version": "1.2.0",
            "_view_name": "LayoutView",
            "align_content": null,
            "align_items": null,
            "align_self": null,
            "border": null,
            "bottom": null,
            "display": null,
            "flex": null,
            "flex_flow": null,
            "grid_area": null,
            "grid_auto_columns": null,
            "grid_auto_flow": null,
            "grid_auto_rows": null,
            "grid_column": null,
            "grid_gap": null,
            "grid_row": null,
            "grid_template_areas": null,
            "grid_template_columns": null,
            "grid_template_rows": null,
            "height": null,
            "justify_content": null,
            "justify_items": null,
            "left": null,
            "margin": null,
            "max_height": null,
            "max_width": null,
            "min_height": null,
            "min_width": null,
            "object_fit": null,
            "object_position": null,
            "order": null,
            "overflow": null,
            "overflow_x": null,
            "overflow_y": null,
            "padding": null,
            "right": null,
            "top": null,
            "visibility": null,
            "width": null
          }
        },
        "b701ca86e35d44a0b6a101757757074a": {
          "model_module": "@jupyter-widgets/controls",
          "model_name": "DescriptionStyleModel",
          "model_module_version": "1.5.0",
          "state": {
            "_model_module": "@jupyter-widgets/controls",
            "_model_module_version": "1.5.0",
            "_model_name": "DescriptionStyleModel",
            "_view_count": null,
            "_view_module": "@jupyter-widgets/base",
            "_view_module_version": "1.2.0",
            "_view_name": "StyleView",
            "description_width": ""
          }
        },
        "6bf1af6dd3ae49319057898514eded62": {
          "model_module": "@jupyter-widgets/base",
          "model_name": "LayoutModel",
          "model_module_version": "1.2.0",
          "state": {
            "_model_module": "@jupyter-widgets/base",
            "_model_module_version": "1.2.0",
            "_model_name": "LayoutModel",
            "_view_count": null,
            "_view_module": "@jupyter-widgets/base",
            "_view_module_version": "1.2.0",
            "_view_name": "LayoutView",
            "align_content": null,
            "align_items": null,
            "align_self": null,
            "border": null,
            "bottom": null,
            "display": null,
            "flex": null,
            "flex_flow": null,
            "grid_area": null,
            "grid_auto_columns": null,
            "grid_auto_flow": null,
            "grid_auto_rows": null,
            "grid_column": null,
            "grid_gap": null,
            "grid_row": null,
            "grid_template_areas": null,
            "grid_template_columns": null,
            "grid_template_rows": null,
            "height": null,
            "justify_content": null,
            "justify_items": null,
            "left": null,
            "margin": null,
            "max_height": null,
            "max_width": null,
            "min_height": null,
            "min_width": null,
            "object_fit": null,
            "object_position": null,
            "order": null,
            "overflow": null,
            "overflow_x": null,
            "overflow_y": null,
            "padding": null,
            "right": null,
            "top": null,
            "visibility": null,
            "width": null
          }
        },
        "3343ac976d074c289338ccf8f0c68bd6": {
          "model_module": "@jupyter-widgets/controls",
          "model_name": "ProgressStyleModel",
          "model_module_version": "1.5.0",
          "state": {
            "_model_module": "@jupyter-widgets/controls",
            "_model_module_version": "1.5.0",
            "_model_name": "ProgressStyleModel",
            "_view_count": null,
            "_view_module": "@jupyter-widgets/base",
            "_view_module_version": "1.2.0",
            "_view_name": "StyleView",
            "bar_color": null,
            "description_width": ""
          }
        },
        "75f10265ec024864a5520b56d43187f7": {
          "model_module": "@jupyter-widgets/base",
          "model_name": "LayoutModel",
          "model_module_version": "1.2.0",
          "state": {
            "_model_module": "@jupyter-widgets/base",
            "_model_module_version": "1.2.0",
            "_model_name": "LayoutModel",
            "_view_count": null,
            "_view_module": "@jupyter-widgets/base",
            "_view_module_version": "1.2.0",
            "_view_name": "LayoutView",
            "align_content": null,
            "align_items": null,
            "align_self": null,
            "border": null,
            "bottom": null,
            "display": null,
            "flex": null,
            "flex_flow": null,
            "grid_area": null,
            "grid_auto_columns": null,
            "grid_auto_flow": null,
            "grid_auto_rows": null,
            "grid_column": null,
            "grid_gap": null,
            "grid_row": null,
            "grid_template_areas": null,
            "grid_template_columns": null,
            "grid_template_rows": null,
            "height": null,
            "justify_content": null,
            "justify_items": null,
            "left": null,
            "margin": null,
            "max_height": null,
            "max_width": null,
            "min_height": null,
            "min_width": null,
            "object_fit": null,
            "object_position": null,
            "order": null,
            "overflow": null,
            "overflow_x": null,
            "overflow_y": null,
            "padding": null,
            "right": null,
            "top": null,
            "visibility": null,
            "width": null
          }
        },
        "da71f7e2acd645bcaa30bbbf0254c595": {
          "model_module": "@jupyter-widgets/controls",
          "model_name": "DescriptionStyleModel",
          "model_module_version": "1.5.0",
          "state": {
            "_model_module": "@jupyter-widgets/controls",
            "_model_module_version": "1.5.0",
            "_model_name": "DescriptionStyleModel",
            "_view_count": null,
            "_view_module": "@jupyter-widgets/base",
            "_view_module_version": "1.2.0",
            "_view_name": "StyleView",
            "description_width": ""
          }
        },
        "dd7c71d249eb44af97492d2b816c09a2": {
          "model_module": "@jupyter-widgets/controls",
          "model_name": "HBoxModel",
          "model_module_version": "1.5.0",
          "state": {
            "_dom_classes": [],
            "_model_module": "@jupyter-widgets/controls",
            "_model_module_version": "1.5.0",
            "_model_name": "HBoxModel",
            "_view_count": null,
            "_view_module": "@jupyter-widgets/controls",
            "_view_module_version": "1.5.0",
            "_view_name": "HBoxView",
            "box_style": "",
            "children": [
              "IPY_MODEL_8f05081387314673888d89d05c1c00d5",
              "IPY_MODEL_be098d4a17714ad588ced725f194951f",
              "IPY_MODEL_ca1c7a075c1a493d96cf677f67e3d937"
            ],
            "layout": "IPY_MODEL_2d4987b858f8484386c1a2c95d18fbb0"
          }
        },
        "8f05081387314673888d89d05c1c00d5": {
          "model_module": "@jupyter-widgets/controls",
          "model_name": "HTMLModel",
          "model_module_version": "1.5.0",
          "state": {
            "_dom_classes": [],
            "_model_module": "@jupyter-widgets/controls",
            "_model_module_version": "1.5.0",
            "_model_name": "HTMLModel",
            "_view_count": null,
            "_view_module": "@jupyter-widgets/controls",
            "_view_module_version": "1.5.0",
            "_view_name": "HTMLView",
            "description": "",
            "description_tooltip": null,
            "layout": "IPY_MODEL_548ee9f925834e5787eb4a76630a864c",
            "placeholder": "​",
            "style": "IPY_MODEL_ffcbfc8baa014db0a12130f44847ff52",
            "value": "Downloading: 100%"
          }
        },
        "be098d4a17714ad588ced725f194951f": {
          "model_module": "@jupyter-widgets/controls",
          "model_name": "FloatProgressModel",
          "model_module_version": "1.5.0",
          "state": {
            "_dom_classes": [],
            "_model_module": "@jupyter-widgets/controls",
            "_model_module_version": "1.5.0",
            "_model_name": "FloatProgressModel",
            "_view_count": null,
            "_view_module": "@jupyter-widgets/controls",
            "_view_module_version": "1.5.0",
            "_view_name": "ProgressView",
            "bar_style": "success",
            "description": "",
            "description_tooltip": null,
            "layout": "IPY_MODEL_eb0479f0784c465b943d17a73a8909ff",
            "max": 466062,
            "min": 0,
            "orientation": "horizontal",
            "style": "IPY_MODEL_5d0aa9668a4d4375a9895e56b0d53e2f",
            "value": 466062
          }
        },
        "ca1c7a075c1a493d96cf677f67e3d937": {
          "model_module": "@jupyter-widgets/controls",
          "model_name": "HTMLModel",
          "model_module_version": "1.5.0",
          "state": {
            "_dom_classes": [],
            "_model_module": "@jupyter-widgets/controls",
            "_model_module_version": "1.5.0",
            "_model_name": "HTMLModel",
            "_view_count": null,
            "_view_module": "@jupyter-widgets/controls",
            "_view_module_version": "1.5.0",
            "_view_name": "HTMLView",
            "description": "",
            "description_tooltip": null,
            "layout": "IPY_MODEL_397581168175407683d29fbd08f5df7e",
            "placeholder": "​",
            "style": "IPY_MODEL_1270fdba322a4a4bad521858bb4333a6",
            "value": " 466k/466k [00:01&lt;00:00, 485kB/s]"
          }
        },
        "2d4987b858f8484386c1a2c95d18fbb0": {
          "model_module": "@jupyter-widgets/base",
          "model_name": "LayoutModel",
          "model_module_version": "1.2.0",
          "state": {
            "_model_module": "@jupyter-widgets/base",
            "_model_module_version": "1.2.0",
            "_model_name": "LayoutModel",
            "_view_count": null,
            "_view_module": "@jupyter-widgets/base",
            "_view_module_version": "1.2.0",
            "_view_name": "LayoutView",
            "align_content": null,
            "align_items": null,
            "align_self": null,
            "border": null,
            "bottom": null,
            "display": null,
            "flex": null,
            "flex_flow": null,
            "grid_area": null,
            "grid_auto_columns": null,
            "grid_auto_flow": null,
            "grid_auto_rows": null,
            "grid_column": null,
            "grid_gap": null,
            "grid_row": null,
            "grid_template_areas": null,
            "grid_template_columns": null,
            "grid_template_rows": null,
            "height": null,
            "justify_content": null,
            "justify_items": null,
            "left": null,
            "margin": null,
            "max_height": null,
            "max_width": null,
            "min_height": null,
            "min_width": null,
            "object_fit": null,
            "object_position": null,
            "order": null,
            "overflow": null,
            "overflow_x": null,
            "overflow_y": null,
            "padding": null,
            "right": null,
            "top": null,
            "visibility": null,
            "width": null
          }
        },
        "548ee9f925834e5787eb4a76630a864c": {
          "model_module": "@jupyter-widgets/base",
          "model_name": "LayoutModel",
          "model_module_version": "1.2.0",
          "state": {
            "_model_module": "@jupyter-widgets/base",
            "_model_module_version": "1.2.0",
            "_model_name": "LayoutModel",
            "_view_count": null,
            "_view_module": "@jupyter-widgets/base",
            "_view_module_version": "1.2.0",
            "_view_name": "LayoutView",
            "align_content": null,
            "align_items": null,
            "align_self": null,
            "border": null,
            "bottom": null,
            "display": null,
            "flex": null,
            "flex_flow": null,
            "grid_area": null,
            "grid_auto_columns": null,
            "grid_auto_flow": null,
            "grid_auto_rows": null,
            "grid_column": null,
            "grid_gap": null,
            "grid_row": null,
            "grid_template_areas": null,
            "grid_template_columns": null,
            "grid_template_rows": null,
            "height": null,
            "justify_content": null,
            "justify_items": null,
            "left": null,
            "margin": null,
            "max_height": null,
            "max_width": null,
            "min_height": null,
            "min_width": null,
            "object_fit": null,
            "object_position": null,
            "order": null,
            "overflow": null,
            "overflow_x": null,
            "overflow_y": null,
            "padding": null,
            "right": null,
            "top": null,
            "visibility": null,
            "width": null
          }
        },
        "ffcbfc8baa014db0a12130f44847ff52": {
          "model_module": "@jupyter-widgets/controls",
          "model_name": "DescriptionStyleModel",
          "model_module_version": "1.5.0",
          "state": {
            "_model_module": "@jupyter-widgets/controls",
            "_model_module_version": "1.5.0",
            "_model_name": "DescriptionStyleModel",
            "_view_count": null,
            "_view_module": "@jupyter-widgets/base",
            "_view_module_version": "1.2.0",
            "_view_name": "StyleView",
            "description_width": ""
          }
        },
        "eb0479f0784c465b943d17a73a8909ff": {
          "model_module": "@jupyter-widgets/base",
          "model_name": "LayoutModel",
          "model_module_version": "1.2.0",
          "state": {
            "_model_module": "@jupyter-widgets/base",
            "_model_module_version": "1.2.0",
            "_model_name": "LayoutModel",
            "_view_count": null,
            "_view_module": "@jupyter-widgets/base",
            "_view_module_version": "1.2.0",
            "_view_name": "LayoutView",
            "align_content": null,
            "align_items": null,
            "align_self": null,
            "border": null,
            "bottom": null,
            "display": null,
            "flex": null,
            "flex_flow": null,
            "grid_area": null,
            "grid_auto_columns": null,
            "grid_auto_flow": null,
            "grid_auto_rows": null,
            "grid_column": null,
            "grid_gap": null,
            "grid_row": null,
            "grid_template_areas": null,
            "grid_template_columns": null,
            "grid_template_rows": null,
            "height": null,
            "justify_content": null,
            "justify_items": null,
            "left": null,
            "margin": null,
            "max_height": null,
            "max_width": null,
            "min_height": null,
            "min_width": null,
            "object_fit": null,
            "object_position": null,
            "order": null,
            "overflow": null,
            "overflow_x": null,
            "overflow_y": null,
            "padding": null,
            "right": null,
            "top": null,
            "visibility": null,
            "width": null
          }
        },
        "5d0aa9668a4d4375a9895e56b0d53e2f": {
          "model_module": "@jupyter-widgets/controls",
          "model_name": "ProgressStyleModel",
          "model_module_version": "1.5.0",
          "state": {
            "_model_module": "@jupyter-widgets/controls",
            "_model_module_version": "1.5.0",
            "_model_name": "ProgressStyleModel",
            "_view_count": null,
            "_view_module": "@jupyter-widgets/base",
            "_view_module_version": "1.2.0",
            "_view_name": "StyleView",
            "bar_color": null,
            "description_width": ""
          }
        },
        "397581168175407683d29fbd08f5df7e": {
          "model_module": "@jupyter-widgets/base",
          "model_name": "LayoutModel",
          "model_module_version": "1.2.0",
          "state": {
            "_model_module": "@jupyter-widgets/base",
            "_model_module_version": "1.2.0",
            "_model_name": "LayoutModel",
            "_view_count": null,
            "_view_module": "@jupyter-widgets/base",
            "_view_module_version": "1.2.0",
            "_view_name": "LayoutView",
            "align_content": null,
            "align_items": null,
            "align_self": null,
            "border": null,
            "bottom": null,
            "display": null,
            "flex": null,
            "flex_flow": null,
            "grid_area": null,
            "grid_auto_columns": null,
            "grid_auto_flow": null,
            "grid_auto_rows": null,
            "grid_column": null,
            "grid_gap": null,
            "grid_row": null,
            "grid_template_areas": null,
            "grid_template_columns": null,
            "grid_template_rows": null,
            "height": null,
            "justify_content": null,
            "justify_items": null,
            "left": null,
            "margin": null,
            "max_height": null,
            "max_width": null,
            "min_height": null,
            "min_width": null,
            "object_fit": null,
            "object_position": null,
            "order": null,
            "overflow": null,
            "overflow_x": null,
            "overflow_y": null,
            "padding": null,
            "right": null,
            "top": null,
            "visibility": null,
            "width": null
          }
        },
        "1270fdba322a4a4bad521858bb4333a6": {
          "model_module": "@jupyter-widgets/controls",
          "model_name": "DescriptionStyleModel",
          "model_module_version": "1.5.0",
          "state": {
            "_model_module": "@jupyter-widgets/controls",
            "_model_module_version": "1.5.0",
            "_model_name": "DescriptionStyleModel",
            "_view_count": null,
            "_view_module": "@jupyter-widgets/base",
            "_view_module_version": "1.2.0",
            "_view_name": "StyleView",
            "description_width": ""
          }
        },
        "c42a666db89c4454a2ec9579a8a24754": {
          "model_module": "@jupyter-widgets/controls",
          "model_name": "HBoxModel",
          "model_module_version": "1.5.0",
          "state": {
            "_dom_classes": [],
            "_model_module": "@jupyter-widgets/controls",
            "_model_module_version": "1.5.0",
            "_model_name": "HBoxModel",
            "_view_count": null,
            "_view_module": "@jupyter-widgets/controls",
            "_view_module_version": "1.5.0",
            "_view_name": "HBoxView",
            "box_style": "",
            "children": [
              "IPY_MODEL_63a27507a65c4893aa521927e752e1c3",
              "IPY_MODEL_d3cb6ef509014f2cbd86a0a641f83f2f",
              "IPY_MODEL_c4cf2fe5876b4965904721e92c1411fc"
            ],
            "layout": "IPY_MODEL_9a29bb2cd24045cca80c205f2504ee01"
          }
        },
        "63a27507a65c4893aa521927e752e1c3": {
          "model_module": "@jupyter-widgets/controls",
          "model_name": "HTMLModel",
          "model_module_version": "1.5.0",
          "state": {
            "_dom_classes": [],
            "_model_module": "@jupyter-widgets/controls",
            "_model_module_version": "1.5.0",
            "_model_name": "HTMLModel",
            "_view_count": null,
            "_view_module": "@jupyter-widgets/controls",
            "_view_module_version": "1.5.0",
            "_view_name": "HTMLView",
            "description": "",
            "description_tooltip": null,
            "layout": "IPY_MODEL_03e20487393d46dd8cad180b4d97c5ef",
            "placeholder": "​",
            "style": "IPY_MODEL_e8d9c0ca54fd48a4b1111f2eb4c5ef27",
            "value": "Downloading: 100%"
          }
        },
        "d3cb6ef509014f2cbd86a0a641f83f2f": {
          "model_module": "@jupyter-widgets/controls",
          "model_name": "FloatProgressModel",
          "model_module_version": "1.5.0",
          "state": {
            "_dom_classes": [],
            "_model_module": "@jupyter-widgets/controls",
            "_model_module_version": "1.5.0",
            "_model_name": "FloatProgressModel",
            "_view_count": null,
            "_view_module": "@jupyter-widgets/controls",
            "_view_module_version": "1.5.0",
            "_view_name": "ProgressView",
            "bar_style": "success",
            "description": "",
            "description_tooltip": null,
            "layout": "IPY_MODEL_6d4544779f8d494f9aefa43a2e986391",
            "max": 483,
            "min": 0,
            "orientation": "horizontal",
            "style": "IPY_MODEL_bdf1744bc3554fd29ec7e1796d310755",
            "value": 483
          }
        },
        "c4cf2fe5876b4965904721e92c1411fc": {
          "model_module": "@jupyter-widgets/controls",
          "model_name": "HTMLModel",
          "model_module_version": "1.5.0",
          "state": {
            "_dom_classes": [],
            "_model_module": "@jupyter-widgets/controls",
            "_model_module_version": "1.5.0",
            "_model_name": "HTMLModel",
            "_view_count": null,
            "_view_module": "@jupyter-widgets/controls",
            "_view_module_version": "1.5.0",
            "_view_name": "HTMLView",
            "description": "",
            "description_tooltip": null,
            "layout": "IPY_MODEL_942ab6559ee14b45853faa08d166914c",
            "placeholder": "​",
            "style": "IPY_MODEL_207dcced0b8c42eeb800d6ddf7633a3b",
            "value": " 483/483 [00:00&lt;00:00, 25.5kB/s]"
          }
        },
        "9a29bb2cd24045cca80c205f2504ee01": {
          "model_module": "@jupyter-widgets/base",
          "model_name": "LayoutModel",
          "model_module_version": "1.2.0",
          "state": {
            "_model_module": "@jupyter-widgets/base",
            "_model_module_version": "1.2.0",
            "_model_name": "LayoutModel",
            "_view_count": null,
            "_view_module": "@jupyter-widgets/base",
            "_view_module_version": "1.2.0",
            "_view_name": "LayoutView",
            "align_content": null,
            "align_items": null,
            "align_self": null,
            "border": null,
            "bottom": null,
            "display": null,
            "flex": null,
            "flex_flow": null,
            "grid_area": null,
            "grid_auto_columns": null,
            "grid_auto_flow": null,
            "grid_auto_rows": null,
            "grid_column": null,
            "grid_gap": null,
            "grid_row": null,
            "grid_template_areas": null,
            "grid_template_columns": null,
            "grid_template_rows": null,
            "height": null,
            "justify_content": null,
            "justify_items": null,
            "left": null,
            "margin": null,
            "max_height": null,
            "max_width": null,
            "min_height": null,
            "min_width": null,
            "object_fit": null,
            "object_position": null,
            "order": null,
            "overflow": null,
            "overflow_x": null,
            "overflow_y": null,
            "padding": null,
            "right": null,
            "top": null,
            "visibility": null,
            "width": null
          }
        },
        "03e20487393d46dd8cad180b4d97c5ef": {
          "model_module": "@jupyter-widgets/base",
          "model_name": "LayoutModel",
          "model_module_version": "1.2.0",
          "state": {
            "_model_module": "@jupyter-widgets/base",
            "_model_module_version": "1.2.0",
            "_model_name": "LayoutModel",
            "_view_count": null,
            "_view_module": "@jupyter-widgets/base",
            "_view_module_version": "1.2.0",
            "_view_name": "LayoutView",
            "align_content": null,
            "align_items": null,
            "align_self": null,
            "border": null,
            "bottom": null,
            "display": null,
            "flex": null,
            "flex_flow": null,
            "grid_area": null,
            "grid_auto_columns": null,
            "grid_auto_flow": null,
            "grid_auto_rows": null,
            "grid_column": null,
            "grid_gap": null,
            "grid_row": null,
            "grid_template_areas": null,
            "grid_template_columns": null,
            "grid_template_rows": null,
            "height": null,
            "justify_content": null,
            "justify_items": null,
            "left": null,
            "margin": null,
            "max_height": null,
            "max_width": null,
            "min_height": null,
            "min_width": null,
            "object_fit": null,
            "object_position": null,
            "order": null,
            "overflow": null,
            "overflow_x": null,
            "overflow_y": null,
            "padding": null,
            "right": null,
            "top": null,
            "visibility": null,
            "width": null
          }
        },
        "e8d9c0ca54fd48a4b1111f2eb4c5ef27": {
          "model_module": "@jupyter-widgets/controls",
          "model_name": "DescriptionStyleModel",
          "model_module_version": "1.5.0",
          "state": {
            "_model_module": "@jupyter-widgets/controls",
            "_model_module_version": "1.5.0",
            "_model_name": "DescriptionStyleModel",
            "_view_count": null,
            "_view_module": "@jupyter-widgets/base",
            "_view_module_version": "1.2.0",
            "_view_name": "StyleView",
            "description_width": ""
          }
        },
        "6d4544779f8d494f9aefa43a2e986391": {
          "model_module": "@jupyter-widgets/base",
          "model_name": "LayoutModel",
          "model_module_version": "1.2.0",
          "state": {
            "_model_module": "@jupyter-widgets/base",
            "_model_module_version": "1.2.0",
            "_model_name": "LayoutModel",
            "_view_count": null,
            "_view_module": "@jupyter-widgets/base",
            "_view_module_version": "1.2.0",
            "_view_name": "LayoutView",
            "align_content": null,
            "align_items": null,
            "align_self": null,
            "border": null,
            "bottom": null,
            "display": null,
            "flex": null,
            "flex_flow": null,
            "grid_area": null,
            "grid_auto_columns": null,
            "grid_auto_flow": null,
            "grid_auto_rows": null,
            "grid_column": null,
            "grid_gap": null,
            "grid_row": null,
            "grid_template_areas": null,
            "grid_template_columns": null,
            "grid_template_rows": null,
            "height": null,
            "justify_content": null,
            "justify_items": null,
            "left": null,
            "margin": null,
            "max_height": null,
            "max_width": null,
            "min_height": null,
            "min_width": null,
            "object_fit": null,
            "object_position": null,
            "order": null,
            "overflow": null,
            "overflow_x": null,
            "overflow_y": null,
            "padding": null,
            "right": null,
            "top": null,
            "visibility": null,
            "width": null
          }
        },
        "bdf1744bc3554fd29ec7e1796d310755": {
          "model_module": "@jupyter-widgets/controls",
          "model_name": "ProgressStyleModel",
          "model_module_version": "1.5.0",
          "state": {
            "_model_module": "@jupyter-widgets/controls",
            "_model_module_version": "1.5.0",
            "_model_name": "ProgressStyleModel",
            "_view_count": null,
            "_view_module": "@jupyter-widgets/base",
            "_view_module_version": "1.2.0",
            "_view_name": "StyleView",
            "bar_color": null,
            "description_width": ""
          }
        },
        "942ab6559ee14b45853faa08d166914c": {
          "model_module": "@jupyter-widgets/base",
          "model_name": "LayoutModel",
          "model_module_version": "1.2.0",
          "state": {
            "_model_module": "@jupyter-widgets/base",
            "_model_module_version": "1.2.0",
            "_model_name": "LayoutModel",
            "_view_count": null,
            "_view_module": "@jupyter-widgets/base",
            "_view_module_version": "1.2.0",
            "_view_name": "LayoutView",
            "align_content": null,
            "align_items": null,
            "align_self": null,
            "border": null,
            "bottom": null,
            "display": null,
            "flex": null,
            "flex_flow": null,
            "grid_area": null,
            "grid_auto_columns": null,
            "grid_auto_flow": null,
            "grid_auto_rows": null,
            "grid_column": null,
            "grid_gap": null,
            "grid_row": null,
            "grid_template_areas": null,
            "grid_template_columns": null,
            "grid_template_rows": null,
            "height": null,
            "justify_content": null,
            "justify_items": null,
            "left": null,
            "margin": null,
            "max_height": null,
            "max_width": null,
            "min_height": null,
            "min_width": null,
            "object_fit": null,
            "object_position": null,
            "order": null,
            "overflow": null,
            "overflow_x": null,
            "overflow_y": null,
            "padding": null,
            "right": null,
            "top": null,
            "visibility": null,
            "width": null
          }
        },
        "207dcced0b8c42eeb800d6ddf7633a3b": {
          "model_module": "@jupyter-widgets/controls",
          "model_name": "DescriptionStyleModel",
          "model_module_version": "1.5.0",
          "state": {
            "_model_module": "@jupyter-widgets/controls",
            "_model_module_version": "1.5.0",
            "_model_name": "DescriptionStyleModel",
            "_view_count": null,
            "_view_module": "@jupyter-widgets/base",
            "_view_module_version": "1.2.0",
            "_view_name": "StyleView",
            "description_width": ""
          }
        },
        "c47f9524bb3d470d9698746e0287b222": {
          "model_module": "@jupyter-widgets/controls",
          "model_name": "HBoxModel",
          "model_module_version": "1.5.0",
          "state": {
            "_dom_classes": [],
            "_model_module": "@jupyter-widgets/controls",
            "_model_module_version": "1.5.0",
            "_model_name": "HBoxModel",
            "_view_count": null,
            "_view_module": "@jupyter-widgets/controls",
            "_view_module_version": "1.5.0",
            "_view_name": "HBoxView",
            "box_style": "",
            "children": [
              "IPY_MODEL_aeb2069251074a37baed9201c4c94cb5",
              "IPY_MODEL_78ca557a94db4eebb91015bf404e9f3a",
              "IPY_MODEL_7eaff8be6e444adbbd0b35b97883cfb2"
            ],
            "layout": "IPY_MODEL_6381d6292c064675b2296ee950713d50"
          }
        },
        "aeb2069251074a37baed9201c4c94cb5": {
          "model_module": "@jupyter-widgets/controls",
          "model_name": "HTMLModel",
          "model_module_version": "1.5.0",
          "state": {
            "_dom_classes": [],
            "_model_module": "@jupyter-widgets/controls",
            "_model_module_version": "1.5.0",
            "_model_name": "HTMLModel",
            "_view_count": null,
            "_view_module": "@jupyter-widgets/controls",
            "_view_module_version": "1.5.0",
            "_view_name": "HTMLView",
            "description": "",
            "description_tooltip": null,
            "layout": "IPY_MODEL_f9d0c1e5cd5443dca1e18fbd6403b6e3",
            "placeholder": "​",
            "style": "IPY_MODEL_9dfd5f7185e3477793b684d2ee232ad3",
            "value": "Downloading: 100%"
          }
        },
        "78ca557a94db4eebb91015bf404e9f3a": {
          "model_module": "@jupyter-widgets/controls",
          "model_name": "FloatProgressModel",
          "model_module_version": "1.5.0",
          "state": {
            "_dom_classes": [],
            "_model_module": "@jupyter-widgets/controls",
            "_model_module_version": "1.5.0",
            "_model_name": "FloatProgressModel",
            "_view_count": null,
            "_view_module": "@jupyter-widgets/controls",
            "_view_module_version": "1.5.0",
            "_view_name": "ProgressView",
            "bar_style": "success",
            "description": "",
            "description_tooltip": null,
            "layout": "IPY_MODEL_4360bc32bd7e4ed1b5150c9e9d28c071",
            "max": 363423424,
            "min": 0,
            "orientation": "horizontal",
            "style": "IPY_MODEL_f07b0d62a6ec4e24a4c4f83b58a5b947",
            "value": 363423424
          }
        },
        "7eaff8be6e444adbbd0b35b97883cfb2": {
          "model_module": "@jupyter-widgets/controls",
          "model_name": "HTMLModel",
          "model_module_version": "1.5.0",
          "state": {
            "_dom_classes": [],
            "_model_module": "@jupyter-widgets/controls",
            "_model_module_version": "1.5.0",
            "_model_name": "HTMLModel",
            "_view_count": null,
            "_view_module": "@jupyter-widgets/controls",
            "_view_module_version": "1.5.0",
            "_view_name": "HTMLView",
            "description": "",
            "description_tooltip": null,
            "layout": "IPY_MODEL_49fd4eefe85f4ebcb0c60da4189151fb",
            "placeholder": "​",
            "style": "IPY_MODEL_673943d4a0d64858b5ab02ace19a2146",
            "value": " 363M/363M [00:10&lt;00:00, 40.8MB/s]"
          }
        },
        "6381d6292c064675b2296ee950713d50": {
          "model_module": "@jupyter-widgets/base",
          "model_name": "LayoutModel",
          "model_module_version": "1.2.0",
          "state": {
            "_model_module": "@jupyter-widgets/base",
            "_model_module_version": "1.2.0",
            "_model_name": "LayoutModel",
            "_view_count": null,
            "_view_module": "@jupyter-widgets/base",
            "_view_module_version": "1.2.0",
            "_view_name": "LayoutView",
            "align_content": null,
            "align_items": null,
            "align_self": null,
            "border": null,
            "bottom": null,
            "display": null,
            "flex": null,
            "flex_flow": null,
            "grid_area": null,
            "grid_auto_columns": null,
            "grid_auto_flow": null,
            "grid_auto_rows": null,
            "grid_column": null,
            "grid_gap": null,
            "grid_row": null,
            "grid_template_areas": null,
            "grid_template_columns": null,
            "grid_template_rows": null,
            "height": null,
            "justify_content": null,
            "justify_items": null,
            "left": null,
            "margin": null,
            "max_height": null,
            "max_width": null,
            "min_height": null,
            "min_width": null,
            "object_fit": null,
            "object_position": null,
            "order": null,
            "overflow": null,
            "overflow_x": null,
            "overflow_y": null,
            "padding": null,
            "right": null,
            "top": null,
            "visibility": null,
            "width": null
          }
        },
        "f9d0c1e5cd5443dca1e18fbd6403b6e3": {
          "model_module": "@jupyter-widgets/base",
          "model_name": "LayoutModel",
          "model_module_version": "1.2.0",
          "state": {
            "_model_module": "@jupyter-widgets/base",
            "_model_module_version": "1.2.0",
            "_model_name": "LayoutModel",
            "_view_count": null,
            "_view_module": "@jupyter-widgets/base",
            "_view_module_version": "1.2.0",
            "_view_name": "LayoutView",
            "align_content": null,
            "align_items": null,
            "align_self": null,
            "border": null,
            "bottom": null,
            "display": null,
            "flex": null,
            "flex_flow": null,
            "grid_area": null,
            "grid_auto_columns": null,
            "grid_auto_flow": null,
            "grid_auto_rows": null,
            "grid_column": null,
            "grid_gap": null,
            "grid_row": null,
            "grid_template_areas": null,
            "grid_template_columns": null,
            "grid_template_rows": null,
            "height": null,
            "justify_content": null,
            "justify_items": null,
            "left": null,
            "margin": null,
            "max_height": null,
            "max_width": null,
            "min_height": null,
            "min_width": null,
            "object_fit": null,
            "object_position": null,
            "order": null,
            "overflow": null,
            "overflow_x": null,
            "overflow_y": null,
            "padding": null,
            "right": null,
            "top": null,
            "visibility": null,
            "width": null
          }
        },
        "9dfd5f7185e3477793b684d2ee232ad3": {
          "model_module": "@jupyter-widgets/controls",
          "model_name": "DescriptionStyleModel",
          "model_module_version": "1.5.0",
          "state": {
            "_model_module": "@jupyter-widgets/controls",
            "_model_module_version": "1.5.0",
            "_model_name": "DescriptionStyleModel",
            "_view_count": null,
            "_view_module": "@jupyter-widgets/base",
            "_view_module_version": "1.2.0",
            "_view_name": "StyleView",
            "description_width": ""
          }
        },
        "4360bc32bd7e4ed1b5150c9e9d28c071": {
          "model_module": "@jupyter-widgets/base",
          "model_name": "LayoutModel",
          "model_module_version": "1.2.0",
          "state": {
            "_model_module": "@jupyter-widgets/base",
            "_model_module_version": "1.2.0",
            "_model_name": "LayoutModel",
            "_view_count": null,
            "_view_module": "@jupyter-widgets/base",
            "_view_module_version": "1.2.0",
            "_view_name": "LayoutView",
            "align_content": null,
            "align_items": null,
            "align_self": null,
            "border": null,
            "bottom": null,
            "display": null,
            "flex": null,
            "flex_flow": null,
            "grid_area": null,
            "grid_auto_columns": null,
            "grid_auto_flow": null,
            "grid_auto_rows": null,
            "grid_column": null,
            "grid_gap": null,
            "grid_row": null,
            "grid_template_areas": null,
            "grid_template_columns": null,
            "grid_template_rows": null,
            "height": null,
            "justify_content": null,
            "justify_items": null,
            "left": null,
            "margin": null,
            "max_height": null,
            "max_width": null,
            "min_height": null,
            "min_width": null,
            "object_fit": null,
            "object_position": null,
            "order": null,
            "overflow": null,
            "overflow_x": null,
            "overflow_y": null,
            "padding": null,
            "right": null,
            "top": null,
            "visibility": null,
            "width": null
          }
        },
        "f07b0d62a6ec4e24a4c4f83b58a5b947": {
          "model_module": "@jupyter-widgets/controls",
          "model_name": "ProgressStyleModel",
          "model_module_version": "1.5.0",
          "state": {
            "_model_module": "@jupyter-widgets/controls",
            "_model_module_version": "1.5.0",
            "_model_name": "ProgressStyleModel",
            "_view_count": null,
            "_view_module": "@jupyter-widgets/base",
            "_view_module_version": "1.2.0",
            "_view_name": "StyleView",
            "bar_color": null,
            "description_width": ""
          }
        },
        "49fd4eefe85f4ebcb0c60da4189151fb": {
          "model_module": "@jupyter-widgets/base",
          "model_name": "LayoutModel",
          "model_module_version": "1.2.0",
          "state": {
            "_model_module": "@jupyter-widgets/base",
            "_model_module_version": "1.2.0",
            "_model_name": "LayoutModel",
            "_view_count": null,
            "_view_module": "@jupyter-widgets/base",
            "_view_module_version": "1.2.0",
            "_view_name": "LayoutView",
            "align_content": null,
            "align_items": null,
            "align_self": null,
            "border": null,
            "bottom": null,
            "display": null,
            "flex": null,
            "flex_flow": null,
            "grid_area": null,
            "grid_auto_columns": null,
            "grid_auto_flow": null,
            "grid_auto_rows": null,
            "grid_column": null,
            "grid_gap": null,
            "grid_row": null,
            "grid_template_areas": null,
            "grid_template_columns": null,
            "grid_template_rows": null,
            "height": null,
            "justify_content": null,
            "justify_items": null,
            "left": null,
            "margin": null,
            "max_height": null,
            "max_width": null,
            "min_height": null,
            "min_width": null,
            "object_fit": null,
            "object_position": null,
            "order": null,
            "overflow": null,
            "overflow_x": null,
            "overflow_y": null,
            "padding": null,
            "right": null,
            "top": null,
            "visibility": null,
            "width": null
          }
        },
        "673943d4a0d64858b5ab02ace19a2146": {
          "model_module": "@jupyter-widgets/controls",
          "model_name": "DescriptionStyleModel",
          "model_module_version": "1.5.0",
          "state": {
            "_model_module": "@jupyter-widgets/controls",
            "_model_module_version": "1.5.0",
            "_model_name": "DescriptionStyleModel",
            "_view_count": null,
            "_view_module": "@jupyter-widgets/base",
            "_view_module_version": "1.2.0",
            "_view_name": "StyleView",
            "description_width": ""
          }
        }
      }
    }
  },
  "cells": [
    {
      "cell_type": "markdown",
      "metadata": {
        "id": "N1KJWYZn54iK"
      },
      "source": [
        "# Sentiment Analysis using BERT and TensorFlow\n",
        "\n",
        "[![Open In Colab](https://colab.research.google.com/assets/colab-badge.svg)](https://colab.research.google.com/github/SaschaHeyer/Sentiment-Analysis-GCP/blob/main/notebook/Sentiment_Analysis_BERT_and_TensorFlow.ipynb)\n",
        "\n",
        "This notebook contains the code for the DoiT blog article https://blog.doit-intl.com/performing-surprisingly-easy-sentiment-analysis-on-google-cloud-platform-fc26b2e2b4b. If you want to deploy this model to Google Cloud head over to the article. \n",
        " "
      ]
    },
    {
      "cell_type": "code",
      "source": [],
      "metadata": {
        "id": "tF0E1mHhGSdW"
      },
      "execution_count": null,
      "outputs": []
    },
    {
      "cell_type": "markdown",
      "metadata": {
        "id": "TW5Pun3x6lAB"
      },
      "source": [
        "## Author\n",
        "Sascha Heyer - Senior Machine Learning Engineer at [DoiT International](https://twitter.com/doitint)<br/>\n",
        "[Twitter](https://twitter.com/HeyerSascha)\n",
        "[LinkedIn](https://www.linkedin.com/in/saschaheyer/)\n"
      ]
    },
    {
      "cell_type": "markdown",
      "metadata": {
        "id": "rgqTDEbs53Xy"
      },
      "source": [
        "## Install Huggingface Transformers"
      ]
    },
    {
      "cell_type": "code",
      "metadata": {
        "colab": {
          "base_uri": "https://localhost:8080/"
        },
        "id": "pDI0zkwz51Zx",
        "outputId": "dc74883d-e5d1-41cf-8ed0-5ea3e15204c7"
      },
      "source": [
        "!pip install transformers"
      ],
      "execution_count": 2,
      "outputs": [
        {
          "output_type": "stream",
          "name": "stdout",
          "text": [
            "Looking in indexes: https://pypi.org/simple, https://us-python.pkg.dev/colab-wheels/public/simple/\n",
            "Collecting transformers\n",
            "  Downloading transformers-4.25.1-py3-none-any.whl (5.8 MB)\n",
            "\u001b[K     |████████████████████████████████| 5.8 MB 9.1 MB/s \n",
            "\u001b[?25hCollecting tokenizers!=0.11.3,<0.14,>=0.11.1\n",
            "  Downloading tokenizers-0.13.2-cp38-cp38-manylinux_2_17_x86_64.manylinux2014_x86_64.whl (7.6 MB)\n",
            "\u001b[K     |████████████████████████████████| 7.6 MB 69.8 MB/s \n",
            "\u001b[?25hRequirement already satisfied: tqdm>=4.27 in /usr/local/lib/python3.8/dist-packages (from transformers) (4.64.1)\n",
            "Requirement already satisfied: filelock in /usr/local/lib/python3.8/dist-packages (from transformers) (3.8.2)\n",
            "Requirement already satisfied: pyyaml>=5.1 in /usr/local/lib/python3.8/dist-packages (from transformers) (6.0)\n",
            "Collecting huggingface-hub<1.0,>=0.10.0\n",
            "  Downloading huggingface_hub-0.11.1-py3-none-any.whl (182 kB)\n",
            "\u001b[K     |████████████████████████████████| 182 kB 73.8 MB/s \n",
            "\u001b[?25hRequirement already satisfied: regex!=2019.12.17 in /usr/local/lib/python3.8/dist-packages (from transformers) (2022.6.2)\n",
            "Requirement already satisfied: requests in /usr/local/lib/python3.8/dist-packages (from transformers) (2.23.0)\n",
            "Requirement already satisfied: packaging>=20.0 in /usr/local/lib/python3.8/dist-packages (from transformers) (21.3)\n",
            "Requirement already satisfied: numpy>=1.17 in /usr/local/lib/python3.8/dist-packages (from transformers) (1.21.6)\n",
            "Requirement already satisfied: typing-extensions>=3.7.4.3 in /usr/local/lib/python3.8/dist-packages (from huggingface-hub<1.0,>=0.10.0->transformers) (4.4.0)\n",
            "Requirement already satisfied: pyparsing!=3.0.5,>=2.0.2 in /usr/local/lib/python3.8/dist-packages (from packaging>=20.0->transformers) (3.0.9)\n",
            "Requirement already satisfied: idna<3,>=2.5 in /usr/local/lib/python3.8/dist-packages (from requests->transformers) (2.10)\n",
            "Requirement already satisfied: certifi>=2017.4.17 in /usr/local/lib/python3.8/dist-packages (from requests->transformers) (2022.12.7)\n",
            "Requirement already satisfied: urllib3!=1.25.0,!=1.25.1,<1.26,>=1.21.1 in /usr/local/lib/python3.8/dist-packages (from requests->transformers) (1.24.3)\n",
            "Requirement already satisfied: chardet<4,>=3.0.2 in /usr/local/lib/python3.8/dist-packages (from requests->transformers) (3.0.4)\n",
            "Installing collected packages: tokenizers, huggingface-hub, transformers\n",
            "Successfully installed huggingface-hub-0.11.1 tokenizers-0.13.2 transformers-4.25.1\n"
          ]
        }
      ]
    },
    {
      "cell_type": "markdown",
      "metadata": {
        "id": "waE8kw01580p"
      },
      "source": [
        "## Dependencies"
      ]
    },
    {
      "cell_type": "code",
      "metadata": {
        "id": "w7Iz2pep588W"
      },
      "source": [
        "from transformers import DistilBertTokenizerFast\n",
        "from transformers import TFDistilBertForSequenceClassification\n",
        "\n",
        "import tensorflow as tf\n",
        "import json\n",
        "import pandas as pd\n",
        "import numpy as np\n",
        "from io import StringIO"
      ],
      "execution_count": 3,
      "outputs": []
    },
    {
      "cell_type": "markdown",
      "metadata": {
        "id": "kWeEqaaU7rnl"
      },
      "source": [
        "## Configuration\n",
        "\n",
        "First, you'll need to enable GPUs for the notebook:\n",
        "\n",
        "Navigate to Edit→Notebook Settings\n",
        "select GPU from the Hardware Accelerator drop-down"
      ]
    },
    {
      "cell_type": "code",
      "metadata": {
        "id": "5BZTxUn-gW5n",
        "colab": {
          "base_uri": "https://localhost:8080/"
        },
        "outputId": "9600526d-920e-489a-8d26-43562b69d39f"
      },
      "source": [
        "num_gpus_available = len(tf.config.experimental.list_physical_devices('GPU'))\n",
        "print(\"Num GPUs Available: \", num_gpus_available)\n",
        "assert num_gpus_available > 0"
      ],
      "execution_count": 4,
      "outputs": [
        {
          "output_type": "stream",
          "name": "stdout",
          "text": [
            "Num GPUs Available:  1\n"
          ]
        }
      ]
    },
    {
      "cell_type": "markdown",
      "metadata": {
        "id": "-asXRAWE59Cd"
      },
      "source": [
        "## Load dataset"
      ]
    },
    {
      "cell_type": "code",
      "source": [
        "\n"
      ],
      "metadata": {
        "id": "27L98XKQS_Ae"
      },
      "execution_count": null,
      "outputs": []
    },
    {
      "cell_type": "code",
      "metadata": {
        "id": "XQSLZH-q59HD"
      },
      "source": [
        "file = tf.io.gfile.GFile(\n",
        "'gs://machine-learning-samples/datasets/sentiment/imdb/csv/dataset.csv', mode='r').read()\n",
        "\n",
        "df = pd.read_excel('/content/messages.xlsx')\n",
        "df = df.dropna()\n",
        "df= df.astype(str)\n",
        "train_set = df[0:200]\n",
        "valid_set = df[200:300]"
      ],
      "execution_count": 5,
      "outputs": []
    },
    {
      "cell_type": "markdown",
      "metadata": {
        "id": "eIQSiegG59Mf"
      },
      "source": []
    },
    {
      "cell_type": "code",
      "metadata": {
        "colab": {
          "base_uri": "https://localhost:8080/",
          "height": 206
        },
        "id": "a4aCwunz59R6",
        "outputId": "3483f830-80c5-421e-eacb-c55db81eb53e"
      },
      "source": [
        "df.tail()"
      ],
      "execution_count": 6,
      "outputs": [
        {
          "output_type": "execute_result",
          "data": {
            "text/plain": [
              "                                              messages\n",
              "693                     The perfect occasion to fix it\n",
              "694                                     Not solved yet\n",
              "695  Sorry, I should have warned you that in this c...\n",
              "696                                         Extra line\n",
              "697                                              Fixed"
            ],
            "text/html": [
              "\n",
              "  <div id=\"df-996127eb-3162-4709-92a4-5c8add49edf9\">\n",
              "    <div class=\"colab-df-container\">\n",
              "      <div>\n",
              "<style scoped>\n",
              "    .dataframe tbody tr th:only-of-type {\n",
              "        vertical-align: middle;\n",
              "    }\n",
              "\n",
              "    .dataframe tbody tr th {\n",
              "        vertical-align: top;\n",
              "    }\n",
              "\n",
              "    .dataframe thead th {\n",
              "        text-align: right;\n",
              "    }\n",
              "</style>\n",
              "<table border=\"1\" class=\"dataframe\">\n",
              "  <thead>\n",
              "    <tr style=\"text-align: right;\">\n",
              "      <th></th>\n",
              "      <th>messages</th>\n",
              "    </tr>\n",
              "  </thead>\n",
              "  <tbody>\n",
              "    <tr>\n",
              "      <th>693</th>\n",
              "      <td>The perfect occasion to fix it</td>\n",
              "    </tr>\n",
              "    <tr>\n",
              "      <th>694</th>\n",
              "      <td>Not solved yet</td>\n",
              "    </tr>\n",
              "    <tr>\n",
              "      <th>695</th>\n",
              "      <td>Sorry, I should have warned you that in this c...</td>\n",
              "    </tr>\n",
              "    <tr>\n",
              "      <th>696</th>\n",
              "      <td>Extra line</td>\n",
              "    </tr>\n",
              "    <tr>\n",
              "      <th>697</th>\n",
              "      <td>Fixed</td>\n",
              "    </tr>\n",
              "  </tbody>\n",
              "</table>\n",
              "</div>\n",
              "      <button class=\"colab-df-convert\" onclick=\"convertToInteractive('df-996127eb-3162-4709-92a4-5c8add49edf9')\"\n",
              "              title=\"Convert this dataframe to an interactive table.\"\n",
              "              style=\"display:none;\">\n",
              "        \n",
              "  <svg xmlns=\"http://www.w3.org/2000/svg\" height=\"24px\"viewBox=\"0 0 24 24\"\n",
              "       width=\"24px\">\n",
              "    <path d=\"M0 0h24v24H0V0z\" fill=\"none\"/>\n",
              "    <path d=\"M18.56 5.44l.94 2.06.94-2.06 2.06-.94-2.06-.94-.94-2.06-.94 2.06-2.06.94zm-11 1L8.5 8.5l.94-2.06 2.06-.94-2.06-.94L8.5 2.5l-.94 2.06-2.06.94zm10 10l.94 2.06.94-2.06 2.06-.94-2.06-.94-.94-2.06-.94 2.06-2.06.94z\"/><path d=\"M17.41 7.96l-1.37-1.37c-.4-.4-.92-.59-1.43-.59-.52 0-1.04.2-1.43.59L10.3 9.45l-7.72 7.72c-.78.78-.78 2.05 0 2.83L4 21.41c.39.39.9.59 1.41.59.51 0 1.02-.2 1.41-.59l7.78-7.78 2.81-2.81c.8-.78.8-2.07 0-2.86zM5.41 20L4 18.59l7.72-7.72 1.47 1.35L5.41 20z\"/>\n",
              "  </svg>\n",
              "      </button>\n",
              "      \n",
              "  <style>\n",
              "    .colab-df-container {\n",
              "      display:flex;\n",
              "      flex-wrap:wrap;\n",
              "      gap: 12px;\n",
              "    }\n",
              "\n",
              "    .colab-df-convert {\n",
              "      background-color: #E8F0FE;\n",
              "      border: none;\n",
              "      border-radius: 50%;\n",
              "      cursor: pointer;\n",
              "      display: none;\n",
              "      fill: #1967D2;\n",
              "      height: 32px;\n",
              "      padding: 0 0 0 0;\n",
              "      width: 32px;\n",
              "    }\n",
              "\n",
              "    .colab-df-convert:hover {\n",
              "      background-color: #E2EBFA;\n",
              "      box-shadow: 0px 1px 2px rgba(60, 64, 67, 0.3), 0px 1px 3px 1px rgba(60, 64, 67, 0.15);\n",
              "      fill: #174EA6;\n",
              "    }\n",
              "\n",
              "    [theme=dark] .colab-df-convert {\n",
              "      background-color: #3B4455;\n",
              "      fill: #D2E3FC;\n",
              "    }\n",
              "\n",
              "    [theme=dark] .colab-df-convert:hover {\n",
              "      background-color: #434B5C;\n",
              "      box-shadow: 0px 1px 3px 1px rgba(0, 0, 0, 0.15);\n",
              "      filter: drop-shadow(0px 1px 2px rgba(0, 0, 0, 0.3));\n",
              "      fill: #FFFFFF;\n",
              "    }\n",
              "  </style>\n",
              "\n",
              "      <script>\n",
              "        const buttonEl =\n",
              "          document.querySelector('#df-996127eb-3162-4709-92a4-5c8add49edf9 button.colab-df-convert');\n",
              "        buttonEl.style.display =\n",
              "          google.colab.kernel.accessAllowed ? 'block' : 'none';\n",
              "\n",
              "        async function convertToInteractive(key) {\n",
              "          const element = document.querySelector('#df-996127eb-3162-4709-92a4-5c8add49edf9');\n",
              "          const dataTable =\n",
              "            await google.colab.kernel.invokeFunction('convertToInteractive',\n",
              "                                                     [key], {});\n",
              "          if (!dataTable) return;\n",
              "\n",
              "          const docLinkHtml = 'Like what you see? Visit the ' +\n",
              "            '<a target=\"_blank\" href=https://colab.research.google.com/notebooks/data_table.ipynb>data table notebook</a>'\n",
              "            + ' to learn more about interactive tables.';\n",
              "          element.innerHTML = '';\n",
              "          dataTable['output_type'] = 'display_data';\n",
              "          await google.colab.output.renderOutput(dataTable, element);\n",
              "          const docLink = document.createElement('div');\n",
              "          docLink.innerHTML = docLinkHtml;\n",
              "          element.appendChild(docLink);\n",
              "        }\n",
              "      </script>\n",
              "    </div>\n",
              "  </div>\n",
              "  "
            ]
          },
          "metadata": {},
          "execution_count": 6
        }
      ]
    },
    {
      "cell_type": "markdown",
      "metadata": {
        "id": "kYvAXfJK6OYJ"
      },
      "source": [
        "## Train / Validation split"
      ]
    },
    {
      "cell_type": "code",
      "source": [],
      "metadata": {
        "colab": {
          "base_uri": "https://localhost:8080/"
        },
        "id": "yss-gn7G5r5T",
        "outputId": "9720136b-4458-4dcf-c2aa-f57eb112327b"
      },
      "execution_count": null,
      "outputs": [
        {
          "output_type": "stream",
          "name": "stdout",
          "text": [
            "['@beltran-rubo @juan131 please review this again.', '@vikram-bitnami @juan131 can you sync about those PRs (https://github.com/bitnami/charts-docs/pull/10 and https://github.com/bitnami/charts-docs/pull/11)? It seems you are (partially) modifying the same files at the same time 😄 ', '@vikram-bitnami @juan131 can you sync about those PRs (https://github.com/bitnami/charts-docs/pull/10 and https://github.com/bitnami/charts-docs/pull/11)? It seems you are (partially) modifying the same files at the same time 😄 ', '> @vikram-bitnami @juan131 can you sync about those PRs (#10 and #11)? It seems you are (partially) modifying the same files at the same time smile_x000D_\\n_x000D_\\nIndeed, we are discussing this offline.', 'Closing in favour of https://github.com/bitnami/charts-docs/pull/11', '@juan131 can this be merged now? Or if not please let me know when it could be merged. Thanks.', 'Approved.', 'Just an FYI @raquel-campuzano that there is a plan to to delete all the individual `sidecar` sections and creating a common one that will be reused in all charts. This is because the content of these sections is almost identical across charts. More info T39353', 'FYI @raquel-campuzano as these sections can be reused for new docs.', 'Merge after several requested changes introduced. ', 'This PR covers all the common section changes discussed with @javsalgar in the \"Configuration 2\" tab of the proposal document, EXCEPT the changes for the TLS section which are under discussion. TLS changes will be added once pending questions are clarified.', '@javsalgar @juan131 could you please review this?', 'Please recheck @javsalgar @juan131 - thanks', '@juan131 updated and replied to your comments', \"Hi @krichter722 ,_x000D_\\nSpecifying an existing secret the passwords inside the secret won't be autogenerated by helm so you should not face the issue since the passwords won't change\", 'Please check again @miguelaeh ', 'Note that you will need to update the app/infra cook files in BDS to add the new section as well. ', 'The main changes here are:_x000D_\\n- using variable names for the repository and the catalog in all content_x000D_\\n- updating the metadata to include the new platform_x000D_\\n- customized installation steps for each platform_x000D_\\n_x000D_\\nIt is a large diff because of the global replacement for variables.', 'Hi @vikram-bitnami ,_x000D_\\n  I am not very sure about the change:_x000D_\\n_x000D_\\n```console_x000D_\\n$ helm install MY-RELEASE  ...._x000D_\\n```_x000D_\\n  My concern is that users usually copy and paste from instructions and if they use capitals for the deployment name they are going to have errors like this:_x000D_\\n_x000D_\\n```console_x000D_\\n$ helm install MY-RELEASE bitnami/mysql_x000D_\\nError: create: failed to create: Secret \"sh.helm.release.v1.MY-RELEASE.v1\" is invalid: metadata.name: Invalid value: \"sh.helm.release.v1.MY-RELEASE.v1\": a lowercase RFC 1123 subdomain must consist of lower case alphanumeric characters, \\'-\\' or \\'.\\', and must start and end with an alphanumeric character (e.g. \\'example.com\\', regex used for validation is \\'[a-z0-9]([-a-z0-9]*[a-z0-9])?(\\\\.[a-z0-9]([-a-z0-9]*[a-z0-9])?)*\\')_x000D_\\n```', '> Hi @vikram-bitnami ,_x000D_\\n> I am not very sure about the change:_x000D_\\n> _x000D_\\n> ```_x000D_\\n> $ helm install MY-RELEASE  ...._x000D_\\n> ```_x000D_\\n> _x000D_\\n> My concern is that users usually copy and paste from instructions and if they use capitals for the deployment name they are going to have errors like this:_x000D_\\n> _x000D_\\n> ```_x000D_\\n> $ helm install MY-RELEASE bitnami/mysql_x000D_\\n> Error: create: failed to create: Secret \"sh.helm.release.v1.MY-RELEASE.v1\" is invalid: metadata.name: Invalid value: \"sh.helm.release.v1.MY-RELEASE.v1\": a lowercase RFC 1123 subdomain must consist of lower case alphanumeric characters, \\'-\\' or \\'.\\', and must start and end with an alphanumeric character (e.g. \\'example.com\\', regex used for validation is \\'[a-z0-9]([-a-z0-9]*[a-z0-9])?(\\\\.[a-z0-9]([-a-z0-9]*[a-z0-9])?)*\\')_x000D_\\n> ```_x000D_\\n_x000D_\\nThanks for pointing this out. I have made a separate task for this (to make it easier for review as there are many files this change will touch) and pinged you in it. For the moment, I have also updated this diff to include a note on the naming rules for release names.', '/assign @HumairAK ', '/kind feature', \"Hi @alvneiayu,_x000D_\\n_x000D_\\nYour PR looks good to me, but I noticed that your examples are using `k` as alias for `kubectl`._x000D_\\nAlthough `k` is widely used, I'd recommend using the full command instead of the alias as not every user may have the alias configured and could find the examples confusing._x000D_\\n\", 'Done, thanks @migruiz4. Good catch', 'LGTM_x000D_\\n', \"Apart from Vikram's comments, it LGTM.\", \"Thanks for the PR. Let's block this until https://github.com/bitnami/charts/pull/6806 is solved._x000D_\\n\", 'https://github.com/bitnami/charts/pull/6806 is merged, this can be unblocked.', 'Now that this is unblocked, can you review it again, @vikram-bitnami ?', 'Hi @vikram-bitnami thank you for your PR, it is expected to have the original template filled with \"Description of the change\", \"Benefits\", \"Possible drawbacks\", \"Applicable issues\" and \"Additional information\". Since this is only documentation maybe it would be enough with \"Description of the change\". Please let me know whether you agree since I know that you are the one in charge of documentation and I\\'m not pretty sure I\\'m requesting something uncommon.', 'Please check if OK to merge now @juan131 @javsalgar ', '> Hi @vikram-bitnami thank you for your PR, it is expected to have the original template filled with \"Description of the change\", \"Benefits\", \"Possible drawbacks\", \"Applicable issues\" and \"Additional information\". Since this is only documentation maybe it would be enough with \"Description of the change\". Please let me know whether you agree since I know that you are the one in charge of documentation and I\\'m not pretty sure I\\'m requesting something uncommon._x000D_\\n_x000D_\\n@randradas Thanks for the comment. _x000D_\\n- I have already added Description and Additional info in the original PR https://github.com/bitnami/charts/pull/7389 and now further updated it with Benefits. Hope that is fine, let me know in case you need further information._x000D_\\n- For this repo, we don\\'t have any specific format or template for PRs ', '> > Hi @vikram-bitnami thank you for your PR, it is expected to have the original template filled with \"Description of the change\", \"Benefits\", \"Possible drawbacks\", \"Applicable issues\" and \"Additional information\". Since this is only documentation maybe it would be enough with \"Description of the change\". Please let me know whether you agree since I know that you are the one in charge of documentation and I\\'m not pretty sure I\\'m requesting something uncommon._x000D_\\n_x000D_\\nAs additional context, these PRs are part of a larger task to reduce the overall README size and move examples and large sections to the docs.bitnami.com site. That\\'s why there is no specific description but rather, each README/chart is being processed in sequence and a PR created for each change in both charts and charts-docs repo. Please see T41076 and similar tasks for more info.', 'LGTM.', \"hello @juan-vg thank you for your issue, we strongly like to encourage to collab with the repos, would you mind to send a PR to fix?. In case you don't let me know. Thank you!\", 'LGTM!', \"Hey @randradas! I'm not sending PR because I'm clueless about this topic. Honestly, I've opened this issue to get more info. Anyways, if I discover something new I will send updates.\", 'I read the doc and it looks like that comment want to explain that the following parameter is to \"enable or disable\" the \\'appendonly\\' option. That comment is not specific about disabling. In fact it is a copy&paste from the values.yaml file:_x000D_\\n_x000D_\\nhttps://github.com/bitnami/charts/blob/ae086acff0dd7c4f4b3101ebf1a7328e6a8ddcf5/bitnami/redis/values.yaml#L131', \"Hello @randradas! _x000D_\\n_x000D_\\nFor the comment I agree with you. I understand it was a copy&paste from values, but it could lead to misunderstanding about what's being done._x000D_\\n_x000D_\\nAs I told you I need more info but it's not about the first point, but the second._x000D_\\n_x000D_\\n> 2. At the end of the doc it's not clear if appendonly could/should be enabled again or not._x000D_\\n_x000D_\\nThis is where the doc is unclear about further steps and how to continue the operative.\", \"Ok well, you need to create PVCs where the dump will be copied. In order to do that, a new cluster is created with such only purpose (let's call it _temporal cluster_), once the PVCs are created then the _temporal cluster_ is deleted._x000D_\\n_x000D_\\nAOF is used to enable persistence when Redis is stopped, restarted, etc... When AOF is disabled then every in-memory information that could exist will be lost forever. Since we are only interested in PVCs and then loading our own dump into the PVCs we do not need to persist the in-memory _temporal redis_ cluster information._x000D_\\n_x000D_\\nOnce the dump is in the PVC you can start the definitive cluster with the values.yaml configuration you prefer, including AOF enabled in order to persist in-memory information if you need.\", 'I think we should just keep @tumido and @HumairAK as admins, two admins for two different timezones.', '[APPROVALNOTIFIER] This PR is **NOT APPROVED**_x000D_\\n_x000D_\\nThis pull-request has been approved by:_x000D_\\nTo complete the [pull request process](https://git.k8s.io/community/contributors/guide/owners.md#the-code-review-process), please assign **durandom** after the PR has been reviewed._x000D_\\nYou can assign the PR to them by writing `/assign @durandom` in a comment when ready._x000D_\\n_x000D_\\nThe full list of commands accepted by this bot can be found [here](https://go.k8s.io/bot-commands?repo=operate-first%2Fblueprint)._x000D_\\n_x000D_\\n<details open>_x000D_\\nNeeds approval from an approver in each of these files:_x000D_\\n_x000D_\\n- **[OWNERS](https://github.com/operate-first/blueprint/blob/main/OWNERS)**_x000D_\\n_x000D_\\nApprovers can indicate their approval by writing `/approve` in a comment_x000D_\\nApprovers can cancel approval by writing `/approve cancel` in a comment_x000D_\\n</details>_x000D_\\n<!-- META={\"approvers\":[\"durandom\"]} -->', '[APPROVALNOTIFIER] This PR is **APPROVED**_x000D_\\n_x000D_\\nThis pull-request has been approved by: *<a href=\"https://github.com/operate-first/blueprint/pull/1#pullrequestreview-524145890\" title=\"Approved\">durandom</a>*_x000D_\\n_x000D_\\nThe full list of commands accepted by this bot can be found [here](https://go.k8s.io/bot-commands?repo=operate-first%2Fblueprint)._x000D_\\n_x000D_\\nThe pull request process is described [here](https://git.k8s.io/community/contributors/guide/owners.md#the-code-review-process)_x000D_\\n_x000D_\\n<details >_x000D_\\nNeeds approval from an approver in each of these files:_x000D_\\n_x000D_\\n- ~~[OWNERS](https://github.com/operate-first/blueprint/blob/main/OWNERS)~~ [durandom]_x000D_\\n_x000D_\\nApprovers can indicate their approval by writing `/approve` in a comment_x000D_\\nApprovers can cancel approval by writing `/approve cancel` in a comment_x000D_\\n</details>_x000D_\\n<!-- META={\"approvers\":[]} -->', '/lgtm', '[APPROVALNOTIFIER] This PR is **APPROVED**_x000D_\\n_x000D_\\nThis pull-request has been approved by: *<a href=\"https://github.com/operate-first/blueprint/pull/4#pullrequestreview-527573010\" title=\"Approved\">goern</a>*_x000D_\\n_x000D_\\nThe full list of commands accepted by this bot can be found [here](https://go.k8s.io/bot-commands?repo=operate-first%2Fblueprint)._x000D_\\n_x000D_\\nThe pull request process is described [here](https://git.k8s.io/community/contributors/guide/owners.md#the-code-review-process)_x000D_\\n_x000D_\\n<details >_x000D_\\nNeeds approval from an approver in each of these files:_x000D_\\n_x000D_\\n- ~~[OWNERS](https://github.com/operate-first/blueprint/blob/main/OWNERS)~~ [goern]_x000D_\\n_x000D_\\nApprovers can indicate their approval by writing `/approve` in a comment_x000D_\\nApprovers can cancel approval by writing `/approve cancel` in a comment_x000D_\\n</details>_x000D_\\n<!-- META={\"approvers\":[]} -->', '/approve', '[APPROVALNOTIFIER] This PR is **APPROVED**_x000D_\\n_x000D_\\nThis pull-request has been approved by: *<a href=\"https://github.com/operate-first/blueprint/pull/3#issuecomment-725270458\" title=\"Approved\">goern</a>*, *<a href=\"https://github.com/operate-first/blueprint/pull/3#pullrequestreview-527568113\" title=\"Approved\">MichaelClifford</a>*_x000D_\\n_x000D_\\nThe full list of commands accepted by this bot can be found [here](https://go.k8s.io/bot-commands?repo=operate-first%2Fblueprint)._x000D_\\n_x000D_\\nThe pull request process is described [here](https://git.k8s.io/community/contributors/guide/owners.md#the-code-review-process)_x000D_\\n_x000D_\\n<details >_x000D_\\nNeeds approval from an approver in each of these files:_x000D_\\n_x000D_\\n- ~~[OWNERS](https://github.com/operate-first/blueprint/blob/main/OWNERS)~~ [goern]_x000D_\\n_x000D_\\nApprovers can indicate their approval by writing `/approve` in a comment_x000D_\\nApprovers can cancel approval by writing `/approve cancel` in a comment_x000D_\\n</details>_x000D_\\n<!-- META={\"approvers\":[]} -->', '[APPROVALNOTIFIER] This PR is **APPROVED**_x000D_\\n_x000D_\\nThis pull-request has been approved by: *<a href=\"https://github.com/operate-first/blueprint/pull/6#pullrequestreview-537523223\" title=\"Approved\">durandom</a>*_x000D_\\n_x000D_\\nThe full list of commands accepted by this bot can be found [here](https://go.k8s.io/bot-commands?repo=operate-first%2Fblueprint)._x000D_\\n_x000D_\\nThe pull request process is described [here](https://git.k8s.io/community/contributors/guide/owners.md#the-code-review-process)_x000D_\\n_x000D_\\n<details >_x000D_\\nNeeds approval from an approver in each of these files:_x000D_\\n_x000D_\\n- ~~[OWNERS](https://github.com/operate-first/blueprint/blob/main/OWNERS)~~ [durandom]_x000D_\\n_x000D_\\nApprovers can indicate their approval by writing `/approve` in a comment_x000D_\\nApprovers can cancel approval by writing `/approve cancel` in a comment_x000D_\\n</details>_x000D_\\n<!-- META={\"approvers\":[]} -->', '[APPROVALNOTIFIER] This PR is **NOT APPROVED**_x000D_\\n_x000D_\\nThis pull-request has been approved by: *<a href=\"https://github.com/operate-first/blueprint/pull/5#pullrequestreview-537749483\" title=\"Approved\">tumido</a>*_x000D_\\nTo complete the [pull request process](https://git.k8s.io/community/contributors/guide/owners.md#the-code-review-process), please assign **goern** after the PR has been reviewed._x000D_\\nYou can assign the PR to them by writing `/assign @goern` in a comment when ready._x000D_\\n_x000D_\\nThe full list of commands accepted by this bot can be found [here](https://go.k8s.io/bot-commands?repo=operate-first%2Fblueprint)._x000D_\\n_x000D_\\n<details open>_x000D_\\nNeeds approval from an approver in each of these files:_x000D_\\n_x000D_\\n- **[OWNERS](https://github.com/operate-first/blueprint/blob/main/OWNERS)**_x000D_\\n_x000D_\\nApprovers can indicate their approval by writing `/approve` in a comment_x000D_\\nApprovers can cancel approval by writing `/approve cancel` in a comment_x000D_\\n</details>_x000D_\\n<!-- META={\"approvers\":[\"goern\"]} -->', \"/hold Don't want it getting merged with a single approval\", '@hemajv see if the adr doc for github alerts can be incorporated here', \"If we're happy with this can we get this merged? _x000D_\\n_x000D_\\n@durandom  -- wdyt? \", 'Since we have decided (relevant [issue](https://github.com/operate-first/apps/issues/57)) to keep a single Prometheus instance that monitors all the other component namespaces. _x000D_\\n_x000D_\\nNow we need to decide where to keep our service-monitors/pod-monitors resources. _x000D_\\n_x000D_\\nFor the ODH components these resources will probably go in the [upstream odh-manifests](https://github.com/operate-first/apps/issues/57) but we will still need to add  the following overlay to the upstream monitors: _x000D_\\n```yaml_x000D_\\nspec:_x000D_\\n    namespaceSelector:_x000D_\\n        matchNames:_x000D_\\n          - opf-observatorium # The namespace where the component is deployed in_x000D_\\n```_x000D_\\n', '[APPROVALNOTIFIER] This PR is **APPROVED**_x000D_\\n_x000D_\\nThis pull-request has been approved by: *<a href=\"https://github.com/operate-first/blueprint/pull/7#pullrequestreview-546157916\" title=\"Approved\">anishasthana</a>*, *<a href=\"https://github.com/operate-first/blueprint/pull/7#pullrequestreview-551290364\" title=\"Approved\">durandom</a>*, *<a href=\"https://github.com/operate-first/blueprint/pull/7#pullrequestreview-545982102\" title=\"Approved\">tumido</a>*_x000D_\\n_x000D_\\nThe full list of commands accepted by this bot can be found [here](https://go.k8s.io/bot-commands?repo=operate-first%2Fblueprint)._x000D_\\n_x000D_\\nThe pull request process is described [here](https://git.k8s.io/community/contributors/guide/owners.md#the-code-review-process)_x000D_\\n_x000D_\\n<details >_x000D_\\nNeeds approval from an approver in each of these files:_x000D_\\n_x000D_\\n- ~~[OWNERS](https://github.com/operate-first/blueprint/blob/main/OWNERS)~~ [durandom]_x000D_\\n_x000D_\\nApprovers can indicate their approval by writing `/approve` in a comment_x000D_\\nApprovers can cancel approval by writing `/approve cancel` in a comment_x000D_\\n</details>_x000D_\\n<!-- META={\"approvers\":[]} -->', '/unhold_x000D_\\n_x000D_\\n', \"If the service monitors and pod monitors are to go in the same namespace as prometheus, then I think the monitoring folder makes sense. I think we can put them in the base since they aren't environment specific, then inherit them in all the overlays -- wdyt? \", '@HumairAK @anishasthana I was thinking of keeping just one servicemonitor resource which looks into multiple namespaces. Maybe we can make this change upstream and only overlay the list of namespaces in operatefirst overlays?', \"I like the idea of having one servicemonitor for odh, _x000D_\\n_x000D_\\nIt would be nice if we could specify a list of namespaces as a parameter in the kfdef that would be populated in the servicemonitor so we don't need to do an override. \", \"I am not opposed to it, but we should ask the monitoring team what they think. I wonder if it's abusing the idea of service monitors.\", 'I was able to test a service monitor that was able to monitor different services in multiple namespaces._x000D_\\n_x000D_\\n```yaml_x000D_\\n---_x000D_\\napiVersion: monitoring.coreos.com/v1_x000D_\\nkind: ServiceMonitor_x000D_\\nmetadata:_x000D_\\n  name: multiservice-monitor_x000D_\\n  labels:_x000D_\\n    k8s-app: prometheus_x000D_\\n  namespace: opf-stage_x000D_\\nspec:_x000D_\\n  endpoints:_x000D_\\n    - port: metrics_x000D_\\n    - port: 8080-tcp_x000D_\\n  namespaceSelector:_x000D_\\n    matchNames:_x000D_\\n      - opf-observatorium_x000D_\\n      - opf-jupyterhub_x000D_\\n  selector: {}_x000D_\\n```_x000D_\\nThis works well. I think we should try to get something like this pushed upstream and only set the `namespaceSelector` as an overlay on the operatefirst side.', '/retest', '@martinpovolny  ignore the tests for now, we dont have ci files in this repo yet. ', '[APPROVALNOTIFIER] This PR is **NOT APPROVED**_x000D_\\n_x000D_\\nThis pull-request has been approved by: *<a href=\"https://github.com/operate-first/blueprint/pull/11#pullrequestreview-553743373\" title=\"Approved\">HumairAK</a>*_x000D_\\nTo complete the [pull request process](https://git.k8s.io/community/contributors/guide/owners.md#the-code-review-process), please assign **durandom** after the PR has been reviewed._x000D_\\nYou can assign the PR to them by writing `/assign @durandom` in a comment when ready._x000D_\\n_x000D_\\nThe full list of commands accepted by this bot can be found [here](https://go.k8s.io/bot-commands?repo=operate-first%2Fblueprint)._x000D_\\n_x000D_\\n<details open>_x000D_\\nNeeds approval from an approver in each of these files:_x000D_\\n_x000D_\\n- **[OWNERS](https://github.com/operate-first/blueprint/blob/main/OWNERS)**_x000D_\\n_x000D_\\nApprovers can indicate their approval by writing `/approve` in a comment_x000D_\\nApprovers can cancel approval by writing `/approve cancel` in a comment_x000D_\\n</details>_x000D_\\n<!-- META={\"approvers\":[\"durandom\"]} -->', 'Let\\'s start with the 2 personas we have in our own team. That would be _x000D_\\n_x000D_\\n* Service Operator _x000D_\\n* Service Consumer_x000D_\\n_x000D_\\n\"Service\" is a placeholder for every ODH and non-ODH component we\\'re running. _x000D_\\n_x000D_\\n', '/retest', 'How about using a well defined structure for writing the user stories? I remember Cucumber for Behavior Driven Development. This [blog post](https://medium.com/@nic/writing-user-stories-with-gherkin-dda63461b1d2) explains it a bit._x000D_\\n_x000D_\\n', 'Ignore the build-check test failing, this should be resolved after the pr is merged. ', 'So this covers the prometheus aspect of monitoring, what about grafana/alerting? ', '> So this covers the prometheus aspect of monitoring, what about grafana/alerting?_x000D_\\n_x000D_\\nI was thinking we can create separate ADRs for visualization and alerting', 'SourceOps should stay as is, as it contains Sesheta and enables bots and tools to work on the source_x000D_\\n_x000D_\\nWe should have one group of humans that are able to push-force into all repos, this is handy to apply hotfixes (aka bypassing PR-review process).', '/sig devops_x000D_\\n/sig cyborgs', '/sig user-experience', '/kind feature_x000D_\\n', '[APPROVALNOTIFIER] This PR is **NOT APPROVED**_x000D_\\n_x000D_\\nThis pull-request has been approved by: *<a href=\"https://github.com/operate-first/blueprint/pull/15#pullrequestreview-563627181\" title=\"Approved\">4n4nd</a>*, *<a href=\"https://github.com/operate-first/blueprint/pull/15#pullrequestreview-563643648\" title=\"Approved\">hemajv</a>*_x000D_\\nTo complete the [pull request process](https://git.k8s.io/community/contributors/guide/owners.md#the-code-review-process), please assign **goern** after the PR has been reviewed._x000D_\\nYou can assign the PR to them by writing `/assign @goern` in a comment when ready._x000D_\\n_x000D_\\nThe full list of commands accepted by this bot can be found [here](https://go.k8s.io/bot-commands?repo=operate-first%2Fblueprint)._x000D_\\n_x000D_\\n<details open>_x000D_\\nNeeds approval from an approver in each of these files:_x000D_\\n_x000D_\\n- **[OWNERS](https://github.com/operate-first/blueprint/blob/main/OWNERS)**_x000D_\\n_x000D_\\nApprovers can indicate their approval by writing `/approve` in a comment_x000D_\\nApprovers can cancel approval by writing `/approve cancel` in a comment_x000D_\\n</details>_x000D_\\n<!-- META={\"approvers\":[\"goern\"]} -->', '/retest', 'Hi @4n4nd', '      Unauthorised to run /retest command.', '/retest', 'Hi @4n4nd', '      Unauthorised to run /retest command.', '/retest', '> @hemajv see if the adr doc for github alerts can be incorporated here_x000D_\\n_x000D_\\nI think it would be easier to have a separate ADR for this._x000D_\\ncreated #16, for adding the ADR of our alerting setup', '/retest', '/retest', 'cc @goern with https://github.com/operate-first/apps/issues/108', '/regate', '/recheck', '[APPROVALNOTIFIER] This PR is **APPROVED**_x000D_\\n_x000D_\\nApproval requirements bypassed by manually added approval._x000D_\\n_x000D_\\nThis pull-request has been approved by: *<a href=\"https://github.com/operate-first/blueprint/pull/13#pullrequestreview-568567770\" title=\"Approved\">anishasthana</a>*, *<a href=\"https://github.com/operate-first/blueprint/pull/13#pullrequestreview-568541739\" title=\"Approved\">hemajv</a>*_x000D_\\n_x000D_\\nThe full list of commands accepted by this bot can be found [here](https://go.k8s.io/bot-commands?repo=operate-first%2Fblueprint)._x000D_\\n_x000D_\\nThe pull request process is described [here](https://git.k8s.io/community/contributors/guide/owners.md#the-code-review-process)_x000D_\\n_x000D_\\n<details >_x000D_\\nNeeds approval from an approver in each of these files:_x000D_\\n_x000D_\\n- **[OWNERS](https://github.com/operate-first/blueprint/blob/main/OWNERS)**_x000D_\\n_x000D_\\nApprovers can indicate their approval by writing `/approve` in a comment_x000D_\\nApprovers can cancel approval by writing `/approve cancel` in a comment_x000D_\\n</details>_x000D_\\n<!-- META={\"approvers\":[\"durandom\"]} -->', '/hold', \"/hold _x000D_\\nLet's get this [pr](https://github.com/operate-first/blueprint/pull/17) in first. \", '@tumido _x000D_\\n_x000D_\\nWhat do you think of tying in operators, clusterrolebindings, etc. into the language here along with namespaces/groups/etc. As these will be manifests we commonly have to deploy._x000D_\\n_x000D_\\n[Relevant](https://github.com/open-infrastructure-labs/ops-issues/issues/6)', \"> What do you think of tying in operators, clusterrolebindings, etc_x000D_\\n_x000D_\\n@HumairAK very good point! I'll include that. :slightly_smiling_face: \", '@tumido I think this is great :+1: ', '[APPROVALNOTIFIER] This PR is **NOT APPROVED**_x000D_\\n_x000D_\\nThis pull-request has been approved by: *<a href=\"https://github.com/operate-first/blueprint/pull/20#pullrequestreview-570715132\" title=\"Approved\">4n4nd</a>*, *<a href=\"https://github.com/operate-first/blueprint/pull/20#pullrequestreview-571386944\" title=\"Approved\">anishasthana</a>*, *<a href=\"https://github.com/operate-first/blueprint/pull/20#pullrequestreview-571148123\" title=\"Approved\">tumido</a>*_x000D_\\nTo complete the [pull request process](https://git.k8s.io/community/contributors/guide/owners.md#the-code-review-process), please assign **goern** after the PR has been reviewed._x000D_\\nYou can assign the PR to them by writing `/assign @goern` in a comment when ready._x000D_\\n_x000D_\\nThe full list of commands accepted by this bot can be found [here](https://go.k8s.io/bot-commands?repo=operate-first%2Fblueprint)._x000D_\\n_x000D_\\n<details open>_x000D_\\nNeeds approval from an approver in each of these files:_x000D_\\n_x000D_\\n- **[OWNERS](https://github.com/operate-first/blueprint/blob/main/OWNERS)**_x000D_\\n_x000D_\\nApprovers can indicate their approval by writing `/approve` in a comment_x000D_\\nApprovers can cancel approval by writing `/approve cancel` in a comment_x000D_\\n</details>_x000D_\\n<!-- META={\"approvers\":[\"goern\"]} -->', 'One minor mistake, but outside of that I think this looks good.', '/hold', 'Split it into ops-admins and ops, perhaps? ops-admins would consist of @tumido , @4n4nd , and @HumairAK . Everyone else would be dumped into ops.', '[APPROVALNOTIFIER] This PR is **NOT APPROVED**_x000D_\\n_x000D_\\nThis pull-request has been approved by: *<a href=\"https://github.com/operate-first/blueprint/pull/19#pullrequestreview-571374051\" title=\"Approved\">4n4nd</a>*, *<a href=\"https://github.com/operate-first/blueprint/pull/19#pullrequestreview-571417406\" title=\"Approved\">anishasthana</a>*_x000D_\\nTo complete the [pull request process](https://git.k8s.io/community/contributors/guide/owners.md#the-code-review-process), please assign **goern** after the PR has been reviewed._x000D_\\nYou can assign the PR to them by writing `/assign @goern` in a comment when ready._x000D_\\n_x000D_\\nThe full list of commands accepted by this bot can be found [here](https://go.k8s.io/bot-commands?repo=operate-first%2Fblueprint)._x000D_\\n_x000D_\\n<details open>_x000D_\\nNeeds approval from an approver in each of these files:_x000D_\\n_x000D_\\n- **[OWNERS](https://github.com/operate-first/blueprint/blob/main/OWNERS)**_x000D_\\n_x000D_\\nApprovers can indicate their approval by writing `/approve` in a comment_x000D_\\nApprovers can cancel approval by writing `/approve cancel` in a comment_x000D_\\n</details>_x000D_\\n<!-- META={\"approvers\":[\"goern\"]} -->', '/hold', '[APPROVALNOTIFIER] This PR is **NOT APPROVED**_x000D_\\n_x000D_\\nThis pull-request has been approved by: *<a href=\"https://github.com/operate-first/blueprint/pull/17#pullrequestreview-569605796\" title=\"Approved\">4n4nd</a>*, *<a href=\"https://github.com/operate-first/blueprint/pull/17#pullrequestreview-571422209\" title=\"Approved\">anishasthana</a>*, *<a href=\"https://github.com/operate-first/blueprint/pull/17#pullrequestreview-571406341\" title=\"Approved\">tumido</a>*_x000D_\\nTo complete the [pull request process](https://git.k8s.io/community/contributors/guide/owners.md#the-code-review-process), please assign **durandom** after the PR has been reviewed._x000D_\\nYou can assign the PR to them by writing `/assign @durandom` in a comment when ready._x000D_\\n_x000D_\\nThe full list of commands accepted by this bot can be found [here](https://go.k8s.io/bot-commands?repo=operate-first%2Fblueprint)._x000D_\\n_x000D_\\n<details open>_x000D_\\nNeeds approval from an approver in each of these files:_x000D_\\n_x000D_\\n- **[OWNERS](https://github.com/operate-first/blueprint/blob/main/OWNERS)**_x000D_\\n_x000D_\\nApprovers can indicate their approval by writing `/approve` in a comment_x000D_\\nApprovers can cancel approval by writing `/approve cancel` in a comment_x000D_\\n</details>_x000D_\\n<!-- META={\"approvers\":[\"durandom\"]} -->', '/unhold', '/unhold', 'bump for more discussion', 'I\\'d add few more personas to consider from top of my head:_x000D_\\n_x000D_\\n- System Integrator_x000D_\\n- Platform maintainer (overlaps the Humair\\'s \"Users looking to emulate our setup\")_x000D_\\n- Solution Architect/Technology scout_x000D_\\n_x000D_\\n### System integrator_x000D_\\nTo me this persona signifies somebody who wants to integrate their application into our setup and make it accessible for our users on clusters managed by us. This persons has to be able to obtain the knowledge and understanding into:_x000D_\\n- How our setup works in general so they can verify we are genuine and trustworthy._x000D_\\n- what steps he should take to be included - from namespace and user groups creation and creating ArgoCD apps, to how to structure their application manifests to be able to  deploy everything they have in their repository, in a single step._x000D_\\n- How to provide us their secrets, what communication channels should be used and where they can see their application status, monitoring and stuff and how they, personally can be alerted on their application misbehavior._x000D_\\n_x000D_\\n### Platform maintainer_x000D_\\nI imagine Lars and Ilana to fit in this role. This persona is somebody who can deploy an OCP cluster and wants to get it ready for us, so we can deploy all our applications in there. I\\'d say this persona has to have access to info about:_x000D_\\n- What are the basic needs for us._x000D_\\n- How to grant us the proper access._x000D_\\n- How to deploy our ArgoCD setup in case this is an isolated environment._x000D_\\n- How to attach their cluster to an existing ArgoCD environment in case this new cluster should belong to any existing deployment._x000D_\\n_x000D_\\n### Solution Architect/Technology scout_x000D_\\nThis persona is quite the opposite to the ones above. This persona should be able to gain trust in our solution so it can be promoted further. This persona should easily obtain:_x000D_\\n- All the information on how we do things and why._x000D_\\n- Can easily grant access to an example deployment as an user in any end user role imaginable._x000D_\\n- Should be able to spin up a dev environment without much previous knowledge - in a \"single click deployment\" way as possible', 'Great write-up! _x000D_\\n_x000D_\\nThis LGTM besides the nit picks above, feel free to unhold this pr whenever you are ready.', 'Updated. Please review once more @HumairAK @anishasthana  :slightly_smiling_face: ', 'lgtm_x000D_\\n@anishasthana  once you give it another look, please unhold. ', '/unhold', '@HumairAK I think you would need to approve this once more. :slightly_smiling_face: ', '[APPROVALNOTIFIER] This PR is **NOT APPROVED**_x000D_\\n_x000D_\\nThis pull-request has been approved by: *<a href=\"https://github.com/operate-first/blueprint/pull/21#pullrequestreview-575532671\" title=\"Approved\">anishasthana</a>*, *<a href=\"https://github.com/operate-first/blueprint/pull/21#pullrequestreview-575550989\" title=\"Approved\">HumairAK</a>*_x000D_\\nTo complete the [pull request process](https://git.k8s.io/community/contributors/guide/owners.md#the-code-review-process), please assign **durandom** after the PR has been reviewed._x000D_\\nYou can assign the PR to them by writing `/assign @durandom` in a comment when ready._x000D_\\n_x000D_\\nThe full list of commands accepted by this bot can be found [here](https://go.k8s.io/bot-commands?repo=operate-first%2Fblueprint)._x000D_\\n_x000D_\\n<details open>_x000D_\\nNeeds approval from an approver in each of these files:_x000D_\\n_x000D_\\n- **[OWNERS](https://github.com/operate-first/blueprint/blob/main/OWNERS)**_x000D_\\n_x000D_\\nApprovers can indicate their approval by writing `/approve` in a comment_x000D_\\nApprovers can cancel approval by writing `/approve cancel` in a comment_x000D_\\n</details>_x000D_\\n<!-- META={\"approvers\":[\"durandom\"]} -->', \"I'd like to add the **Application Owner**, its an extension of the **cloud-native application developer**, this persona would like to try deploying his app and running it, so that he can gather operational experience (which is very different from an integration test) and feed that experience back into the documentation._x000D_\\n_x000D_\\n**Application Owner**_x000D_\\n_x000D_\\n* all the info to get the application deployed_x000D_\\n* all the docs to pass on to the developers, so that could they can deploy the app_x000D_\\n* all the source of info required to run the app_x000D_\\n\", '/hold', '[APPROVALNOTIFIER] This PR is **NOT APPROVED**_x000D_\\n_x000D_\\nThis pull-request has been approved by: *<a href=\"https://github.com/operate-first/blueprint/pull/25#pullrequestreview-578477535\" title=\"Approved\">HumairAK</a>*, *<a href=\"https://github.com/operate-first/blueprint/pull/25#pullrequestreview-578471227\" title=\"Approved\">tumido</a>*_x000D_\\nTo complete the [pull request process](https://git.k8s.io/community/contributors/guide/owners.md#the-code-review-process), please assign **goern** after the PR has been reviewed._x000D_\\nYou can assign the PR to them by writing `/assign @goern` in a comment when ready._x000D_\\n_x000D_\\nThe full list of commands accepted by this bot can be found [here](https://go.k8s.io/bot-commands?repo=operate-first%2Fblueprint)._x000D_\\n_x000D_\\n<details open>_x000D_\\nNeeds approval from an approver in each of these files:_x000D_\\n_x000D_\\n- **[OWNERS](https://github.com/operate-first/blueprint/blob/main/OWNERS)**_x000D_\\n_x000D_\\nApprovers can indicate their approval by writing `/approve` in a comment_x000D_\\nApprovers can cancel approval by writing `/approve cancel` in a comment_x000D_\\n</details>_x000D_\\n<!-- META={\"approvers\":[\"goern\"]} -->', '/unhold', '/hold', 'Thanks @tumido  this is a great write-up. _x000D_\\n_x000D_\\n/lgtm', \"@goern: The label(s) `sig/docs` cannot be applied, because the repository doesn't have them_x000D_\\n_x000D_\\n<details>_x000D_\\n_x000D_\\nIn response to [this](https://github.com/operate-first/blueprint/issues/27):_x000D_\\n_x000D_\\n>SSIA_x000D_\\n>_x000D_\\n>lets figure out what labels we need for op1st and how they support our workflows. See https://github.com/thoth-station/thoth-application/blob/master/prow/overlays/cnv-prod/labels.yaml and PR against it._x000D_\\n>_x000D_\\n>#srcOps _x000D_\\n>/sig docs_x000D_\\n>_x000D_\\n_x000D_\\n_x000D_\\nInstructions for interacting with me using PR comments are available [here](https://git.k8s.io/community/contributors/guide/pull-requests.md).  If you have questions or suggestions related to my behavior, please file an issue against the [kubernetes/test-infra](https://github.com/kubernetes/test-infra/issues/new?title=Prow%20issue:) repository._x000D_\\n</details>\", 'Hey @goern , this is new to me, so I have a few questions: _x000D_\\n- Are you suggesting we need a file like this somewhere that organizes the labels prow can apply for each repo? _x000D_\\n- The field `addedBy: anyone` -- what does do for us if it\\'s _not_ prow? Is it just creating the label for that repo?_x000D_\\n- The labels that prow applies currently, like \"do-not-merge\" where are they stored currently? _x000D_\\n_x000D_\\nI\\'ve been creating labels now and then to help us organize our issues, but I\\'ve just done this via the UI._x000D_\\n_x000D_\\nThanks!', 'New changes are detected. LGTM label has been removed.', '@larsks @martinpovolny thank you for great feedback! :+1: All requests/notes addressed. Can you please take one more look? :pray: ', '[APPROVALNOTIFIER] This PR is **NOT APPROVED**_x000D_\\n_x000D_\\nThis pull-request has been approved by: *<a href=\"https://github.com/operate-first/blueprint/pull/26#pullrequestreview-579424926\" title=\"LGTM\">anishasthana</a>*, *<a href=\"https://github.com/operate-first/blueprint/pull/26#pullrequestreview-580760360\" title=\"Approved\">larsks</a>*, *<a href=\"https://github.com/operate-first/blueprint/pull/26#pullrequestreview-581092690\" title=\"Approved\">martinpovolny</a>*_x000D_\\nTo complete the [pull request process](https://git.k8s.io/community/contributors/guide/owners.md#the-code-review-process), please assign **durandom** after the PR has been reviewed._x000D_\\nYou can assign the PR to them by writing `/assign @durandom` in a comment when ready._x000D_\\n_x000D_\\nThe full list of commands accepted by this bot can be found [here](https://go.k8s.io/bot-commands?repo=operate-first%2Fblueprint)._x000D_\\n_x000D_\\n<details open>_x000D_\\nNeeds approval from an approver in each of these files:_x000D_\\n_x000D_\\n- **[OWNERS](https://github.com/operate-first/blueprint/blob/main/OWNERS)**_x000D_\\n_x000D_\\nApprovers can indicate their approval by writing `/approve` in a comment_x000D_\\nApprovers can cancel approval by writing `/approve cancel` in a comment_x000D_\\n</details>_x000D_\\n<!-- META={\"approvers\":[\"durandom\"]} -->', \"@HumairAK @4n4nd please review once more and unhold if you're satisfied :slightly_smiling_face: \", \"I don't mind unifying them. I actually agree they both feel more like a dev env than anything else... And I usually end up mixing my own apps/resources combination (I never deploy the defaults) to fit into crc/quicklab, since the cluster size is limited.\", 'cc @martinpovolny @anishasthana ', '/approve', '[APPROVALNOTIFIER] This PR is **NOT APPROVED**_x000D_\\n_x000D_\\nThis pull-request has been approved by: *<a href=\"https://github.com/operate-first/blueprint/pull/29#pullrequestreview-581956033\" title=\"Approved\">anishasthana</a>*, *<a href=\"https://github.com/operate-first/blueprint/pull/29#issuecomment-772346874\" title=\"Approved\">tumido</a>*_x000D_\\nTo complete the [pull request process](https://git.k8s.io/community/contributors/guide/owners.md#the-code-review-process), please assign **goern** after the PR has been reviewed._x000D_\\nYou can assign the PR to them by writing `/assign @goern` in a comment when ready._x000D_\\n_x000D_\\nThe full list of commands accepted by this bot can be found [here](https://go.k8s.io/bot-commands?repo=operate-first%2Fblueprint)._x000D_\\n_x000D_\\n<details open>_x000D_\\nNeeds approval from an approver in each of these files:_x000D_\\n_x000D_\\n- **[OWNERS](https://github.com/operate-first/blueprint/blob/main/OWNERS)**_x000D_\\n_x000D_\\nApprovers can indicate their approval by writing `/approve` in a comment_x000D_\\nApprovers can cancel approval by writing `/approve cancel` in a comment_x000D_\\n</details>_x000D_\\n<!-- META={\"approvers\":[\"goern\"]} -->', \"I'm a ++ for this. They have seemed almost identical whenever I did stuff.\", ' /lgtm', 'Just a note, creating such admin teams doesn\\'t mean the org owners won\\'t be admins anymore. So me, @HumairAK, @durandom, @goern are always admins by definition since we are org owners, no matter if we are part of any admin team or not._x000D_\\n_x000D_\\nLet\\'s have an admin team for me and @HumairAK and @4n4nd (Anand, you can be either a member of the admin team + an approver for everything or neither of those, I don\\'t see a way for you to pick the second and not be listed in the first :slightly_smiling_face: ), so we can be called via `@operate-first/team-name` on urgent matters._x000D_\\n_x000D_\\nI\\'d say the rest of the teams and folks should have triage access + should be grouped into:_x000D_\\n- 1 general team for all core contributors_x000D_\\n- a team per topic/sig: `ops`, `telemetry`, `support`, `documentation`, `build`/`cyborgs` - this way we can \"call for help\" a team (via the `@operate-first/team-name` alias) and we don\\'t have to list all the people.', \"let's just add the teams and see how it goes and how they're used. _x000D_\\n_x000D_\\ngiven that it's not only ops stuff, would `admin` make more sense? Are `admin` granted write access for all repos and approvers are not._x000D_\\n_x000D_\\nIIUC this issue is only about team communication and organization - not about approval and merge process_x000D_\\n\", '\"core contributors\" would have admin/force-push access to all repos?', '... lets have a look if prow can manage all that for us ;)', '> \"core contributors\" would have admin/force-push access to all repos?_x000D_\\n_x000D_\\n@goern if you mean the team I\\'ve hinted in my comment above, I meant a core contrib team for all the current operate first folks (since this is our current \"core\", and we\\'d like to expand it to external community). I don\\'t think this team should have write access to repos though. ', \"> IIUC this issue is only about team communication and organization - not about approval and merge process_x000D_\\n_x000D_\\nWe also need to consider who will have manual abilities to approve in the event prow fails to merge pr's (due to downtime/slow period/etc.) \", \"Humair, thats the reasone why we have a SourceOps team that is able to manually merge and force-push, I think Kubernetes calls this team 'on-call'\", '> Humair, thats the reasone why we have a SourceOps team that is able to manually merge and force-push, I think Kubernetes calls this team \\'on-call\\'_x000D_\\n_x000D_\\nAh I see, I think I\\'ve just delegated this role to the admin team for now. _x000D_\\n_x000D_\\n> a team per topic/sig: ops, telemetry, support, documentation, build/cyborgs - this way we can \"call for help\" a team (via the @operate-first/team-name alias) and we don\\'t have to list all the people. _x000D_\\n_x000D_\\nI feel like this is overkill for our team size, but then again creating teams cost nothing. Who goes where? _x000D_\\n_x000D_\\n', \"This is what I've created thus far: _x000D_\\n_x000D_\\n![image](https://user-images.githubusercontent.com/10904967/107279429-0713bb80-6a25-11eb-9628-38304bfd5c45.png)_x000D_\\n_x000D_\\nI distributed permissions as follows: _x000D_\\n- admins have admin on all repos _x000D_\\n- contributors have triage on all repos _x000D_\\n- `workshopers` having admin access to `operate-first/workshop-apps `_x000D_\\n\", '/lgtm', '/approve', '[APPROVALNOTIFIER] This PR is **APPROVED**_x000D_\\n_x000D_\\nThis pull-request has been approved by: *<a href=\"https://github.com/operate-first/blueprint/pull/32#issuecomment-776700339\" title=\"Approved\">HumairAK</a>*_x000D_\\n_x000D_\\nThe full list of commands accepted by this bot can be found [here](https://go.k8s.io/bot-commands?repo=operate-first%2Fblueprint)._x000D_\\n_x000D_\\nThe pull request process is described [here](https://git.k8s.io/community/contributors/guide/owners.md#the-code-review-process)_x000D_\\n_x000D_\\n<details >_x000D_\\nNeeds approval from an approver in each of these files:_x000D_\\n_x000D_\\n- ~~[OWNERS](https://github.com/operate-first/blueprint/blob/main/OWNERS)~~ [HumairAK]_x000D_\\n_x000D_\\nApprovers can indicate their approval by writing `/approve` in a comment_x000D_\\nApprovers can cancel approval by writing `/approve cancel` in a comment_x000D_\\n</details>_x000D_\\n<!-- META={\"approvers\":[]} -->', 'The answer from the MOC perspective is \"because that\\'s what the Openshift Container Storage\" *(OCS) product uses. But I guess you are looking at this in a more general sense?', 'Assuming folks are happy with this setup, closing for now. Feel free to re-open.', 'I think for the most part, folks have been pretty good at linking to and fro from Operate-First repositories, so the information is certainly there and can/should be retrievable via github api for example. We would just need a way to aggregate/collect and present it in a fashion that is easier to consume.', \"I think this is an important problem to solve, but also a challenging one and one that I don't have any great ideas for how to fix._x000D_\\n_x000D_\\nWe could certainly write some scripts to measure contributions on pull requests and issues and that sort of thing, but..._x000D_\\n![giphy](https://user-images.githubusercontent.com/5041129/110962142-9fe87000-831e-11eb-84bc-58e4f8dc5dc0.gif)_x000D_\\n_x000D_\\nWhat would people thing of try to start some demo sessions where we show off to each other what we've been working on?_x000D_\\n\", 'Yes, I think we should adapt to the new standard and update our default branches to `main`.', \"What's a good plan of action? Create issues on all repositories and slowly port them over? \", '<details>', '<summary>Pre-Commit Test failed! Click here</summary>', '```', '[INFO] Initializing environment for git://github.com/Lucas-C/pre-commit-hooks.', '[INFO] Initializing environment for git://github.com/pre-commit/pre-commit-hooks.', '[INFO] Initializing environment for https://github.com/adrienverge/yamllint.git.', '[INFO] Installing environment for git://github.com/Lucas-C/pre-commit-hooks.', '[INFO] Once installed this environment will be reused.', '[INFO] This may take a few minutes...', '[INFO] Installing environment for git://github.com/pre-commit/pre-commit-hooks.', '[INFO] Once installed this environment will be reused.', '[INFO] This may take a few minutes...', '[INFO] Installing environment for https://github.com/adrienverge/yamllint.git.', '[INFO] Once installed this environment will be reused.', '[INFO] This may take a few minutes...', 'Tabs remover.............................................................Passed', 'Trim Trailing Whitespace.................................................Failed', '- exit code: 1', 'Fixing docs/userstories/add_image.md', 'Check for merge conflicts................................................Passed', 'Fix End of Files.........................................................Passed', 'Check for added large files..............................................Passed', 'Check for case conflicts.................................................Passed', 'Check JSON...........................................(no files to check)Skipped', 'Check for broken symlinks............................(no files to check)Skipped', 'Detect Private Key.......................................................Passed', 'yamllint.................................................................Passed', '```', '</details>', '[APPROVALNOTIFIER] This PR is **APPROVED**_x000D_\\n_x000D_\\nThis pull-request has been approved by: *<a href=\"https://github.com/operate-first/blueprint/pull/36#pullrequestreview-597350239\" title=\"Approved\">tumido</a>*_x000D_\\n_x000D_\\nThe full list of commands accepted by this bot can be found [here](https://go.k8s.io/bot-commands?repo=operate-first%2Fblueprint)._x000D_\\n_x000D_\\nThe pull request process is described [here](https://git.k8s.io/community/contributors/guide/owners.md#the-code-review-process)_x000D_\\n_x000D_\\n<details >_x000D_\\nNeeds approval from an approver in each of these files:_x000D_\\n_x000D_\\n- ~~[OWNERS](https://github.com/operate-first/blueprint/blob/main/OWNERS)~~ [tumido]_x000D_\\n_x000D_\\nApprovers can indicate their approval by writing `/approve` in a comment_x000D_\\nApprovers can cancel approval by writing `/approve cancel` in a comment_x000D_\\n</details>_x000D_\\n<!-- META={\"approvers\":[]} -->', '/approve', '[APPROVALNOTIFIER] This PR is **APPROVED**_x000D_\\n_x000D_\\nThis pull-request has been approved by: *<a href=\"https://github.com/operate-first/blueprint/pull/37#issuecomment-785092142\" title=\"Approved\">HumairAK</a>*_x000D_\\n_x000D_\\nThe full list of commands accepted by this bot can be found [here](https://go.k8s.io/bot-commands?repo=operate-first%2Fblueprint)._x000D_\\n_x000D_\\nThe pull request process is described [here](https://git.k8s.io/community/contributors/guide/owners.md#the-code-review-process)_x000D_\\n_x000D_\\n<details >_x000D_\\nNeeds approval from an approver in each of these files:_x000D_\\n_x000D_\\n- ~~[OWNERS](https://github.com/operate-first/blueprint/blob/main/OWNERS)~~ [HumairAK]_x000D_\\n_x000D_\\nApprovers can indicate their approval by writing `/approve` in a comment_x000D_\\nApprovers can cancel approval by writing `/approve cancel` in a comment_x000D_\\n</details>_x000D_\\n<!-- META={\"approvers\":[]} -->', \"We would like to be more verbose about what persona this feature is targeting, I'd imagine this could be added under the feature description itself.\", \"The persona for this feature should probably be someone that is part of operate-first JH ops. We may want to consider adding a complimentary user story from a data science perspective whereby this user does not _care about a pvc_ they just want _more space_. This userstory would likely just be about the user creating an issue and when it's closed, the result will be more space for the user.\", \"@HumairAK @tumido I am having a hard time figuring out what the user has already been given. _x000D_\\nI know the user has access to a Jupyter Notebook environment, but for the Ceph bucket I don't know if they are supposed to request one or should I just assume they have access to a bucket and it's credentials?\", '[APPROVALNOTIFIER] This PR is **NOT APPROVED**_x000D_\\n_x000D_\\nThis pull-request has been approved by:_x000D_\\nTo complete the [pull request process](https://git.k8s.io/community/contributors/guide/owners.md#the-code-review-process), please assign **durandom** after the PR has been reviewed._x000D_\\nYou can assign the PR to them by writing `/assign @durandom` in a comment when ready._x000D_\\n_x000D_\\nThe full list of commands accepted by this bot can be found [here](https://go.k8s.io/bot-commands?repo=operate-first%2Fblueprint)._x000D_\\n_x000D_\\n<details open>_x000D_\\nNeeds approval from an approver in each of these files:_x000D_\\n_x000D_\\n- **[OWNERS](https://github.com/operate-first/blueprint/blob/main/OWNERS)**_x000D_\\n_x000D_\\nApprovers can indicate their approval by writing `/approve` in a comment_x000D_\\nApprovers can cancel approval by writing `/approve cancel` in a comment_x000D_\\n</details>_x000D_\\n<!-- META={\"approvers\":[\"durandom\"]} -->', '@tumido , @HumairAK : something more along these lines? _x000D_\\n(see docs/userstories/request_a_storage_bucket.feature)_x000D_\\n_x000D_\\nThx for any feedback!', '[APPROVALNOTIFIER] This PR is **APPROVED**_x000D_\\n_x000D_\\nThis pull-request has been approved by: *<a href=\"https://github.com/operate-first/blueprint/pull/44#pullrequestreview-598390103\" title=\"Approved\">tumido</a>*_x000D_\\n_x000D_\\nThe full list of commands accepted by this bot can be found [here](https://go.k8s.io/bot-commands?repo=operate-first%2Fblueprint)._x000D_\\n_x000D_\\nThe pull request process is described [here](https://git.k8s.io/community/contributors/guide/owners.md#the-code-review-process)_x000D_\\n_x000D_\\n<details >_x000D_\\nNeeds approval from an approver in each of these files:_x000D_\\n_x000D_\\n- ~~[OWNERS](https://github.com/operate-first/blueprint/blob/main/OWNERS)~~ [tumido]_x000D_\\n_x000D_\\nApprovers can indicate their approval by writing `/approve` in a comment_x000D_\\nApprovers can cancel approval by writing `/approve cancel` in a comment_x000D_\\n</details>_x000D_\\n<!-- META={\"approvers\":[]} -->', \"I'd rather just create one issue with a checklist for all repos. Off the top of my head, some of the kfdefs will need to be updated and any links in docs throughout the org. And down stream repos linking via remote references (aicoe-cd comes to mind). Shouldn't be too bad imo.\", '<details>', '<summary>Pre-Commit Test failed! Click here</summary>', '```', '[INFO] Initializing environment for git://github.com/Lucas-C/pre-commit-hooks.', '[INFO] Initializing environment for git://github.com/pre-commit/pre-commit-hooks.', '[INFO] Initializing environment for https://github.com/adrienverge/yamllint.git.', '[INFO] Installing environment for git://github.com/Lucas-C/pre-commit-hooks.', '[INFO] Once installed this environment will be reused.', '[INFO] This may take a few minutes...', '[INFO] Installing environment for git://github.com/pre-commit/pre-commit-hooks.', '[INFO] Once installed this environment will be reused.', '[INFO] This may take a few minutes...', '[INFO] Installing environment for https://github.com/adrienverge/yamllint.git.', '[INFO] Once installed this environment will be reused.', '[INFO] This may take a few minutes...', 'Tabs remover.............................................................Passed', 'Trim Trailing Whitespace.................................................Failed', '- exit code: 1', 'Fixing docs/adr/0012-cluster-deployment-methods.md', 'Check for merge conflicts................................................Passed', 'Fix End of Files.........................................................Passed', 'Check for added large files..............................................Passed', 'Check for case conflicts.................................................Passed', 'Check JSON...........................................(no files to check)Skipped', 'Check for broken symlinks............................(no files to check)Skipped', 'Detect Private Key.......................................................Passed', 'yamllint.................................................................Passed', '```', '</details>', \"FTR: @ipolonsk rewrote the document so it better follows the ADR template. I think it capturing the architectural decision much  _x000D_\\n better this way. The detailed description should be hosted somewhere else. (I think this is much better choice then my `operators` ADR for example, which to my today's eyes is too detailed.)_x000D_\\n_x000D_\\nPlease review once more everybody and let @ipolonsk  know what format you prefer, if there's anything you miss and such. If you prefer the previous format of this PR, please blame me instead. :smile: \", 'I like the new format a lot better! @ipolonsk can you please squash your commits?', 'This format is fine, I do think that some additional links would be helpful for further reading. ', 'Please tag any other interested parties. Thanks.', '@harshad16  @hemajv  @ipolonsk ', \"I don't mind having a `hack` folder. Or we can name it `scripts`. We might also consider using a `.` folder for this so it's hidden from a plain sight maybe (?) and differentiated from the rest of the folders...\", \"I'm :+1: for `scripts`.\", '[APPROVALNOTIFIER] This PR is **APPROVED**_x000D_\\n_x000D_\\nThis pull-request has been approved by: *<a href=\"https://github.com/operate-first/blueprint/pull/47#pullrequestreview-604306252\" title=\"Approved\">HumairAK</a>*_x000D_\\n_x000D_\\nThe full list of commands accepted by this bot can be found [here](https://go.k8s.io/bot-commands?repo=operate-first%2Fblueprint)._x000D_\\n_x000D_\\nThe pull request process is described [here](https://git.k8s.io/community/contributors/guide/owners.md#the-code-review-process)_x000D_\\n_x000D_\\n<details >_x000D_\\nNeeds approval from an approver in each of these files:_x000D_\\n_x000D_\\n- ~~[OWNERS](https://github.com/operate-first/blueprint/blob/main/OWNERS)~~ [HumairAK]_x000D_\\n_x000D_\\nApprovers can indicate their approval by writing `/approve` in a comment_x000D_\\nApprovers can cancel approval by writing `/approve cancel` in a comment_x000D_\\n</details>_x000D_\\n<!-- META={\"approvers\":[]} -->', 'Yes, makes sense.', 'I think ideally, I want to be able to comment `/deploy` on a PR which deploys the PR to a staging/testing cluster', 'Having some sort of validation suite for the deployed components would be awesome too.', '> I think ideally, I want to be able to comment `/deploy` on a PR which deploys the PR to a staging/testing cluster_x000D_\\n_x000D_\\nwith aicoe-ci coupled with argocd, there is `/deploy` option which build & push image and update a desired imagestream to update test cluster. the argocd deploys based on these changes._x000D_\\n_x000D_\\nwe have for the users and it get actively used in thoth and components of opendatahub._x000D_\\nLets discuss, what would the requirements for e2e test _x000D_\\n', \"@tumido, few questions regards your comment:_x000D_\\n1. I added more relevance to the moc-infra content, so it can be clear that we are talking only about the moc-infra cluster._x000D_\\n2. I didn't want to mention different names of tools as it can be a subject for another ADR (decide on the automation tools), I tried to keep it simple without explicitly saying the implantation method for other subjects. _x000D_\\n3. Not sure about this one. _x000D_\\n   How the installation method is related to the ACM (that runs on top of that cluster), and how can it be a good/bad option?  After _x000D_\\n   the cluster is deployed with X metod, the single pane of glass can be created independently. It doesn't affect the installation _x000D_\\n   method._x000D_\\n _x000D_\\nWe used a tech preview version of the assisted installer to deploy a single node on a disconnected environment and did a massive setup pre-installation._x000D_\\nSo we don't have enough information about the assisted installer three-node cluster for this case of deployment. Not sure what links I can add to this doc.\", \"I'm good with that, should I just add a checklist to this issue? or create a new one in the blueprints repo?\", \"Currently we have a mix of `main` and `master` branches in our repos. I think it would be nice to unify it. :+1: _x000D_\\n_x000D_\\nI think we can add the checklist to this issue. There's no point to have multiple issues for the same task._x000D_\\n_x000D_\\nAdditional points to @HumairAK's:_x000D_\\n- [ ] Change [Travis build config](https://github.com/operate-first/operate-first.github.io/blob/master/.travis.yml) for the website_x000D_\\n- [ ] Update [`srcLink`](https://github.com/operate-first/operate-first.github.io/blob/a7d9e652a3a5634223892f89b5fa695e9a7710c1/gatsby-node.js#L41-L45) for Gatsby nodes for the website\", 'Hi @ipolonsk sorry to stall this for that long._x000D_\\n_x000D_\\n> 1. I added more relevance to the moc-infra content, so it can be clear that we are talking only about the moc-infra cluster._x000D_\\n_x000D_\\n:+1: Can you please push those changes? I don\\'t see this in the PR._x000D_\\n_x000D_\\n> 2. I didn\\'t want to mention different names of tools as it can be a subject for another ADR (decide on the automation tools), I tried to keep it simple without explicitly saying the implantation method for other subjects._x000D_\\n_x000D_\\nOk, that\\'s a fair point._x000D_\\n_x000D_\\n> 3. Not sure about this one._x000D_\\n>    How the installation method is related to the ACM (that runs on top of that cluster), and how can it be a good/bad option?  After_x000D_\\n>    the cluster is deployed with X metod, the single pane of glass can be created independently. It doesn\\'t affect the installation_x000D_\\n>    method._x000D_\\n_x000D_\\nA \"Good thing\" is that when you use ACM to provision a cluster, it\\'s already connected to ACM._x000D_\\nA \"Bad thing\" can be that while it may be possible to import a cluster provisioned via a different method to ACM, it probably may requires some expertise in importing/setting things up etc._x000D_\\n_x000D_\\nIt\\'s an aspect to consider when deciding which method to choose - how easy the path forward with managing the cluster is after install. It doesn\\'t effect the installation directly though it matters because if you choose a method that complicates things for the next step, it may not be that good of an option. Just one aspect of many that should not be omitted._x000D_\\n_x000D_\\n> We used a tech preview version of the assisted installer to deploy a single node on a disconnected environment and did a massive setup pre-installation._x000D_\\n> So we don\\'t have enough information about the assisted installer three-node cluster for this case of deployment. Not sure what links I can add to this doc._x000D_\\n_x000D_\\nI think some basic documentation links on each of the method would be sufficient. So people know what do you mean by those terms and don\\'t have to google each method. It doesn\\'t have to be precisely a step by step guide but rather links to docs that can give people idea on how each approach works, looks like and what effort has to be put into each.', \"I came up with the following checklist -- wdyt?_x000D_\\n- [ ] apps_x000D_\\n  - [ ]  Update kfdefs to point to correct repositories_x000D_\\n- [ ] SRE_x000D_\\n- [ ] operate-first.github.io_x000D_\\n- [x] support_x000D_\\n- [x] argocd-apps_x000D_\\n- [x] workshop-apps_x000D_\\n- [ ] continuous-deployment_x000D_\\n  - [ ]  Update remote references in downstream aicoe-cd repository_x000D_\\n- [x] blueprint_x000D_\\n- [ ] toolbox_x000D_\\n- [ ] continuous-delivery_x000D_\\n- [ ] odh-dashboard_x000D_\\n- [ ] Change [Travis build config](https://github.com/operate-first/operate-first.github.io/blob/master/.travis.yml) for the website_x000D_\\n- [ ] Update `[srcLink](https://github.com/operate-first/operate-first.github.io/blob/a7d9e652a3a5634223892f89b5fa695e9a7710c1/gatsby-node.js#L41-L45)` for Gatsby nodes for the website_x000D_\\n- [ ] Update links in the docs websites to new locations_x000D_\\n- [ ] `continuous-deployment`'s remote reference for [apps of apps](https://github.com/operate-first/continuous-deployment/pull/137/files#diff-9e11eaf0af11db46be62c85549bc6ebcfde709297d946e61b22e285689007315R4)\", '`support`, `blueprint`, `workshop-apps`, and `argocd-apps` repos already use `main` as the default branch, those points are invalid', 'nice! 4 items on the checklist can already be checked off :-D_x000D_\\n', '@tumido  @4n4nd @hemajv ', '/approve', '[APPROVALNOTIFIER] This PR is **APPROVED**_x000D_\\n_x000D_\\nThis pull-request has been approved by: *<a href=\"https://github.com/operate-first/blueprint/pull/52#issuecomment-800471167\" title=\"Approved\">HumairAK</a>*_x000D_\\n_x000D_\\nThe full list of commands accepted by this bot can be found [here](https://go.k8s.io/bot-commands?repo=operate-first%2Fblueprint)._x000D_\\n_x000D_\\nThe pull request process is described [here](https://git.k8s.io/community/contributors/guide/owners.md#the-code-review-process)_x000D_\\n_x000D_\\n<details >_x000D_\\nNeeds approval from an approver in each of these files:_x000D_\\n_x000D_\\n- ~~[OWNERS](https://github.com/operate-first/blueprint/blob/main/OWNERS)~~ [HumairAK]_x000D_\\n_x000D_\\nApprovers can indicate their approval by writing `/approve` in a comment_x000D_\\nApprovers can cancel approval by writing `/approve cancel` in a comment_x000D_\\n</details>_x000D_\\n<!-- META={\"approvers\":[]} -->', 'How does the operate first team currently create Grafana dashboards? Looking at https://github.com/operate-first/SRE/tree/master/dashboards it appears that it may be a manual process of applying JSON definitions from Git?', '@accorvin we have GrafanaDashboard resources in the apps repo ([link](https://github.com/operate-first/apps/blob/master/odh/overlays/moc/zero/monitoring/dashboards/operate-first/jupyterhub-usage.yaml#L9)) where we link these jsons directly._x000D_\\n_x000D_\\nThese GrafanaDashboard manifests are then picked up by the grafana operator.', 'That actually greatly simplifies the ODH + OPF collaboration piece. We can just have these dashboard jsons exist in a directory in upstream ODH.', 'Yep, I think this makes things way easier than we thought they might be._x000D_\\n_x000D_\\n@anishasthana it looks like we put the JSON as the body of a configmap. Presumably we need to figure out how to import the JSON from a different file into the configmap? ', 'Yep, that sounds about right.', '@anishasthana do you have ideas for how to do that? Is this just kustomize-fu?', '@anishasthana @accorvin if you want to import any file into a configmap you can use the `configMapGenerator` in kustomize. So.. only some kustomize-fu. :smile: _x000D_\\n_x000D_\\nhttps://kubectl.docs.kubernetes.io/references/kustomize/kustomization/configmapgenerator/ ', '/retest', \"I can take a stab at it when I have some free time. This shouldn't be bad at all. @maulikjs was already thinking of adding some kustomize to our deploy scripts.\", '> That actually greatly simplifies the ODH + OPF collaboration piece. We can just have these dashboard jsons exist in a directory in upstream ODH._x000D_\\n_x000D_\\nYes, we have a PR open here: https://github.com/opendatahub-io/odh-manifests/pull/316 for adding JupyterHub monitoring dashboards. In this PR, we are adding the JSONs into a separate `/dashboards` folder. Once this is merged, we can go ahead and remove the jsons from our SRE repo ([link](https://github.com/operate-first/SRE/tree/master/dashboards)) and update the url in our GrafanaDashboard resources to point to these jsons._x000D_\\n', '@hemajv I\\'m not sure if dashboards hidden within `grafana/grafana/base/dashboards/` path in https://github.com/opendatahub-io/odh-manifests repo is a solution that is \"observable\" enough. I think a standalone repository for community managed dashboards would draw much more attention and bring more collaboration. People interested in dashboards won\\'t subscribe to odh-manifests repo.', \"@tumido definitely, I think that is a good idea! I'm a +1 for having a separate repo dedicated to dashboards and placing all JSONs there, would like to know others thoughts on it as well. Also, where do you think would be a good place for this repo?\", \"That's a good question. I wonder if @LaVLaS  has some thoughts here.\", \"@hemajv I don't mind hosting it in Operate First, since it's more SRE and Ops focused org. - I'd be glad to support it and open it up to community._x000D_\\n_x000D_\\nA separate repo in ODH upstream is also a good place, if they have a strong opinion to host it. In the end I don't mind the location that much..._x000D_\\n\", \"I'd prefer if the ODH monitoring artifacts went in an ODH repo. \", '[APPROVALNOTIFIER] This PR is **NOT APPROVED**_x000D_\\n_x000D_\\nThis pull-request has been approved by:_x000D_\\nTo complete the [pull request process](https://git.k8s.io/community/contributors/guide/owners.md#the-code-review-process), please assign **tumido** after the PR has been reviewed._x000D_\\nYou can assign the PR to them by writing `/assign @tumido` in a comment when ready._x000D_\\n_x000D_\\nThe full list of commands accepted by this bot can be found [here](https://go.k8s.io/bot-commands?repo=operate-first%2Fblueprint)._x000D_\\n_x000D_\\n<details open>_x000D_\\nNeeds approval from an approver in each of these files:_x000D_\\n_x000D_\\n- **[OWNERS](https://github.com/operate-first/blueprint/blob/main/OWNERS)**_x000D_\\n_x000D_\\nApprovers can indicate their approval by writing `/approve` in a comment_x000D_\\nApprovers can cancel approval by writing `/approve cancel` in a comment_x000D_\\n</details>_x000D_\\n<!-- META={\"approvers\":[\"tumido\"]} -->', 'We should also publish these dashboards that we come up with here: https://grafana.com/grafana/dashboards_x000D_\\n9/10 times I look for a dashboard there before anywhere else or making one myself, and there will definitely be some gaps around JH, OCP, etc that we could fill, especially for SREs.', \"> I'd prefer if the ODH monitoring artifacts went in an ODH repo._x000D_\\n_x000D_\\nIn ODH, it would be great if there was one, version pinned, default dashboard per component. Ideally we would store the JSON in the `GrafanaDashboard` resource so that the dashboard is pinned to the component version in the release. _x000D_\\n_x000D_\\nFor advanced dashboard, could we just add an `operate-first` overlay in ODH grafana that would supply advanced dashboard hosted by `operate-first`?\", \"I'm not a huge fan of that, Ideally we keep pulling in experience from IDH/Operate-first to benefit upstream dashboards and alerts.  \", \"@anishasthana does that mean we would limit this collaboration to dashboards about ODH components only? What about other Operate First dashboards we'd like share? Like.. AiCoE-CI dashboards from Thoth or Observatorium monitoring and so on._x000D_\\n_x000D_\\nI'd like to see open community around this. If stored in ODH, it means we're limiting it to ODH related deployments only. I think we Operate First tried to go beyond ODH and include and understand more workloads than that. \", \"I'm not sure I see a problem with having a mix? Anything that's not ODH specific (thingsl ike thoth or observatorium) can reside in the operate-first SRE repo, but  for ODH dashboards we can just point to the upstream ones.\", '> we would store the JSON in the `GrafanaDashboard` resource so that the dashboard is pinned to the component version in the release_x000D_\\n_x000D_\\n@LaVLaS  I think you can just use a url to a fixed version instead._x000D_\\nFor example: Instead of using _x000D_\\n```_x000D_\\nhttps://raw.githubusercontent.com/hemajv/odh-manifests/add-jh-dashboards/grafana/grafana/base/dashboards/jupyterhub-sli-slo.json_x000D_\\n```_x000D_\\nwe can use _x000D_\\n```_x000D_\\nhttps://raw.githubusercontent.com/hemajv/odh-manifests/9c6425642121f8fbe986e024a7886c7287430d33/grafana/grafana/base/dashboards/jupyterhub-sli-slo.json```', \"Hey @tumido_x000D_\\nI added few changes to the documentation I made it more relevant for the moc infra since this doc discusses the option for deploying only that initial cluster in the environment._x000D_\\nSince this document describes this situation I don't think the ACM is a relevant point for pro and cons, because we don't have an ACM at the time of setting it up, this is more for the ground zero cluster._x000D_\\nI added useful links to more details for readers. _x000D_\\nPlease let me know what do you think (: \", 'Customer asking me often about HasiCorp Vault integration. Next week on the OpenShift Usergroup we have a talk about OpenShift & HashiCorp. I will share more details after the event.', 'There is a community operator available (`Volume Expander Operator`) that we could use for automatic PVC resizing instead of modifying the odh operator._x000D_\\nSome documentation for it is available here: [link](https://www.openshift.com/blog/automating-volume-expansion-management-an-operator-based-approach)', 'Is there anything preventing us from just renaming the default branch on the `apps` repository? It looks as if all the configurations that point there are using `HEAD`, so they should follow the change without a problem.', '@larsks -- yes some of the files [here](https://github.com/operate-first/apps/search?p=1&q=filename%3Akfdef.yaml) will need to be updated, as they reference the app repo itself for odh manifests. [Example](https://github.com/operate-first/apps/blob/1b042ed6650f069f2ed0aabe69d1250488897afb/odh/base/jupyterhub/kfdef.yaml#L40).', '@4n4nd I think we can assume they have one, and have another feature file for the use case of \"how to get a bucket\" i.e.: https://github.com/operate-first/blueprint/issues/39 -- wdyt? ', 'I will assume the user already has access to the secret and configmap generated for the bucket.', '[APPROVALNOTIFIER] This PR is **APPROVED**_x000D_\\n_x000D_\\nThis pull-request has been approved by: *<a href=\"https://github.com/operate-first/blueprint/pull/56#pullrequestreview-619063900\" title=\"LGTM\">anishasthana</a>*, *<a href=\"https://github.com/operate-first/blueprint/pull/56#pullrequestreview-619559979\" title=\"Approved\">tumido</a>*_x000D_\\n_x000D_\\nThe full list of commands accepted by this bot can be found [here](https://go.k8s.io/bot-commands?repo=operate-first%2Fblueprint)._x000D_\\n_x000D_\\nThe pull request process is described [here](https://git.k8s.io/community/contributors/guide/owners.md#the-code-review-process)_x000D_\\n_x000D_\\n<details >_x000D_\\nNeeds approval from an approver in each of these files:_x000D_\\n_x000D_\\n- ~~[OWNERS](https://github.com/operate-first/blueprint/blob/main/OWNERS)~~ [tumido]_x000D_\\n_x000D_\\nApprovers can indicate their approval by writing `/approve` in a comment_x000D_\\nApprovers can cancel approval by writing `/approve cancel` in a comment_x000D_\\n</details>_x000D_\\n<!-- META={\"approvers\":[]} -->', '[APPROVALNOTIFIER] This PR is **APPROVED**_x000D_\\n_x000D_\\nThis pull-request has been approved by: *<a href=\"https://github.com/operate-first/blueprint/pull/57#pullrequestreview-619560739\" title=\"Approved\">tumido</a>*_x000D_\\n_x000D_\\nThe full list of commands accepted by this bot can be found [here](https://go.k8s.io/bot-commands?repo=operate-first%2Fblueprint)._x000D_\\n_x000D_\\nThe pull request process is described [here](https://git.k8s.io/community/contributors/guide/owners.md#the-code-review-process)_x000D_\\n_x000D_\\n<details >_x000D_\\nNeeds approval from an approver in each of these files:_x000D_\\n_x000D_\\n- ~~[OWNERS](https://github.com/operate-first/blueprint/blob/main/OWNERS)~~ [tumido]_x000D_\\n_x000D_\\nApprovers can indicate their approval by writing `/approve` in a comment_x000D_\\nApprovers can cancel approval by writing `/approve cancel` in a comment_x000D_\\n</details>_x000D_\\n<!-- META={\"approvers\":[]} -->', \"Yup, I agree, don't bother with creating buckets and getting the creds. That should be handled in the other user story. :+1: \", \"Added `continuous-deployment`'s remote reference for [apps of apps](https://github.com/operate-first/continuous-deployment/pull/137/files#diff-9e11eaf0af11db46be62c85549bc6ebcfde709297d946e61b22e285689007315R4) to the list\", '/cc @HumairAK @4n4nd ', '[APPROVALNOTIFIER] This PR is **APPROVED**_x000D_\\n_x000D_\\nThis pull-request has been approved by: *<a href=\"https://github.com/operate-first/blueprint/pull/58#pullrequestreview-619752027\" title=\"LGTM\">HumairAK</a>*_x000D_\\n_x000D_\\nThe full list of commands accepted by this bot can be found [here](https://go.k8s.io/bot-commands?repo=operate-first%2Fblueprint)._x000D_\\n_x000D_\\nThe pull request process is described [here](https://git.k8s.io/community/contributors/guide/owners.md#the-code-review-process)_x000D_\\n_x000D_\\n<details >_x000D_\\nNeeds approval from an approver in each of these files:_x000D_\\n_x000D_\\n- ~~[OWNERS](https://github.com/operate-first/blueprint/blob/main/OWNERS)~~ [HumairAK]_x000D_\\n_x000D_\\nApprovers can indicate their approval by writing `/approve` in a comment_x000D_\\nApprovers can cancel approval by writing `/approve cancel` in a comment_x000D_\\n</details>_x000D_\\n<!-- META={\"approvers\":[]} -->', 'We can also use gherkin [tags](https://cucumber.io/docs/cucumber/api/#tags) to identify which scenario belongs to which persona.', '/sig user-experience_x000D_\\n/kind documentation', '[APPROVALNOTIFIER] This PR is **APPROVED**_x000D_\\n_x000D_\\nThis pull-request has been approved by: *<a href=\"https://github.com/operate-first/blueprint/pull/34#pullrequestreview-621364380\" title=\"LGTM\">HumairAK</a>*_x000D_\\n_x000D_\\nThe full list of commands accepted by this bot can be found [here](https://go.k8s.io/bot-commands?repo=operate-first%2Fblueprint)._x000D_\\n_x000D_\\nThe pull request process is described [here](https://git.k8s.io/community/contributors/guide/owners.md#the-code-review-process)_x000D_\\n_x000D_\\n<details >_x000D_\\nNeeds approval from an approver in each of these files:_x000D_\\n_x000D_\\n- ~~[OWNERS](https://github.com/operate-first/blueprint/blob/main/OWNERS)~~ [HumairAK]_x000D_\\n_x000D_\\nApprovers can indicate their approval by writing `/approve` in a comment_x000D_\\nApprovers can cancel approval by writing `/approve cancel` in a comment_x000D_\\n</details>_x000D_\\n<!-- META={\"approvers\":[]} -->', \"> Do we have a list of preferred licenses? I will ping Red Hat legal to get input from that angle._x000D_\\n_x000D_\\nGNU GPL was selected for the code, so that's certainly an argument to keep it for simplicity.  See https://github.com/operate-first/blueprint/blob/main/docs/adr/0001-use-gpl3-as-license.md_x000D_\\n@billburnseh \", 'Resolves: https://github.com/operate-first/blueprint/issues/80', '[APPROVALNOTIFIER] This PR is **APPROVED**_x000D_\\n_x000D_\\nThis pull-request has been approved by: *<a href=\"https://github.com/operate-first/blueprint/pull/66#pullrequestreview-623222829\" title=\"Approved\">HumairAK</a>*_x000D_\\n_x000D_\\nThe full list of commands accepted by this bot can be found [here](https://go.k8s.io/bot-commands?repo=operate-first%2Fblueprint)._x000D_\\n_x000D_\\nThe pull request process is described [here](https://git.k8s.io/community/contributors/guide/owners.md#the-code-review-process)_x000D_\\n_x000D_\\n<details >_x000D_\\nNeeds approval from an approver in each of these files:_x000D_\\n_x000D_\\n- ~~[OWNERS](https://github.com/operate-first/blueprint/blob/main/OWNERS)~~ [HumairAK]_x000D_\\n_x000D_\\nApprovers can indicate their approval by writing `/approve` in a comment_x000D_\\nApprovers can cancel approval by writing `/approve cancel` in a comment_x000D_\\n</details>_x000D_\\n<!-- META={\"approvers\":[]} -->', \"I second what @maulikjs said, the op1st community and odh community should publish their dashboards to grafana too._x000D_\\n_x000D_\\nOnce we have a larger set of dashboards, we can think about a good place to host them and/or create a dedicated repo. _x000D_\\nFor now let's figure out the re-use of existing dashboards first  :) \", 'I think our bi-weekly meetings and the issues on this repo (labelled accordingly) are where the future discussions are being held, so closing this in favor of those. Re-open if needed.', '@hemajv can you sum up  briefly the online/offline discussions with the consensus that we reached.', 'E2E testing via https://github.com/operate-first/SRE/issues/238', 'Quick summary: In ODH the `GrafanaDashboard` object and dashboard `json` will be separated into the customresource and a raw json file that will be reference from a `ConfigMap` that is created by the `kustomize` `ConfigMapGenerator`. This will allow ODH to host the static object in a single commit while still allowing remote references/overlays of the individual dashboard json', \"Okay great, it is my understanding everyone is agreed on the summary provided by @LaVLaS. Therefore, I think the thread has served it's purpose. Closing, feel free to open if there's more left to discuss.\", '/approve', '[APPROVALNOTIFIER] This PR is **APPROVED**_x000D_\\n_x000D_\\nThis pull-request has been approved by: *<a href=\"https://github.com/operate-first/blueprint/pull/67#issuecomment-814886579\" title=\"Approved\">HumairAK</a>*_x000D_\\n_x000D_\\nThe full list of commands accepted by this bot can be found [here](https://go.k8s.io/bot-commands?repo=operate-first%2Fblueprint)._x000D_\\n_x000D_\\nThe pull request process is described [here](https://git.k8s.io/community/contributors/guide/owners.md#the-code-review-process)_x000D_\\n_x000D_\\n<details >_x000D_\\nNeeds approval from an approver in each of these files:_x000D_\\n_x000D_\\n- ~~[OWNERS](https://github.com/operate-first/blueprint/blob/main/OWNERS)~~ [HumairAK]_x000D_\\n_x000D_\\nApprovers can indicate their approval by writing `/approve` in a comment_x000D_\\nApprovers can cancel approval by writing `/approve cancel` in a comment_x000D_\\n</details>_x000D_\\n<!-- META={\"approvers\":[]} -->', 'Since right now users are 99% of the time only caring about 1 cluster (i.e. the Zero cluster), we should just remove the field for which clusters users need to deploy to on the `Onboarding Cluster`[ issue templates](https://github.com/operate-first/support/issues/new?assignees=&labels=onboarding&template=onboarding_to_cluster.md&title=).', 'For the Readme in the support repo, we would like to make it more general to Operate-First Org. and not just odh specific: _x000D_\\n_x000D_\\n_x000D_\\nThings we should update: _x000D_\\n- [x] Link to all onboarding templates _x000D_\\n- [x] Link to available environments _x000D_\\n- [x] Listing of the managed services, with \"nice urls\" (e.g. managed odh/kubeflow/argocd)_x000D_\\n- [x] links to further docs for each service _x000D_\\n- [x] Move ODH component status to separate markdown (can be linked from the readme)_x000D_\\n- [x] Make a similar doc for component status for kubeflow _x000D_\\n- [x] Move \"Authenticate via Openshift\" section to the moc onboarding document_x000D_\\n- [x] Update chat room to point to slack support channel', '[APPROVALNOTIFIER] This PR is **APPROVED**_x000D_\\n_x000D_\\nThis pull-request has been approved by: *<a href=\"https://github.com/operate-first/blueprint/pull/65#pullrequestreview-630034100\" title=\"Approved\">4n4nd</a>*, *<a href=\"https://github.com/operate-first/blueprint/pull/65#pullrequestreview-630034092\" title=\"Approved\">tumido</a>*_x000D_\\n_x000D_\\nThe full list of commands accepted by this bot can be found [here](https://go.k8s.io/bot-commands?repo=operate-first%2Fblueprint)._x000D_\\n_x000D_\\nThe pull request process is described [here](https://git.k8s.io/community/contributors/guide/owners.md#the-code-review-process)_x000D_\\n_x000D_\\n<details >_x000D_\\nNeeds approval from an approver in each of these files:_x000D_\\n_x000D_\\n- ~~[OWNERS](https://github.com/operate-first/blueprint/blob/main/OWNERS)~~ [4n4nd,tumido]_x000D_\\n_x000D_\\nApprovers can indicate their approval by writing `/approve` in a comment_x000D_\\nApprovers can cancel approval by writing `/approve cancel` in a comment_x000D_\\n</details>_x000D_\\n<!-- META={\"approvers\":[]} -->', '[APPROVALNOTIFIER] This PR is **APPROVED**_x000D_\\n_x000D_\\nThis pull-request has been approved by: *<a href=\"https://github.com/operate-first/blueprint/pull/65#pullrequestreview-630034100\" title=\"Approved\">4n4nd</a>*, *<a href=\"https://github.com/operate-first/blueprint/pull/65#pullrequestreview-630034092\" title=\"Approved\">tumido</a>*_x000D_\\n_x000D_\\nThe full list of commands accepted by this bot can be found [here](https://go.k8s.io/bot-commands?repo=operate-first%2Fblueprint)._x000D_\\n_x000D_\\nThe pull request process is described [here](https://git.k8s.io/community/contributors/guide/owners.md#the-code-review-process)_x000D_\\n_x000D_\\n<details >_x000D_\\nNeeds approval from an approver in each of these files:_x000D_\\n_x000D_\\n- ~~[OWNERS](https://github.com/operate-first/blueprint/blob/main/OWNERS)~~ [4n4nd,tumido]_x000D_\\n_x000D_\\nApprovers can indicate their approval by writing `/approve` in a comment_x000D_\\nApprovers can cancel approval by writing `/approve cancel` in a comment_x000D_\\n</details>_x000D_\\n<!-- META={\"approvers\":[]} -->', 'Can we attend the event @rbo?', '[APPROVALNOTIFIER] This PR is **APPROVED**_x000D_\\n_x000D_\\nThis pull-request has been approved by: *<a href=\"https://github.com/operate-first/blueprint/pull/70#pullrequestreview-631816584\" title=\"Approved\">HumairAK</a>*_x000D_\\n_x000D_\\nThe full list of commands accepted by this bot can be found [here](https://go.k8s.io/bot-commands?repo=operate-first%2Fblueprint)._x000D_\\n_x000D_\\nThe pull request process is described [here](https://git.k8s.io/community/contributors/guide/owners.md#the-code-review-process)_x000D_\\n_x000D_\\n<details >_x000D_\\nNeeds approval from an approver in each of these files:_x000D_\\n_x000D_\\n- ~~[OWNERS](https://github.com/operate-first/blueprint/blob/main/OWNERS)~~ [HumairAK]_x000D_\\n_x000D_\\nApprovers can indicate their approval by writing `/approve` in a comment_x000D_\\nApprovers can cancel approval by writing `/approve cancel` in a comment_x000D_\\n</details>_x000D_\\n<!-- META={\"approvers\":[]} -->', '/approve', '/approve', '[APPROVALNOTIFIER] This PR is **APPROVED**_x000D_\\n_x000D_\\nThis pull-request has been approved by: *<a href=\"https://github.com/operate-first/blueprint/pull/72#issuecomment-822490265\" title=\"Approved\">HumairAK</a>*, *<a href=\"https://github.com/operate-first/blueprint/pull/72#pullrequestreview-638905974\" title=\"Approved\">tumido</a>*_x000D_\\n_x000D_\\nThe full list of commands accepted by this bot can be found [here](https://go.k8s.io/bot-commands?repo=operate-first%2Fblueprint)._x000D_\\n_x000D_\\nThe pull request process is described [here](https://git.k8s.io/community/contributors/guide/owners.md#the-code-review-process)_x000D_\\n_x000D_\\n<details >_x000D_\\nNeeds approval from an approver in each of these files:_x000D_\\n_x000D_\\n- ~~[OWNERS](https://github.com/operate-first/blueprint/blob/main/OWNERS)~~ [HumairAK,tumido]_x000D_\\n_x000D_\\nApprovers can indicate their approval by writing `/approve` in a comment_x000D_\\nApprovers can cancel approval by writing `/approve cancel` in a comment_x000D_\\n</details>_x000D_\\n<!-- META={\"approvers\":[]} -->', '[APPROVALNOTIFIER] This PR is **APPROVED**_x000D_\\n_x000D_\\nThis pull-request has been approved by: *<a href=\"https://github.com/operate-first/blueprint/pull/73#pullrequestreview-641043626\" title=\"LGTM\">4n4nd</a>*_x000D_\\n_x000D_\\nThe full list of commands accepted by this bot can be found [here](https://go.k8s.io/bot-commands?repo=operate-first%2Fblueprint)._x000D_\\n_x000D_\\nThe pull request process is described [here](https://git.k8s.io/community/contributors/guide/owners.md#the-code-review-process)_x000D_\\n_x000D_\\n<details >_x000D_\\nNeeds approval from an approver in each of these files:_x000D_\\n_x000D_\\n- ~~[OWNERS](https://github.com/operate-first/blueprint/blob/main/OWNERS)~~ [4n4nd]_x000D_\\n_x000D_\\nApprovers can indicate their approval by writing `/approve` in a comment_x000D_\\nApprovers can cancel approval by writing `/approve cancel` in a comment_x000D_\\n</details>_x000D_\\n<!-- META={\"approvers\":[]} -->', 'more changes made here: https://github.com/operate-first/operate-first.github.io/pull/238', \"Closing out this issue. The changes linked I think greatly improves on the points mentioned. We'll continue to iterate on this as time goes on.\", '[APPROVALNOTIFIER] This PR is **NOT APPROVED**_x000D_\\n_x000D_\\nThis pull-request has been approved by:_x000D_\\nTo complete the [pull request process](https://git.k8s.io/community/contributors/guide/owners.md#the-code-review-process), please assign **durandom** after the PR has been reviewed._x000D_\\nYou can assign the PR to them by writing `/assign @durandom` in a comment when ready._x000D_\\n_x000D_\\nThe full list of commands accepted by this bot can be found [here](https://go.k8s.io/bot-commands?repo=operate-first%2Fblueprint)._x000D_\\n_x000D_\\n<details open>_x000D_\\nNeeds approval from an approver in each of these files:_x000D_\\n_x000D_\\n- **[OWNERS](https://github.com/operate-first/blueprint/blob/main/OWNERS)**_x000D_\\n_x000D_\\nApprovers can indicate their approval by writing `/approve` in a comment_x000D_\\nApprovers can cancel approval by writing `/approve cancel` in a comment_x000D_\\n</details>_x000D_\\n<!-- META={\"approvers\":[\"durandom\"]} -->', '@durandom: The following test **failed**, say `/retest` to rerun all failed tests:_x000D_\\n_x000D_\\nTest name | Commit | Details | Rerun command_x000D_\\n--- | --- | --- | ---_x000D_\\naicoe-ci/prow/pre-commit | e0ebfbb94f975e3a8520a64ebde0bdeefa32aa80 | [link](https://prow.operate-first.cloud/view/s3/ci-prow-artifacts--36f9ca3b-f5af-4432-bef8-af42508b403e/prow-logs/pr-logs/pull/operate-first_blueprint/75/pre-commit/1386614061596151808) | `/test pre-commit`_x000D_\\n_x000D_\\n[Full PR test history](https://prow.operate-first.cloud/pr-history?org=operate-first&repo=blueprint&pr=75). [Your PR dashboard](https://prow.operate-first.cloud/pr?query=is%3Apr%20state%3Aopen%20author%3Adurandom). Please help us and [open an issue](https://github.com/operate-first/blueprint/issues?q=is:issue+is:open) when you hit one in your PR._x000D_\\n_x000D_\\n<details>_x000D_\\n_x000D_\\nInstructions for interacting with me using PR comments are available [here](https://git.k8s.io/community/contributors/guide/pull-requests.md).  If you have questions or suggestions related to my behavior, please file an issue against the [kubernetes/test-infra](https://github.com/kubernetes/test-infra/issues/new?title=Prow%20issue:) repository. I understand the commands that are listed [here](https://go.k8s.io/bot-commands)._x000D_\\n</details>_x000D_\\n<!-- test report -->', '@sesheta_x000D_\\naicoe-ci/prow/pre-commit — Job failed.', '@sesheta_x000D_\\naicoe-ci/prow/pre-commit — Job failed._x000D_\\nRequired_x000D_\\ne0ebfbb94f975e3a8520a64ebde0bdeefa32aa80_x000D_\\nhttps://github.com/AICoE/prometheus-api-client-python', 'Related: #30 ', 'Do we have a list of preferred licenses? I will ping Red Hat legal to get input from that angle._x000D_\\n ', 'Will add this to my question to RH legal to see if there are known agreements like this._x000D_\\n', 'related issue #76 #77 #30 ', 'besides above comments:_x000D_\\n/lgtm', '1.  SSO systems are already in use in universities and research centers.  The two most common identity and access management systems are Globus for researchers (https://www.globus.org/ ) and InCommon for US students (https://www.incommon.org/solutions/).  Requirement:  Academic users will use the SSO system their university designates to access Operate First services and data._x000D_\\n2. Academic environments have public policies about acceptable use of their facilities.  This allows them to specify who has access to services and data, and under what conditions that access can be revoked.   The AUP can also specify conditions of use (such as no expectation of privacy).  CloudLab has an excellent policy that has been successfully used for academic operations for many years:  https://www.cloudlab.us/aup.php  Requirement: Operate First will use identities from requirement #1 to manage access to services and data in keeping with the facility AUP.  Only users with an active Operate First account may access services and data.   (Derived requirement:  Operate First environment will publish an AUP.  This will require academic review.)_x000D_\\n3. The onboarding process for an academic environment ensures that each user views the AUP.  Using your account means you accept the AUP.  (Academic environments almost never have license agreements for end users.)  Requirement:  Onboarding for Operate First includes showing users the AUP.   (Derived requirement:  Operate First users whose accounts predate the AUP must be contacted so they can view and accept the AUP.)_x000D_\\n4. Academic environments may further limit access to specific operations data to a subset of users for privacy or security reasons.  This level of access restriction **cannot** be supported in Operate First. Another way to express this is that the AUP must specify that operations data is available to all users with active accounts.   Requirement:  Operate First will not collect or store operations data that requires restricting data access to a subset of all active Operate First users. (This will require academic reviewers.  This requirement also negates the need for a privacy policy.  See https://www.globus.org/legal/privacy for a privacy policy successfully used for many years in Globus.)_x000D_\\nNONE of items 1-4 are actually legal agreements or contracts, so it is relatively straightforward to create and publish them._x000D_\\n5. If data is transferred into or out of an academic environment, the university requires an approved data use agreement.   The university may also require approval from an Institutional Review Board for data that involves human subjects.  Examples for BU:  https://www.bu.edu/researchsupport/forms-policies/data-use-agreement-form/ ://www.bu.edu/researchsupport/profile/institutional-review-board-irb/   Although the examples for these agreements are complex, in practice many data centers already have DUAs and IRB approvals for environments like Operate First.   Michael Daitzman is working to get DUA and (if necessary) IRB approval in advance of prodcution deployment  for Operate First data.  Requirement:  Operate First data will not be transferred into or out of the Operate First environment until we have an approved DUA and (if necessary) IRB approval from BU.', 'Asked Michael Daitzman to review requirements.', \"Looks good. I'll use it as a basis for discussions with legal, etc. who may have some stuff to add in.  \", \"I'm not sure if we can use a code license for data._x000D_\\n_x000D_\\nThese two are more geared towards data:_x000D_\\n_x000D_\\n* https://github.com/lfai/CDLA _x000D_\\n* CC0 https://creativecommons.org/publicdomain/zero/1.0/legalcode\", \"Valid point._x000D_\\n_x000D_\\n[ODBL](https://opendatacommons.org/licenses/odbl/summary/) seams reasonable as well, it's used by OpenStreetMaps - they also have this neat compatibility table: https://wiki.openstreetmap.org/wiki/Import/ODbL_Compatibility_x000D_\\nThat may give us some ideas... :slightly_smiling_face: \", 'Thanks, those requirements are pretty extensive :)_x000D_\\nIf one of those influences a design decision, we should pull them into the ADR._x000D_\\n_x000D_\\nCan we start with the SSO ADR? _x000D_\\nhttps://github.com/operate-first/blueprint/pull/74_x000D_\\n_x000D_\\n@tumido made a point to aggregate [SSO from multiple sources](https://github.com/operate-first/blueprint/pull/74#pullrequestreview-644543290)_x000D_\\n', \"Great info. So the AUP would negate the need for a EULA, but perhaps may need some language to cover the data and it's licensing.... (not a lawyer).\", 'Yes, nice summary @billburnseh ', 'Based on your excellent explanations....credit where credit is due! Thanks! ', 'Thank you @hpdempsey ! :+1: _x000D_\\n_x000D_\\nI think we need to consider \"mingling\" and interaction of 2 kinds of users - those who have access to research institutions and can login via academic SSOs and those who can\\'t - independent users, RH/IBM/other engineers, users accessing a demo or attending a workshop, which requires them to interact with the platform (e.g. ODH demos for deploying various components etc.)._x000D_\\n_x000D_\\nBoth these types of users want to access our platform. While the first can login via academic SSO, the later one can login via email or possibly github only (Those are the only credentials we can use to identify them and are least intrusive.) For these users we still have the need for an EULA in some form._x000D_\\n_x000D_\\nMind that those non-academic users are also interested in taking data in/out of the platform._x000D_\\n_x000D_\\nAdditionally to that Operate First will soon operate clusters outside of MOC, which doesn\\'t have this DUAs and IRBs that are enforced MOC. I\\'m not sure how we want to implement that, since we would like to have unified experience for all of the users, while it doesn\\'t make any sense for a user accessing non-MOC cluster to have to comply with MOC policies directly (like being presented with MOC AUP)._x000D_\\n _x000D_\\nWhile I understand the need for privacy policy and EULAs and what not, I\\'m not versed in this topic at all. So feel free to tell me if I\\'m totally missing the point now. :slightly_smiling_face: ', \"Aand I've just read the *Data license choice for Operate First* email thread. Some of my concerns are already voiced there or explained. Just don't mind me :smile: \", \"You're not missing anything (except maybe some sleep).  I don't think we've_x000D_\\nclarified yet how many stand-alone environments we will have, and the_x000D_\\nextent to which we'll be mixing academic and non-academic users in each_x000D_\\nenvironment.  There are ways to connect commercial or workshop users to an_x000D_\\nacademic SSO systems by having a second compatible certificate authority._x000D_\\nNCSA operates one that is compatible with InCommon, for example.  But we_x000D_\\nprobably won't want to go to that extra effort, so systems with mixed types_x000D_\\nof users will have to support both AUP with SSO and EULAs.  It's also_x000D_\\npossible we separate the two environments, but I hope we don't.  Also, the_x000D_\\nDUAs for an academic environment apply to any ops data, regardless of the_x000D_\\ntype of user (academic or not) who the data is associated with._x000D_\\n_x000D_\\nThanks for your comments._x000D_\\n_x000D_\\n_x000D_\\nOn Wed, Apr 28, 2021 at 5:48 PM Tom Coufal ***@***.***> wrote:_x000D_\\n_x000D_\\n> Aand I've just read the *Data license choice for Operate First* email_x000D_\\n> thread. Some of my concerns are already voiced there or explained. Just_x000D_\\n> don't mind me 😄_x000D_\\n>_x000D_\\n> —_x000D_\\n> You are receiving this because you were mentioned._x000D_\\n> Reply to this email directly, view it on GitHub_x000D_\\n> <https://github.com/operate-first/blueprint/issues/79#issuecomment-828802142>,_x000D_\\n> or unsubscribe_x000D_\\n> <https://github.com/notifications/unsubscribe-auth/AMGMIELZCURNFGWPGUDDRY3TLB7CNANCNFSM43TAHSUQ>_x000D_\\n> ._x000D_\\n>_x000D_\\n\", '> We can aggregate them via Keycloak if we want to - offering choice from all the options._x000D_\\n_x000D_\\nIf we aggregate via Keycloak, do we need to maintain a mapping? Right now we have email addresses in our RBAC configs. Is that the ID that keycloak/OCP would use to map a user? How about ID collisions? _x000D_\\n_x000D_\\n_x000D_\\n', \"@durandom Keycloak can provide various way how to map users if we enable multiple identity providers. It's a pretty mature project so this should be easy to solve. I can prepare a PoC to demonstrate this linking. Usually the emails are the best ID that is transferable across many ID providers, so it make sense to use it as the primary identifier.. However we can try to override that mapping and user GH usernames instead (forcing users to log in via GH on the first login)._x000D_\\n_x000D_\\nI would vote against user option to change usernames, since that would make the ID conflicts possible.\", '/cc @larsks @HumairAK @4n4nd ', 'I\\'d love to see the thread @tumido referenced above.  Re. SSO and academic above -  two of the major academic login options both route via cilogon.org which includes both google (many companies including redhat.com logins) and GitHub as oauth providers so that they support non-academic users.   Not sure of the \"rules of engagement\" for them. ', '@msdisme forwarded :slightly_smiling_face: ', \"Based on investigation:_x000D_\\n- Dashboard: https://grafana-route-opf-monitoring.apps.zero.massopen.cloud/d/GGgK4Q9Mk/tcoufal-testing-total-cpu-usage-vs-request?orgId=1_x000D_\\n- CPU request is much higher than any workload we run_x000D_\\n- CPU tiers are too generous in JH_x000D_\\n- Why does the `openshift-storage` consume so much_x000D_\\n- Completed and Failed pods resource requests are really **not considered** by the scheduler, despite it appears that deleting them makes the cluster unstuck (further investigation needed)_x000D_\\n- There's conflicting metrics:_x000D_\\n  - `kube_pod_container_resource_limits_cpu_cores` shows the Pod's CPU request as it is defined in the resource _x000D_\\n  - `kube_pod_resource_request` shows the effective Pod's resource request that is considered by the scheduler_x000D_\\n- Prioritize https://github.com/operate-first/SRE/issues/229_x000D_\\n_x000D_\\nNew user-focused dashboards (convert to declarative and provide upstream):_x000D_\\n- https://grafana-route-opf-monitoring.apps.zero.massopen.cloud/d/2ZPZ1LrGz/tcoufal-testing-kubeflow-pipeline-info?orgId=1_x000D_\\n- https://grafana-route-opf-monitoring.apps.zero.massopen.cloud/d/fuJBFErMz/tcoufal-testing-jh-pod-usage?orgId=1\", '[APPROVALNOTIFIER] This PR is **APPROVED**_x000D_\\n_x000D_\\nThis pull-request has been approved by: *<a href=\"https://github.com/operate-first/blueprint/pull/84#pullrequestreview-650326105\" title=\"LGTM\">anishasthana</a>*, *<a href=\"https://github.com/operate-first/blueprint/pull/84#pullrequestreview-650324242\" title=\"Approved\">HumairAK</a>*_x000D_\\n_x000D_\\nThe full list of commands accepted by this bot can be found [here](https://go.k8s.io/bot-commands?repo=operate-first%2Fblueprint)._x000D_\\n_x000D_\\nThe pull request process is described [here](https://git.k8s.io/community/contributors/guide/owners.md#the-code-review-process)_x000D_\\n_x000D_\\n<details >_x000D_\\nNeeds approval from an approver in each of these files:_x000D_\\n_x000D_\\n- ~~[OWNERS](https://github.com/operate-first/blueprint/blob/main/OWNERS)~~ [HumairAK]_x000D_\\n_x000D_\\nApprovers can indicate their approval by writing `/approve` in a comment_x000D_\\nApprovers can cancel approval by writing `/approve cancel` in a comment_x000D_\\n</details>_x000D_\\n<!-- META={\"approvers\":[]} -->', '@tumido I get a 403 permission denied on these dashboards as i try to login through moc-sso. Can you please provide access?', 'currently only people with `get` access to opf-monitoring can access grafana (i.e. people in the `operate-first` ocp group), due to the change [here](https://github.com/operate-first/apps/pull/573/files#diff-51fbdb84f6ec90c111819c9e6eecd6c870102b2f11a4071cb28266e00e852e31R47) -- we should expand these to additional users, (subject to ongoing discussions regarding user policies of course)', '@HumairAK can we extend that to `data-science` group then? :slightly_smiling_face: ', 'thanks! if these are the user oriented dashboards which @tumido presented, we(data science users) would very much benefit from having access to these 🙂 ', \"yes, these are the user oriented dashboards (the two linked at the end) - we'll convert them to permanent dashboards soon. I still have some fiddling to do. Right now, they are just prototypes, stored in the Grafana runtime.._x000D_\\n_x000D_\\n_x000D_\\n\", \"Is there an issue for tracking the details of what we would like to capture (I'll want to have similar for Decorus) so that I may use that as a basis for discussions with university legal and IRB.   \", 'Hello @christianh814 this is something we are considering since the update to 2.0.1, we have a thread already going for this [here](https://github.com/operate-first/apps/issues/502)_x000D_\\n_x000D_\\nGoing to close this thread as this is a duplicate, we welcome your thoughts in the thread linked above.. ', 'Data we want to collect and share:_x000D_\\n1. Application logs from all the applications running in the cluster, this can be really anything. If the application logs for example which users are connecting to it, we will collect it. Example (ODH JupyterHub):_x000D_\\n```_x000D_\\n[I 2021-05-05 10:02:42.206 JupyterHub pages:402] tcoufal@redhat.com is pending spawn_x000D_\\n[I 2021-05-05 10:02:42.210 JupyterHub log:189] 200 GET /hub/spawn-pending/tcoufal@redhat.com (tcoufal@redhat.com@::ffff:10.131.0.1) 13.28ms_x000D_\\n10:02:47.190 [ConfigProxy] _x001B_[32minfo_x001B_[39m: 200 GET /api/routes_x000D_\\nhttp://10.131.2.139:9090!=http://10.131.2.139:8080_x000D_\\n 2021-05-05 10:03:00.462 JupyterHub proxy:282] Adding user tcoufal@redhat.com to proxy /user/tcoufal@redhat.com/ => http://10.131.3.105:8080_x000D_\\n10:03:00.465 [ConfigProxy] _x001B_[32minfo_x001B_[39m: Adding route /user/tcoufal@redhat.com -> http://10.131.3.105:8080_x000D_\\n10:03:00.465 [ConfigProxy] _x001B_[32minfo_x001B_[39m: Route added /user/tcoufal@redhat.com -> http://10.131.3.105:8080_x000D_\\n10:03:00.465 [ConfigProxy] _x001B_[32minfo_x001B_[39m: 201 POST /api/routes/user/tcoufal@redhat.com_x000D_\\n[I 2021-05-05 10:03:00.468 JupyterHub log:189] 200 GET /hub/api (@10.131.3.105) 1.97ms_x000D_\\n[I 2021-05-05 10:03:00.469 JupyterHub users:671] Server tcoufal@redhat.com is ready_x000D_\\n[I 2021-05-05 10:03:00.471 JupyterHub log:189] 200 GET /hub/api/users/tcoufal@redhat.com/server/progress (tcoufal@redhat.com@::ffff:10.131.0.1) 18057.13ms_x000D_\\n[I 2021-05-05 10:03:00.528 JupyterHub log:189] 200 POST /hub/api/users/tcoufal@redhat.com/activity (tcoufal@redhat.com@10.131.3.105) 33.95ms_x000D_\\n[I 2021-05-05 10:03:00.613 JupyterHub log:189] 302 GET /hub/spawn-pending/tcoufal@redhat.com -> /user/tcoufal@redhat.com/ (tcoufal@redhat.com@::ffff:10.131.0.1) 6.94ms_x000D_\\n[I 2021-05-05 10:03:01.023 JupyterHub log:189] 302 GET /hub/api/oauth2/authorize?client_id=jupyterhub-user-tcoufal%2540redhat.com&redirect_uri=%2Fuser%2Ftcoufal%40redhat.com%2Foauth_callback&response_type=code&state=[secret] -> /user/tcoufal@redhat.com/oauth_callback?code=[secret]&state=[secret] (tcoufal@redhat.com@::ffff:10.131.0.1) 34.50ms_x000D_\\n[I 2021-05-05 10:03:01.215 JupyterHub log:189] 200 POST /hub/api/oauth2/token (tcoufal@redhat.com@10.131.3.105) 53.71ms_x000D_\\n[I 2021-05-05 10:03:01.246 JupyterHub log:189] 200 GET /hub/api/authorizations/token/[secret] (tcoufal@redhat.com@10.131.3.105) 24.52ms_x000D_\\n10:03:02.662 [ConfigProxy] _x001B_[32minfo_x001B_[39m: 200 GET /api/routes_x000D_\\n```_x000D_\\n2. Application metrics if the application exposes them, each application can define what metrics to show. This may include PII, if the username or what not is used to name a pod for example (labels can be anything really). Example (ODH JupyterHub):_x000D_\\n```_x000D_\\n# HELP jupyterhub_server_spawn_duration_seconds time taken for server spawning operation_x000D_\\n# TYPE jupyterhub_server_spawn_duration_seconds histogram_x000D_\\njupyterhub_server_spawn_duration_seconds_bucket{le=\"0.5\",status=\"success\"} 0.0_x000D_\\njupyterhub_server_spawn_duration_seconds_bucket{le=\"1.0\",status=\"success\"} 0.0_x000D_\\njupyterhub_server_spawn_duration_seconds_bucket{le=\"2.5\",status=\"success\"} 0.0_x000D_\\njupyterhub_server_spawn_duration_seconds_bucket{le=\"5.0\",status=\"success\"} 0.0_x000D_\\njupyterhub_server_spawn_duration_seconds_bucket{le=\"10.0\",status=\"success\"} 1.0_x000D_\\njupyterhub_server_spawn_duration_seconds_bucket{le=\"15.0\",status=\"success\"} 8.0_x000D_\\njupyterhub_server_spawn_duration_seconds_bucket{le=\"30.0\",status=\"success\"} 27.0_x000D_\\njupyterhub_server_spawn_duration_seconds_bucket{le=\"60.0\",status=\"success\"} 42.0_x000D_\\njupyterhub_server_spawn_duration_seconds_bucket{le=\"120.0\",status=\"success\"} 52.0_x000D_\\njupyterhub_server_spawn_duration_seconds_bucket{le=\"+Inf\",status=\"success\"} 57.0_x000D_\\njupyterhub_server_spawn_duration_seconds_count{status=\"success\"} 57.0_x000D_\\njupyterhub_server_spawn_duration_seconds_sum{status=\"success\"} 3389.5434402088904_x000D_\\n```_x000D_\\n_x000D_\\n3. Platform events - events generated by the OCP platform itself. Example (spawning a pod):_x000D_\\n```_x000D_\\n{\"apiVersion\":\"v1\",\"count\":1,\"eventTime\":null,\"firstTimestamp\":\"2021-05-05T10:07:31Z\",\"involvedObject\":{\"apiVersion\":\"v1\",\"kind\":\"Pod\",\"name\":\"jupyterhub-nb-tcoufal-40redhat-2ecom\",\"namespace\":\"opf-jupyterhub\",\"resourceVersion\":\"209536743\",\"uid\":\"7a27741f-a72d-4f0d-bf17-3cd0d3ede494\"},\"kind\":\"Event\",\"lastTimestamp\":\"2021-05-05T10:07:31Z\",\"message\":\"Add eth0 [10.131.3.106/23]\",\"metadata\":{\"creationTimestamp\":\"2021-05-05T10:07:31Z\",\"managedFields\":[{\"apiVersion\":\"v1\",\"fieldsType\":\"FieldsV1\",\"fieldsV1\":{\"f:count\":{},\"f:firstTimestamp\":{},\"f:involvedObject\":{\"f:apiVersion\":{},\"f:kind\":{},\"f:name\":{},\"f:namespace\":{},\"f:resourceVersion\":{},\"f:uid\":{}},\"f:lastTimestamp\":{},\"f:message\":{},\"f:reason\":{},\"f:source\":{\"f:component\":{}},\"f:type\":{}},\"manager\":\"multus\",\"operation\":\"Update\",\"time\":\"2021-05-05T10:07:31Z\"}],\"name\":\"jupyterhub-nb-tcoufal-40redhat-2ecom.167c23baee4d0e1c\",\"namespace\":\"opf-jupyterhub\",\"resourceVersion\":\"209537358\",\"selfLink\":\"/api/v1/namespaces/opf-jupyterhub/events/jupyterhub-nb-tcoufal-40redhat-2ecom.167c23baee4d0e1c\",\"uid\":\"40c934ef-4bd2-4f41-8686-e5c979adec62\"},\"reason\":\"AddedInterface\",\"reportingComponent\":\"\",\"reportingInstance\":\"\",\"source\":{\"component\":\"multus\"},\"type\":\"Normal\"}_x000D_\\n{\"apiVersion\":\"v1\",\"count\":1,\"eventTime\":null,\"firstTimestamp\":\"2021-05-05T10:07:32Z\",\"involvedObject\":{\"apiVersion\":\"v1\",\"fieldPath\":\"spec.containers{notebook}\",\"kind\":\"Pod\",\"name\":\"jupyterhub-nb-tcoufal-40redhat-2ecom\",\"namespace\":\"opf-jupyterhub\",\"resourceVersion\":\"209536741\",\"uid\":\"7a27741f-a72d-4f0d-bf17-3cd0d3ede494\"},\"kind\":\"Event\",\"lastTimestamp\":\"2021-05-05T10:07:32Z\",\"message\":\"Container image \\\\\"quay.io/thoth-station/s2i-minimal-notebook@sha256:eacfa74842ce6330991d945408bb37c3e8f37246ff3f1b98837cf7ae4f5a78af\\\\\" already present on machine\",\"metadata\":{\"creationTimestamp\":\"2021-05-05T10:07:32Z\",\"managedFields\":[{\"apiVersion\":\"v1\",\"fieldsType\":\"FieldsV1\",\"fieldsV1\":{\"f:count\":{},\"f:firstTimestamp\":{},\"f:involvedObject\":{\"f:apiVersion\":{},\"f:fieldPath\":{},\"f:kind\":{},\"f:name\":{},\"f:namespace\":{},\"f:resourceVersion\":{},\"f:uid\":{}},\"f:lastTimestamp\":{},\"f:message\":{},\"f:reason\":{},\"f:source\":{\"f:component\":{},\"f:host\":{}},\"f:type\":{}},\"manager\":\"kubelet\",\"operation\":\"Update\",\"time\":\"2021-05-05T10:07:32Z\"}],\"name\":\"jupyterhub-nb-tcoufal-40redhat-2ecom.167c23bb0d9cb74e\",\"namespace\":\"opf-jupyterhub\",\"resourceVersion\":\"209537393\",\"selfLink\":\"/api/v1/namespaces/opf-jupyterhub/events/jupyterhub-nb-tcoufal-40redhat-2ecom.167c23bb0d9cb74e\",\"uid\":\"4677bec6-ee3a-4866-9d0f-b3c3e06f86f6\"},\"reason\":\"Pulled\",\"reportingComponent\":\"\",\"reportingInstance\":\"\",\"source\":{\"component\":\"kubelet\",\"host\":\"os-wrk-1\"},\"type\":\"Normal\"}_x000D_\\n```_x000D_\\n_x000D_\\n4. Platform logs are similar to the application logs, but generated by the OCP platform itself. Example (OAuth logs):_x000D_\\n```_x000D_\\nI0427 19:19:02.124608       1 named_certificates.go:53] loaded SNI cert [1/\"sni-serving-cert::/var/config/system/secrets/v4-0-config-system-router-certs/apps.zero.massopen.cloud::/var/config/system/secrets/v4-0-config-system-router-certs/apps.zero.massopen.cloud\"]: \"api.zero.massopen.cloud\" [serving,client] validServingFor=[*.apps.zero.massopen.cloud,api.zero.massopen.cloud] issuer=\"R3\" (2021-03-08 12:41:20 +0000 UTC to 2021-06-06 12:41:20 +0000 UTC (now=2021-04-27 19:19:02.124599505 +0000 UTC))_x000D_\\nI0427 19:19:02.124830       1 named_certificates.go:53] loaded SNI cert [0/\"self-signed loopback\"]: \"apiserver-loopback-client@1619551141\" [serving] validServingFor=[apiserver-loopback-client] issuer=\"apiserver-loopback-client-ca@1619551141\" (2021-04-27 18:19:00 +0000 UTC to 2022-04-27 18:19:00 +0000 UTC (now=2021-04-27 19:19:02.124819977 +0000 UTC))_x000D_\\nE0427 19:21:28.160157       1 osinserver.go:91] internal error: system:serviceaccount:opf-jupyterhub:jupyterhub-hub has no redirectURIs; set serviceaccounts.openshift.io/oauth-redirecturi.<some-value>=<redirect> or create a dynamic URI using serviceaccounts.openshift.io/oauth-redirectreference.<some-value>=<reference>_x000D_\\nE0427 19:21:28.160157       1 osinserver.go:91] internal error: system:serviceaccount:openshift-logging:kibana has no redirectURIs; set serviceaccounts.openshift.io/oauth-redirecturi.<some-value>=<redirect> or create a dynamic URI using serviceaccounts.openshift.io/oauth-redirectreference.<some-value>=<reference>_x000D_\\nE0427 19:21:40.496897       1 osinserver.go:91] internal error: system:serviceaccount:openshift-logging:kibana has no redirectURIs; set serviceaccounts.openshift.io/oauth-redirecturi.<some-value>=<redirect> or create a dynamic URI using serviceaccounts.openshift.io/oauth-redirectreference.<some-value>=<reference>_x000D_\\nE0427 19:21:40.496905       1 osinserver.go:91] internal error: system:serviceaccount:opf-jupyterhub:jupyterhub-hub has no redirectURIs; set serviceaccounts.openshift.io/oauth-redirecturi.<some-value>=<redirect> or create a dynamic URI using serviceaccounts.openshift.io/oauth-redirectreference.<some-value>=<reference>_x000D_\\nE0427 19:21:46.638010       1 osinserver.go:91] internal error: system:serviceaccount:opf-jupyterhub:jupyterhub-hub has no redirectURIs; set serviceaccounts.openshift.io/oauth-redirecturi.<some-value>=<redirect> or create a dynamic URI using serviceaccounts.openshift.io/oauth-redirectreference.<some-value>=<reference>_x000D_\\nE0428 14:28:36.180088       1 osinserver.go:91] internal error: system:serviceaccount:opf-monitoring:grafana-serviceaccount has no redirectURIs; set serviceaccounts.openshift.io/oauth-redirecturi.<some-value>=<redirect> or create a dynamic URI using serviceaccounts.openshift.io/oauth-redirectreference.<some-value>=<reference>_x000D_\\nE0503 19:37:02.866939       1 authentication.go:53] Unable to authenticate the request due to an error: [invalid bearer token, context canceled]_x000D_\\n```_x000D_\\n_x000D_\\n5. Platform metrics - same data structure as the application metrics, but generated by the OCP itself. Sample of kube pod info metric:_x000D_\\n```_x000D_\\n_x000D_\\nkube_pod_info{container=\"kube-rbac-proxy-main\",\\xa0created_by_kind=\"<none>\",\\xa0created_by_name=\"<none>\",\\xa0endpoint=\"https-main\",\\xa0host_ip=\"192.12.185.110\",\\xa0job=\"kube-state-metrics\",\\xa0namespace=\"openshift-etcd\",\\xa0node=\"os-ctrl-0\",\\xa0pod=\"revision-pruner-5-os-ctrl-0\",\\xa0pod_ip=\"10.130.0.7\",\\xa0priority_class=\"system-node-critical\",\\xa0service=\"kube-state-metrics\",\\xa0uid=\"c5a1bc73-f28b-4e0f-9cc6-c2c7abd5b0b8\"} 1_x000D_\\nkube_pod_info{container=\"kube-rbac-proxy-main\",\\xa0created_by_kind=\"<none>\",\\xa0created_by_name=\"<none>\",\\xa0endpoint=\"https-main\",\\xa0host_ip=\"192.12.185.110\",\\xa0job=\"kube-state-metrics\",\\xa0namespace=\"openshift-kube-apiserver\",\\xa0node=\"os-ctrl-0\",\\xa0pod=\"revision-pruner-22-os-ctrl-0\",\\xa0pod_ip=\"10.130.0.139\",\\xa0priority_class=\"system-node-critical\",\\xa0service=\"kube-state-metrics\",\\xa0uid=\"721d7288-3b7a-4460-be92-bea36e3539fa\"} 1_x000D_\\nkube_pod_info{container=\"kube-rbac-proxy-main\",\\xa0created_by_kind=\"<none>\",\\xa0created_by_name=\"<none>\",\\xa0endpoint=\"https-main\",\\xa0host_ip=\"192.12.185.110\",\\xa0job=\"kube-state-metrics\",\\xa0namespace=\"openshift-kube-controller-manager\",\\xa0node=\"os-ctrl-0\",\\xa0pod=\"revision-pruner-12-os-ctrl-0\",\\xa0pod_ip=\"10.130.0.141\",\\xa0priority_class=\"system-node-critical\",\\xa0service=\"kube-state-metrics\",\\xa0uid=\"c92a8983-6ba6-42ed-af6f-535aed848e67\"} 1_x000D_\\nkube_pod_info{container=\"kube-rbac-proxy-main\",\\xa0created_by_kind=\"<none>\",\\xa0created_by_name=\"<none>\",\\xa0endpoint=\"https-main\",\\xa0host_ip=\"192.12.185.110\",\\xa0job=\"kube-state-metrics\",\\xa0namespace=\"openshift-kube-scheduler\",\\xa0node=\"os-ctrl-0\",\\xa0pod=\"revision-pruner-11-os-ctrl-0\",\\xa0pod_ip=\"10.130.0.140\",\\xa0priority_class=\"system-node-critical\",\\xa0service=\"kube-state-metrics\",\\xa0uid=\"e799030c-703f-4654-b896-8493f3e2dd35\"} 1_x000D_\\nkube_pod_info{container=\"kube-rbac-proxy-main\",\\xa0created_by_kind=\"<none>\",\\xa0created_by_name=\"<none>\",\\xa0endpoint=\"https-main\",\\xa0host_ip=\"192.12.185.111\",\\xa0job=\"kube-state-metrics\",\\xa0namespace=\"openshift-etcd\",\\xa0node=\"os-ctrl-1\",\\xa0pod=\"revision-pruner-5-os-ctrl-1\",\\xa0pod_ip=\"10.128.0.121\",\\xa0priority_class=\"system-node-critical\",\\xa0service=\"kube-state-metrics\",\\xa0uid=\"e8df07cc-9ad9-4479-8922-556b2a1cc2ae\"} 1_x000D_\\n```_x000D_\\n_x000D_\\n5. We are also collecting data derived from it, like alerts which are directly calculated from metrics, e.g.: https://github.com/operate-first/alerts/issues/5609_x000D_\\n_x000D_\\n_x000D_\\nData we are hosting for users and their applications. We\\'re not collecting the data intentionally, but they can share via our platform:_x000D_\\n- We provide block storage which is used by applications and users to store data. Direct access to this block storage is available within the platform only and data can be retrieved only via proxy (the application mounting the storage itself)._x000D_\\n- We provide object storage that can be interfaced externally - users can access this data from outside of the platform if they have credentials to their object storage bucket.', 'Thanks, this is great!  should I break the details in the comment above into a different issue or does it make sense for them to live here?  ', 'a quick update, met with the folks who review IRB - scheduling a follow up discussion with them to dive deeper in to the data. ', 'With this ADR, and assuming we adopt my suggestion for core resources, we end up with something like:_x000D_\\n_x000D_\\n```_x000D_\\n._x000D_\\n├── apiextensions.k8s.io_x000D_\\n│\\xa0\\xa0 └── customresourcedefinitions_x000D_\\n│\\xa0\\xa0     ├── applications.argoproj.io.yaml_x000D_\\n│\\xa0\\xa0     ├── appprojects.argoproj.io.yaml_x000D_\\n│\\xa0\\xa0     ├── kfdefs.kfdef.apps.kubeflow.org.yaml_x000D_\\n│\\xa0\\xa0     ├── observatoria.core.observatorium.io.yaml_x000D_\\n│\\xa0\\xa0     ├── prowjobs.prow.k8s.io.yaml_x000D_\\n│\\xa0\\xa0     └── rayclusters.cluster.ray.io.yaml_x000D_\\n├── config.openshift.io_x000D_\\n│\\xa0\\xa0 ├── oauths_x000D_\\n│\\xa0\\xa0 │\\xa0\\xa0 └── cluster.yaml_x000D_\\n│\\xa0\\xa0 └── projects_x000D_\\n│\\xa0\\xa0     └── cluster.yaml_x000D_\\n├── core_x000D_\\n│\\xa0\\xa0 ├── namespaces_x000D_\\n│\\xa0\\xa0 │\\xa0\\xa0 ├── apicurio-apicurio-registry.yaml_x000D_\\n│\\xa0\\xa0 │\\xa0\\xa0 ├── argocd.yaml_x000D_\\n│\\xa0\\xa0 │\\xa0\\xa0 ├── as-pushgateway.yaml_x000D_\\n│\\xa0\\xa0 │\\xa0\\xa0 ├── b4mad-minecraft.yaml_x000D_\\n│\\xa0\\xa0 │\\xa0\\xa0 ├── cnv-testing.yaml_x000D_\\n│\\xa0\\xa0 │\\xa0\\xa0 ├── codait-advo.yaml_x000D_\\n│\\xa0\\xa0 │\\xa0\\xa0 ├── democratic-csi.yaml_x000D_\\n│\\xa0\\xa0 │\\xa0\\xa0 ├── ds-black-flake.yaml_x000D_\\n│\\xa0\\xa0 │\\xa0\\xa0 ├── ds-example-project.yaml_x000D_\\n│\\xa0\\xa0 │\\xa0\\xa0 ├── ds-ml-workflows-ws.yaml_x000D_\\n│\\xa0\\xa0 │\\xa0\\xa0 ├── fde-audio-decoder-demo.yaml_x000D_\\n│\\xa0\\xa0 │\\xa0\\xa0 ├── hostpath-provisioner.yaml_x000D_\\n│\\xa0\\xa0 │\\xa0\\xa0 ├── kubeflow.yaml_x000D_\\n[...]_x000D_\\n```', \"Operational data specifically *excludes* users own data sets, i.e. it's only data that is generated by the platform: logs, metrics, telemetry. _x000D_\\nFor logs it *excludes* logs from the workloads pods, but includes logs from the platform pods. E.g. JupyterHub vs etcd_x000D_\\nFor metrics it'll include CPU metrics for workloads pods, but not metrics that the application exposes. E.g. JupyterHub metrcs vs Pod metric_x000D_\\n_x000D_\\nThe same definition can be made for workload data, which should be governed by an opt-in or opt-out policy - see https://github.com/operate-first/blueprint/issues/87\", 'Some random thoughts on this topic from over the weekend; writing them here so as not to forget:_x000D_\\n_x000D_\\n## kustomization.yaml_x000D_\\n_x000D_\\n- We need `kustomization.yaml` for several reasons:_x000D_\\n  - `kustomize` won\\'t include files outside the local directory tree_x000D_\\n  - we use `kustomization.yaml` to set the namespace for resources_x000D_\\n  - we use `kustomization.yaml` to include `components`_x000D_\\n_x000D_\\n# resource quotas_x000D_\\n_x000D_\\nSome `Namespaces` include custom resource quotas (e.g.,_x000D_\\n`base/opf-datacatalog/resourcequota.yaml`). Currently, these are all_x000D_\\nnamed \"custom\". If we reorganize everything in `base/` by_x000D_\\n`<apiversion>/<kind>/<name>`, all these resource quotas end up in the_x000D_\\nsame place. With this adr, should we:_x000D_\\n_x000D_\\n- Leave things as they are, with the custom `resourcequota.yaml` in_x000D_\\n  `base/core/namespaces/<name>/resourcequota.yaml`?_x000D_\\n_x000D_\\n- Give the resource quotas unique names and put them in_x000D_\\n  `base/core/resourcequotas/<name>`? I submitted a pr to update the_x000D_\\n  names in https://github.com/operate-first/apps/pull/621_x000D_\\n_x000D_\\n- Move these into overlays, on the assumption that different clusters_x000D_\\n  may want to apply different resource quotas?_x000D_\\n_x000D_\\n# image registry_x000D_\\n_x000D_\\nShould we treat the image registry as a top-level application?_x000D_\\nCurrently, we have a `PersistentVolumeClaim` in_x000D_\\n`base/imageregistryconfigs/cluster`, but this seems out of place (it\\'s_x000D_\\n*really* not a cluster-wide resource)._x000D_\\n', \"> Give the resource quotas unique names and put them in base/core/resourcequotas/<name>? I submitted a pr to update the names in operate-first/apps#621_x000D_\\n_x000D_\\nI think I like this option over the others _x000D_\\n_x000D_\\n> Should we treat the image registry as a top-level application?....(it's really not a cluster-wide resource)._x000D_\\n_x000D_\\nWell..neither are operator-groups, I think `cluster-scope` app is not just `cluster-resources` but more like `privileged resources, and resources in privileged locations`, I personally don't mind having `PersistentVolumeClaim` in `cluster-scope` for niche cases such as this. An app for 2 files seems overkill imo. \", \"I agree with @HumairAK. The `cluster-scope` or `cluster-resources` is maybe named wrong - the purpose for it is to host all resources which are not allowed to be touched by regular project admins. `OperatorGroups`, `Subscriptions`, `ResourceQuotas` are all namespaced resources we define here and it's because we don't want users to control those..._x000D_\\n_x000D_\\nThe Image registry is a specific case - the `Config` resource is a cluster-scoped resource that is deployed on the cluster from the start and we're just patching few properties of it - some other spec properties are even managed by the cluster itself. It's a singleton in the whole cluster. And it in our case, it requires a PVC._x000D_\\n_x000D_\\nIf you want the Image Registry as a separate app, you would still need to split those 2 resources up and let the `Config` live in the `cluster-scope` and the PVC in a separate application with a single resource only. That seems wrong to me. Hence I chose to include PVC together with it in the `cluster-scope`._x000D_\\n\", \"> Give the resource quotas unique names and put them in_x000D_\\nbase/core/resourcequotas/<name>? I submitted a pr to update the_x000D_\\nnames in operate-first/apps#621_x000D_\\n_x000D_\\n:+1: on the resource quotas. I think that's the best option we have.\", '[APPROVALNOTIFIER] This PR is **APPROVED**_x000D_\\n_x000D_\\nThis pull-request has been approved by: *<a href=\"https://github.com/operate-first/blueprint/pull/86#pullrequestreview-656774345\" title=\"Approved\">larsks</a>*, *<a href=\"https://github.com/operate-first/blueprint/pull/86#pullrequestreview-656788979\" title=\"Approved\">tumido</a>*_x000D_\\n_x000D_\\nThe full list of commands accepted by this bot can be found [here](https://go.k8s.io/bot-commands?repo=operate-first%2Fblueprint)._x000D_\\n_x000D_\\nThe pull request process is described [here](https://git.k8s.io/community/contributors/guide/owners.md#the-code-review-process)_x000D_\\n_x000D_\\n<details >_x000D_\\nNeeds approval from an approver in each of these files:_x000D_\\n_x000D_\\n- ~~[OWNERS](https://github.com/operate-first/blueprint/blob/main/OWNERS)~~ [tumido]_x000D_\\n_x000D_\\nApprovers can indicate their approval by writing `/approve` in a comment_x000D_\\nApprovers can cancel approval by writing `/approve cancel` in a comment_x000D_\\n</details>_x000D_\\n<!-- META={\"approvers\":[]} -->', 'https://docs.google.com/document/d/1l-KKggl1W7wpkzmwfOcDtmDsrug9yYsnzvcbS0VGA8Q/edit', \"I don't have a strong preference, @tumido do you? \", \"My preference is always to stick with the standards if we don't have any strong argument against - staying as non-opinionated as possible sounds like the key to openness to me._x000D_\\n_x000D_\\nAlso non-opinionated != lazy. :grin: \", '[APPROVALNOTIFIER] This PR is **APPROVED**_x000D_\\n_x000D_\\nThis pull-request has been approved by: *<a href=\"https://github.com/operate-first/blueprint/pull/90#pullrequestreview-661808923\" title=\"Approved\">tumido</a>*_x000D_\\n_x000D_\\nThe full list of commands accepted by this bot can be found [here](https://go.k8s.io/bot-commands?repo=operate-first%2Fblueprint)._x000D_\\n_x000D_\\nThe pull request process is described [here](https://git.k8s.io/community/contributors/guide/owners.md#the-code-review-process)_x000D_\\n_x000D_\\n<details >_x000D_\\nNeeds approval from an approver in each of these files:_x000D_\\n_x000D_\\n- ~~[OWNERS](https://github.com/operate-first/blueprint/blob/main/OWNERS)~~ [tumido]_x000D_\\n_x000D_\\nApprovers can indicate their approval by writing `/approve` in a comment_x000D_\\nApprovers can cancel approval by writing `/approve cancel` in a comment_x000D_\\n</details>_x000D_\\n<!-- META={\"approvers\":[]} -->', '2 examples for Acceptable Use Policy_x000D_\\n_x000D_\\nhttps://www.osgconnect.net/aup_x000D_\\nhttps://www.chameleoncloud.org/terms/_x000D_\\n_x000D_\\n', ':+1: I have no knowledge on this topic, so my input will be probably minimal, but I agree with the need for this in general. :slightly_smiling_face: ', 'Rober got all the brains, you got all the process/docs ;) I use the words of a well-known person: its a win-win-win situation', 'Currently, the SDN traffic is plain is unencrypted over public ips, it stays in the Hetzner datacenter but is unencrypted!_x000D_\\n_x000D_\\nThe Solution is to setup IPSec between all nodes: https://docs.openshift.com/container-platform/4.7/installing/installing_bare_metal/installing-bare-metal-network-customizations.html#modifying-nwoperator-config-startup_installing-bare-metal-network-customizations_x000D_\\n_x000D_\\nOverview:_x000D_\\n_x000D_\\n![image](https://user-images.githubusercontent.com/36604/118952951-ac132e00-b95c-11eb-981e-6650aded52c2.png)_x000D_\\n_x000D_\\nImport the part \"**The following internode traffic is NOT IPSec encrypted:**\" to understand the limitation._x000D_\\n', 'Here a bunch of credentials and secrets I have stored on my workstation related to the Hetzner Setup:_x000D_\\n * Hetzner Account credentials (To order and maintain the server)_x000D_\\n * SSH private key for hetzner machines_x000D_\\n * Hetzner Robot API Key_x000D_\\n * Hetzner Cloud API Key_x000D_\\n * GCP Service Account secret file_x000D_\\n * Red Hat Pull Secret for cluster setup', '/lgtm', 'I think we\\'ve already established that there are real problems with \"store encrypted files in a git repository\", because it becomes effectively impossible to recover from a key compromise: even if you rewrite the history of the \"main\" repository, you don\\'t know how many copies of the old repository are out there that would be vulnerable to someone with copies of the old keys._x000D_\\n_x000D_\\nYou\\'re going to see the same issue with just about any form of distributed storage, because as long as someone has access to the history of the password store, old keys continue to be valid._x000D_\\n_x000D_\\nFor actual security, you need a single point of storage (perhaps with some sort of secure backup), so that in the event of a key compromise it\\'s possible to invalidate all access from prior keys. I\\'m not aware of any open source solutions that offer this level of security while still permitting group collaboration. Most open source solutions really seem to be focused on the individual user._x000D_\\n_x000D_\\nI think we\\'re going to need some sort of \"hosted\" solution, whether that means \"hosted by us\" or \"provided by a third party\".', \"Let's talk to AppSRE, OpenCloudLabs (who else?) to see how they do this and what we can learn from them.\", 'Work is progressing on the access to data. BU has a document to summarize which will lead to addressing any AUP or data access agreements that are needed/ Doc is located here: https://docs.google.com/document/d/1j8pVhN6n-8xuQpoPpsZS4fWnmGuNPxBMsIWUvzxg99o/edit?usp=sharing. Note that the initial work is focused on access within the environment and the topic of a fully open repo requires further definition of the data, and mitigation required to scrub inforation that could be used in violation of various data protection laws around PII (Personally Identifyable Information) such as GPDR._x000D_\\nResolution of this aspect is not expected soon.', 'Current thinking is that an existing AUP (Acceptable Use Policy, like a EULA) should cover data access within the environment, with possible additions specific to data access. Further, there could be a separate data access policy, but that is unclear at this time. Moving data outside the environment to make it. Current doc working the issues is at  https://docs.google.com/document/d/1j8pVhN6n-8xuQpoPpsZS4fWnmGuNPxBMsIWUvzxg99o/edit?usp=sharing_x000D_\\n', '/lgtm_x000D_\\n/approved', '/approve_x000D_\\n:facepalm: ', '[APPROVALNOTIFIER] This PR is **APPROVED**_x000D_\\n_x000D_\\nThis pull-request has been approved by: *<a href=\"https://github.com/operate-first/blueprint/pull/94#pullrequestreview-666872197\" title=\"LGTM\">anishasthana</a>*, *<a href=\"https://github.com/operate-first/blueprint/pull/94#issuecomment-853138922\" title=\"Approved\">HumairAK</a>*_x000D_\\n_x000D_\\nThe full list of commands accepted by this bot can be found [here](https://go.k8s.io/bot-commands?repo=operate-first%2Fblueprint)._x000D_\\n_x000D_\\nThe pull request process is described [here](https://git.k8s.io/community/contributors/guide/owners.md#the-code-review-process)_x000D_\\n_x000D_\\n<details >_x000D_\\nNeeds approval from an approver in each of these files:_x000D_\\n_x000D_\\n- ~~[OWNERS](https://github.com/operate-first/blueprint/blob/main/OWNERS)~~ [HumairAK]_x000D_\\n_x000D_\\nApprovers can indicate their approval by writing `/approve` in a comment_x000D_\\nApprovers can cancel approval by writing `/approve cancel` in a comment_x000D_\\n</details>_x000D_\\n<!-- META={\"approvers\":[]} -->', \"BU's office of tech development contact just back from vacation. Discussions resumed this week on any changes to AUO (EULA) and a data agreement.\", '[APPROVALNOTIFIER] This PR is **APPROVED**_x000D_\\n_x000D_\\nThis pull-request has been approved by: *<a href=\"https://github.com/operate-first/blueprint/pull/95#pullrequestreview-675266338\" title=\"LGTM\">HumairAK</a>*_x000D_\\n_x000D_\\nThe full list of commands accepted by this bot can be found [here](https://go.k8s.io/bot-commands?repo=operate-first%2Fblueprint)._x000D_\\n_x000D_\\nThe pull request process is described [here](https://git.k8s.io/community/contributors/guide/owners.md#the-code-review-process)_x000D_\\n_x000D_\\n<details >_x000D_\\nNeeds approval from an approver in each of these files:_x000D_\\n_x000D_\\n- ~~[OWNERS](https://github.com/operate-first/blueprint/blob/main/OWNERS)~~ [HumairAK]_x000D_\\n_x000D_\\nApprovers can indicate their approval by writing `/approve` in a comment_x000D_\\nApprovers can cancel approval by writing `/approve cancel` in a comment_x000D_\\n</details>_x000D_\\n<!-- META={\"approvers\":[]} -->', 'Still not clear if the existing AUP may need a tweak to note data access within the operate first environment., but may be fine as is. Will get final info when Michael Daitzman returns from vacation.', 'Work continues on this, lead by Orran at BU. His last update on 5/28 \"Very positive initial feedback from office of technology development, so now we just need to iron out the contract for the DUA and the notice to users, and then work on each of the specific logs… we want to de-identify.\"', 'Changed assignee as Tom appears to be working this.', \"Sounds good, since we already enforce it I'm closing this thread -- please re open if there's more.\", '> Sounds good, since we already enforce it..._x000D_\\n_x000D_\\nTo be clear, we explicitly don\\'t enforce it:_x000D_\\n_x000D_\\n```_x000D_\\ndocument-start: disable_x000D_\\n```_x000D_\\n_x000D_\\nThat means \"we don\\'t care\". Which is fine :).', '> That means \"we don\\'t care\". Which is fine :)._x000D_\\n_x000D_\\nHaha, I like that :smile: :+1: ', '[APPROVALNOTIFIER] This PR is **APPROVED**_x000D_\\n_x000D_\\nThis pull-request has been approved by: *<a href=\"https://github.com/operate-first/blueprint/pull/96#pullrequestreview-683162818\" title=\"LGTM\">tumido</a>*_x000D_\\n_x000D_\\nThe full list of commands accepted by this bot can be found [here](https://go.k8s.io/bot-commands?repo=operate-first%2Fblueprint)._x000D_\\n_x000D_\\nThe pull request process is described [here](https://git.k8s.io/community/contributors/guide/owners.md#the-code-review-process)_x000D_\\n_x000D_\\n<details >_x000D_\\nNeeds approval from an approver in each of these files:_x000D_\\n_x000D_\\n- ~~[OWNERS](https://github.com/operate-first/blueprint/blob/main/OWNERS)~~ [tumido]_x000D_\\n_x000D_\\nApprovers can indicate their approval by writing `/approve` in a comment_x000D_\\nApprovers can cancel approval by writing `/approve cancel` in a comment_x000D_\\n</details>_x000D_\\n<!-- META={\"approvers\":[]} -->', '@durandom can you run pre-commit on this pr? https://github.com/operate-first/apps/blob/master/contributing.md#tests _x000D_\\n_x000D_\\nAlso, can you rename the adr to the next number as we already have an adr 15', \"Since I'm assigned to this and we want to make it fast, I'll update the PR\", '@tumido can you also update the links to the proper format, the brackets are reversed', '/retest', 'changes applied. :slightly_smiling_face: ', '/lgtm', '[APPROVALNOTIFIER] This PR is **APPROVED**_x000D_\\n_x000D_\\nThis pull-request has been approved by: *<a href=\"https://github.com/operate-first/blueprint/pull/74#pullrequestreview-686257884\" title=\"Approved\">tumido</a>*_x000D_\\n_x000D_\\nThe full list of commands accepted by this bot can be found [here](https://go.k8s.io/bot-commands?repo=operate-first%2Fblueprint)._x000D_\\n_x000D_\\nThe pull request process is described [here](https://git.k8s.io/community/contributors/guide/owners.md#the-code-review-process)_x000D_\\n_x000D_\\n<details >_x000D_\\nNeeds approval from an approver in each of these files:_x000D_\\n_x000D_\\n- ~~[OWNERS](https://github.com/operate-first/blueprint/blob/main/OWNERS)~~ [tumido]_x000D_\\n_x000D_\\nApprovers can indicate their approval by writing `/approve` in a comment_x000D_\\nApprovers can cancel approval by writing `/approve cancel` in a comment_x000D_\\n</details>_x000D_\\n<!-- META={\"approvers\":[]} -->', \"lol.. I think that's a typo.. I don't think it should say `ART`. Seems like an easy fix, right? https://github.com/operate-first/blueprint/pull/98\", '[APPROVALNOTIFIER] This PR is **APPROVED**_x000D_\\n_x000D_\\nThis pull-request has been approved by: *<a href=\"https://github.com/operate-first/blueprint/pull/98#pullrequestreview-689439850\" title=\"Approved\">HumairAK</a>*_x000D_\\n_x000D_\\nThe full list of commands accepted by this bot can be found [here](https://go.k8s.io/bot-commands?repo=operate-first%2Fblueprint)._x000D_\\n_x000D_\\nThe pull request process is described [here](https://git.k8s.io/community/contributors/guide/owners.md#the-code-review-process)_x000D_\\n_x000D_\\n<details >_x000D_\\nNeeds approval from an approver in each of these files:_x000D_\\n_x000D_\\n- ~~[OWNERS](https://github.com/operate-first/blueprint/blob/main/OWNERS)~~ [HumairAK]_x000D_\\n_x000D_\\nApprovers can indicate their approval by writing `/approve` in a comment_x000D_\\nApprovers can cancel approval by writing `/approve cancel` in a comment_x000D_\\n</details>_x000D_\\n<!-- META={\"approvers\":[]} -->', \"BU's office of tech development contact just back from vacation. Discussions resumed this week on any changes to AUO (EULA) and a data agreement.\", 'Resolved via #74 ', 'Of course, unfortunately, the hashicorp session is in German_x000D_\\nhttps://www.openshift-anwender.de/2021/06/09/jetzt-anmelden-zum-15-openshift-anwendertreffen/_x000D_\\n_x000D_\\n', \"Time to learn german then. :smile:  Unfortunately I'm not such a quick learner :smile: \", 'lgtm! :ship: ', 'Is the pre-commit fail issue here related to the ongoing issues with prow https://github.com/operate-first/SRE/issues/347? _x000D_\\ncc: @harshad16 @HumairAK ', '/retest', \"@oindrillac probably, let's merge this for now, I ran the pre-commit locally, it ran fine\", '/approve', '[APPROVALNOTIFIER] This PR is **APPROVED**_x000D_\\n_x000D_\\nThis pull-request has been approved by: *<a href=\"https://github.com/operate-first/blueprint/pull/100#issuecomment-867920814\" title=\"Approved\">HumairAK</a>*_x000D_\\n_x000D_\\nThe full list of commands accepted by this bot can be found [here](https://go.k8s.io/bot-commands?repo=operate-first%2Fblueprint)._x000D_\\n_x000D_\\nThe pull request process is described [here](https://git.k8s.io/community/contributors/guide/owners.md#the-code-review-process)_x000D_\\n_x000D_\\n<details >_x000D_\\nNeeds approval from an approver in each of these files:_x000D_\\n_x000D_\\n- ~~[OWNERS](https://github.com/operate-first/blueprint/blob/main/OWNERS)~~ [HumairAK]_x000D_\\n_x000D_\\nApprovers can indicate their approval by writing `/approve` in a comment_x000D_\\nApprovers can cancel approval by writing `/approve cancel` in a comment_x000D_\\n</details>_x000D_\\n<!-- META={\"approvers\":[]} -->', '@margarethaley: The following test **failed**, say `/retest` to rerun all failed tests:_x000D_\\n_x000D_\\nTest name | Commit | Details | Rerun command_x000D_\\n--- | --- | --- | ---_x000D_\\naicoe-ci/prow/pre-commit | 93770244c984aaa260cb36319aaae438c514e935 | [link](https://prow.operate-first.cloud/view/s3/ci-prow-artifacts--024cd900-706c-488d-afb0-d28522131f45/prow-logs/pr-logs/pull/operate-first_blueprint/100/pre-commit/1408154924214128640) | `/test pre-commit`_x000D_\\n_x000D_\\n[Full PR test history](https://prow.operate-first.cloud/pr-history?org=operate-first&repo=blueprint&pr=100). [Your PR dashboard](https://prow.operate-first.cloud/pr?query=is%3Apr%20state%3Aopen%20author%3Amargarethaley). Please help us and [open an issue](https://github.com/operate-first/blueprint/issues?q=is:issue+is:open) when you hit one in your PR._x000D_\\n_x000D_\\n<details>_x000D_\\n_x000D_\\nInstructions for interacting with me using PR comments are available [here](https://git.k8s.io/community/contributors/guide/pull-requests.md).  If you have questions or suggestions related to my behavior, please file an issue against the [kubernetes/test-infra](https://github.com/kubernetes/test-infra/issues/new?title=Prow%20issue:) repository. I understand the commands that are listed [here](https://go.k8s.io/bot-commands)._x000D_\\n</details>_x000D_\\n<!-- test report -->', 'No updates from BU yet.', 'No updates from BU yet.', 'No updates from BU yet.', \"Let's decide on trying this out then. I'll create a separate spike issue to try this out and schedule it for next/following sprint.\", 'The intention was not only for the GitOps approach. More or less for us, to store SSH-keys, cloud-api keys .. somewhere... ', '/cc @HumairAK @4n4nd @larsks ', '[APPROVALNOTIFIER] This PR is **APPROVED**_x000D_\\n_x000D_\\nThis pull-request has been approved by: *<a href=\"https://github.com/operate-first/blueprint/pull/101#pullrequestreview-709637292\" title=\"LGTM\">HumairAK</a>*_x000D_\\n_x000D_\\nThe full list of commands accepted by this bot can be found [here](https://go.k8s.io/bot-commands?repo=operate-first%2Fblueprint)._x000D_\\n_x000D_\\nThe pull request process is described [here](https://git.k8s.io/community/contributors/guide/owners.md#the-code-review-process)_x000D_\\n_x000D_\\n<details >_x000D_\\nNeeds approval from an approver in each of these files:_x000D_\\n_x000D_\\n- ~~[OWNERS](https://github.com/operate-first/blueprint/blob/main/OWNERS)~~ [HumairAK]_x000D_\\n_x000D_\\nApprovers can indicate their approval by writing `/approve` in a comment_x000D_\\nApprovers can cancel approval by writing `/approve cancel` in a comment_x000D_\\n</details>_x000D_\\n<!-- META={\"approvers\":[]} -->', '/hold', '/hold', '[APPROVALNOTIFIER] This PR is **APPROVED**_x000D_\\n_x000D_\\nThis pull-request has been approved by: *<a href=\"https://github.com/operate-first/blueprint/pull/102#pullrequestreview-709645740\" title=\"Approved\">4n4nd</a>*_x000D_\\n_x000D_\\nThe full list of commands accepted by this bot can be found [here](https://go.k8s.io/bot-commands?repo=operate-first%2Fblueprint)._x000D_\\n_x000D_\\nThe pull request process is described [here](https://git.k8s.io/community/contributors/guide/owners.md#the-code-review-process)_x000D_\\n_x000D_\\n<details >_x000D_\\nNeeds approval from an approver in each of these files:_x000D_\\n_x000D_\\n- ~~[OWNERS](https://github.com/operate-first/blueprint/blob/main/OWNERS)~~ [4n4nd]_x000D_\\n_x000D_\\nApprovers can indicate their approval by writing `/approve` in a comment_x000D_\\nApprovers can cancel approval by writing `/approve cancel` in a comment_x000D_\\n</details>_x000D_\\n<!-- META={\"approvers\":[]} -->', '_hangs head in shame_', '/lgtm', 'can be found [here](https://www.operate-first.cloud/users/support/)', 'No update on this, but the larger issue, a Data Usage Agreement (DUA) is on the table and being discussed, including access to telemetry without anonymization.', 'No update on this, but the larger issue, a Data Usage Agreement (DUA) is on the table and being discussed, including access to telemetry without anonymization.', 'The Data Usage Agreement (DUA) is on the table and being discussed, including access to telemetry without anonymization.', '[APPROVALNOTIFIER] This PR is **APPROVED**_x000D_\\n_x000D_\\nThis pull-request has been approved by: *<a href=\"https://github.com/operate-first/blueprint/pull/103#pullrequestreview-711956114\" title=\"LGTM\">4n4nd</a>*_x000D_\\n_x000D_\\nThe full list of commands accepted by this bot can be found [here](https://go.k8s.io/bot-commands?repo=operate-first%2Fblueprint)._x000D_\\n_x000D_\\nThe pull request process is described [here](https://git.k8s.io/community/contributors/guide/owners.md#the-code-review-process)_x000D_\\n_x000D_\\n<details >_x000D_\\nNeeds approval from an approver in each of these files:_x000D_\\n_x000D_\\n- ~~[OWNERS](https://github.com/operate-first/blueprint/blob/main/OWNERS)~~ [4n4nd]_x000D_\\n_x000D_\\nApprovers can indicate their approval by writing `/approve` in a comment_x000D_\\nApprovers can cancel approval by writing `/approve cancel` in a comment_x000D_\\n</details>_x000D_\\n<!-- META={\"approvers\":[]} -->', \"So, let's explore:_x000D_\\n_x000D_\\n- [ ] Bitwarden for secrets exchange between OPS team/users  https://github.com/operate-first/SRE/issues/363_x000D_\\n- [ ] If the secret can be automated via asymmetric crypto, let's store public keys in git and provide access that way (SSH/GPG etc.)_x000D_\\n- [ ] If secrets are required in automation and can't be stored in git (without ksops), let's try Vault.  https://github.com/operate-first/support/issues/298_x000D_\\n_x000D_\\nLet's try this and if it works, let's ADR it.\", \"> We want to publish the data under a license agreement that is similar to an open source license agreement._x000D_\\n> We still have to operate in the boundaries of law and therefore cannot publish data that would break the law._x000D_\\n_x000D_\\nLet's pull together a workstream to study and advise an approach from an open source licensing approach:_x000D_\\n_x000D_\\nhttps://github.com/operate-first/community/issues/79\", 'This issues is under active work by our friends at BU with an eye toward crafting agreements that will be usable in other places beyond BU.', '/cc @HumairAK @goern @larsks @4n4nd ', '/approve', '/lgtm_x000D_\\n/approve', '[APPROVALNOTIFIER] This PR is **APPROVED**_x000D_\\n_x000D_\\nThis pull-request has been approved by: *<a href=\"https://github.com/operate-first/blueprint/pull/104#issuecomment-933230262\" title=\"Approved\">goern</a>*, *<a href=\"https://github.com/operate-first/blueprint/pull/104#issuecomment-934455277\" title=\"Approved\">HumairAK</a>*_x000D_\\n_x000D_\\nThe full list of commands accepted by this bot can be found [here](https://go.k8s.io/bot-commands?repo=operate-first%2Fblueprint)._x000D_\\n_x000D_\\nThe pull request process is described [here](https://git.k8s.io/community/contributors/guide/owners.md#the-code-review-process)_x000D_\\n_x000D_\\n<details >_x000D_\\nNeeds approval from an approver in each of these files:_x000D_\\n_x000D_\\n- ~~[OWNERS](https://github.com/operate-first/blueprint/blob/main/OWNERS)~~ [HumairAK,goern]_x000D_\\n_x000D_\\nApprovers can indicate their approval by writing `/approve` in a comment_x000D_\\nApprovers can cancel approval by writing `/approve cancel` in a comment_x000D_\\n</details>_x000D_\\n<!-- META={\"approvers\":[]} -->', 'Issues go stale after 90d of inactivity.', 'Mark the issue as fresh with `/remove-lifecycle stale`.', 'Stale issues rot after an additional 30d of inactivity and eventually close.', 'If this issue is safe to close now please do so with `/close`.', '/lifecycle stale', 'Issues go stale after 90d of inactivity.', 'Mark the issue as fresh with `/remove-lifecycle stale`.', 'Stale issues rot after an additional 30d of inactivity and eventually close.', 'If this issue is safe to close now please do so with `/close`.', '/lifecycle stale', 'Issues go stale after 90d of inactivity.', 'Mark the issue as fresh with `/remove-lifecycle stale`.', 'Stale issues rot after an additional 30d of inactivity and eventually close.', 'If this issue is safe to close now please do so with `/close`.', '/lifecycle stale', 'Issues go stale after 90d of inactivity.', 'Mark the issue as fresh with `/remove-lifecycle stale`.', 'Stale issues rot after an additional 30d of inactivity and eventually close.', 'If this issue is safe to close now please do so with `/close`.', '/lifecycle stale', 'Issues go stale after 90d of inactivity.', 'Mark the issue as fresh with `/remove-lifecycle stale`.', 'Stale issues rot after an additional 30d of inactivity and eventually close.', 'If this issue is safe to close now please do so with `/close`.', '/lifecycle stale', 'labels tracked here: https://github.com/operate-first/common with descriptions ', 'Issues go stale after 90d of inactivity.', 'Mark the issue as fresh with `/remove-lifecycle stale`.', 'Stale issues rot after an additional 30d of inactivity and eventually close.', 'If this issue is safe to close now please do so with `/close`.', '/lifecycle stale', 'by setting', 'Issues go stale after 90d of inactivity.', 'Mark the issue as fresh with `/remove-lifecycle stale`.', 'Stale issues rot after an additional 30d of inactivity and eventually close.', 'If this issue is safe to close now please do so with `/close`.', '/lifecycle stale', 'Issues go stale after 90d of inactivity.', 'Mark the issue as fresh with `/remove-lifecycle stale`.', 'Stale issues rot after an additional 30d of inactivity and eventually close.', 'If this issue is safe to close now please do so with `/close`.', '/lifecycle stale', 'Issues go stale after 90d of inactivity.', 'Mark the issue as fresh with `/remove-lifecycle stale`.', 'Stale issues rot after an additional 30d of inactivity and eventually close.', 'If this issue is safe to close now please do so with `/close`.', '/lifecycle stale', 'Issues go stale after 90d of inactivity.', 'Mark the issue as fresh with `/remove-lifecycle stale`.', 'Stale issues rot after an additional 30d of inactivity and eventually close.', 'If this issue is safe to close now please do so with `/close`.', '/lifecycle stale', 'Issues go stale after 90d of inactivity.', 'Mark the issue as fresh with `/remove-lifecycle stale`.', 'Stale issues rot after an additional 30d of inactivity and eventually close.', 'If this issue is safe to close now please do so with `/close`.', '/lifecycle stale', 'Issues go stale after 90d of inactivity.', 'Mark the issue as fresh with `/remove-lifecycle stale`.', 'Stale issues rot after an additional 30d of inactivity and eventually close.', 'If this issue is safe to close now please do so with `/close`.', '/lifecycle stale', 'Issues go stale after 90d of inactivity.', 'Mark the issue as fresh with `/remove-lifecycle stale`.', 'Stale issues rot after an additional 30d of inactivity and eventually close.', 'If this issue is safe to close now please do so with `/close`.', '/lifecycle stale', 'Issues go stale after 90d of inactivity.', 'Mark the issue as fresh with `/remove-lifecycle stale`.', 'Stale issues rot after an additional 30d of inactivity and eventually close.', 'If this issue is safe to close now please do so with `/close`.', '/lifecycle stale', '/remove-lifecycle stale', 'Issues go stale after 90d of inactivity.', 'Mark the issue as fresh with `/remove-lifecycle stale`.', 'Stale issues rot after an additional 30d of inactivity and eventually close.', 'If this issue is safe to close now please do so with `/close`.', '/lifecycle stale', 'Issues go stale after 90d of inactivity.', 'Mark the issue as fresh with `/remove-lifecycle stale`.', 'Stale issues rot after an additional 30d of inactivity and eventually close.', 'If this issue is safe to close now please do so with `/close`.', '/lifecycle stale', 'Issues go stale after 90d of inactivity.', 'Mark the issue as fresh with `/remove-lifecycle stale`.', 'Stale issues rot after an additional 30d of inactivity and eventually close.', 'If this issue is safe to close now please do so with `/close`.', '/lifecycle stale', 'Issues go stale after 90d of inactivity.', 'Mark the issue as fresh with `/remove-lifecycle stale`.', 'Stale issues rot after an additional 30d of inactivity and eventually close.', 'If this issue is safe to close now please do so with `/close`.', '/lifecycle stale', 'Issues go stale after 90d of inactivity.', 'Mark the issue as fresh with `/remove-lifecycle stale`.', 'Stale issues rot after an additional 30d of inactivity and eventually close.', 'If this issue is safe to close now please do so with `/close`.', '/lifecycle stale', 'Issues go stale after 90d of inactivity.', 'Mark the issue as fresh with `/remove-lifecycle stale`.', 'Stale issues rot after an additional 30d of inactivity and eventually close.', 'If this issue is safe to close now please do so with `/close`.', '/lifecycle stale', 'Issues go stale after 90d of inactivity.', 'Mark the issue as fresh with `/remove-lifecycle stale`.', 'Stale issues rot after an additional 30d of inactivity and eventually close.', 'If this issue is safe to close now please do so with `/close`.', '/lifecycle stale', '/remove-lifecycle stale', '/remove-lifecycle stale_x000D_\\n_x000D_\\n', '/remove-lifecycle stale', '/remove-lifecycle stale', 'another test comment', '```suggestion_x000D_\\n  ## YYYY-MM-DD: <Title for the design decision>_x000D_\\n```', 'It is not needed to break the lines_x000D_\\n```suggestion_x000D_\\nThe following document is meant to log all reasoning and design decisions with respect to the Bitnami Helm charts._x000D_\\n```', 'Should begin with a verb', '```suggestion_x000D_\\nTL;DR: In order to improve the transparency as well as making the onboarding easier for contributors, we decided to create this document._x000D_\\n```', 'What if we bold `TL;DR:`? The same thing for `PR:` below.', 'Done', '```suggestion_x000D_\\n* `https://charts.bitnami.com/bitnami` hosts the published Helm charts as compressed files._x000D_\\n```_x000D_\\nI would change this to avoid using a link, if you go to https://charts.bitnami.com/bitnami there is no content. This is not a regular URL serving a website but a place where charts are stored. The idea of this URL is to be added to the Helm client by running `helm repo add bitnami https://charts.bitnami.com/bitnami`', 'Linter is applied to the whole chart, not only _Chart.yaml_', '```suggestion_x000D_\\n* Test: This GitHub Action deploys a [kind cluster](https://github.com/kubernetes-sigs/kind) to deploy the chart and confirm that the different resources specified by the chart are correctly deployed (*helm install*) and running (*helm test*)._x000D_\\n```_x000D_\\n_x000D_\\nI think it is better to remove the last sentence, although I said it in my comment, it seems an informal sentence giving vague information', 'No in this case. The GH actions tests are executed at the moment and they are used to take less than 5-10 minutes. The step taking 1-2 hours is in Stage 2 when the reviewer decides to launch the PR in our internal Jenkins', 'This process is the one taking up to 1-2 hours', '`republish` -> `release` or `publish`, but it `republish` sounds like we are publishing again something already published in the past', 'Done', 'OK, this is already mentioned below so not making any change here', 'You\\'re using the same sentence both on \"init containers\" and \"sidecar\" containers, so it\\'s confusing. I\\'d state that difference:_x000D_\\n```suggestion_x000D_\\nAdditional init containers can be added to MariaDB pods using the *initContainers* parameter. Here is an example:_x000D_\\n```', '```suggestion_x000D_\\n~~~_x000D_\\ninitdbScripts:_x000D_\\n  my_init_script.sh: |_x000D_\\n    #!/bin/sh_x000D_\\n    if [[ $(hostname) == *primary* ]]; then_x000D_\\n        echo \"Primary node\"_x000D_\\n        mysql -P 3306 -uroot -prandompassword -e \"create database new_database\";_x000D_\\n    else_x000D_\\n        echo \"No primary node\"_x000D_\\n    fi_x000D_\\n~~~_x000D_\\n```', '```suggestion_x000D_\\nTypically, this occurs because the image runs as a non-root user and in some Kubernetes clusters, non-root users do not have write privileges. In such cases, it is necessary to adjust the ownership of the persistent volume so that the container can write data into it. There are two approaches to achieve this:_x000D_\\n```', \"IMHO, it's weird to talk about the `ingress.extraTLS` parameter, without previously talking about the `ingress.tls` parameter (that only affects to the hostname defined with `ingress.hostname` property).\", 'Fix the \"no newline at end of file\" warning.', 'Fix the \"no newline at end of file\" warning.', 'Fix the \"no newline at end of file\" warning.', 'Fix the \"no newline at end of file\" warning.', 'Fix the \"no newline at end of file\" warning.', 'Fix the \"no newline at end of file\" warning.', 'It\\'s worth to mention here that to scale WP \"ReadWriteMany\" volumes are needed. See:_x000D_\\n- https://github.com/bitnami/charts/blob/master/bitnami/wordpress/values.yaml#L188_x000D_\\n- https://engineering.bitnami.com/articles/scaling-wordpress-in-kubernetes.html', 'In addition to that, would be possible to add an example when that is useful? @juan131 any ideas for that example?', \"I would mention the Helm Chart already includes sidecar containers for the Prometheus exporters, simply adding '--enable-metrics=true'. This would be for extra sidecar containers\", 'I think this section should be generic for all the charts and reuse the same section for all of them. not needed to create the same one though', \"Similar feeling for initContainers & sidecar containers. I think we should use the same section for all Charts, all of them include this 'optional' feature the users can use and it is not needed to use specific cases per solution though\", 'yep good point', 'I think it might be difficult to do this because the deployment command in the content is different for each chart.', 'I did not see these sections in all the charts modified to date._x000D_\\n_x000D_\\nSidecars section not seen in:_x000D_\\n- Apache_x000D_\\n- MySQL_x000D_\\n_x000D_\\nInitcontainers section not seen in:_x000D_\\n- Apache_x000D_\\n- MySQL_x000D_\\n- WordPress_x000D_\\n_x000D_\\nI can convert these to common sections but should they be added in the above cases or not ie. were they omitted in the current chart READMEs by oversight or because those features are not supported in the above charts? ', 'In any case, I agree these can be common. I will implement this in a separate branch (based on your reply above) to avoid confusing this branch. ', 'This should say Mariadb', '```suggestion_x000D_\\n**TL;DR:** [`bitnami/minideb`](https://github.com/bitnami/minideb) is not used on auxiliar containers (such as init containers or sidecar containers) anymore. [`bitnami/bitnami-shell`](https://github.com/bitnami/bitnami-docker-bitnami-shell) will be used from now on, instead._x000D_\\n```', '```suggestion_x000D_\\nThe [`bitnami/minideb`](https://github.com/bitnami/minideb) image started being a good fit for auxiliar containers (see [why use minideb](https://github.com/bitnami/minideb#why-use-minideb) section)._x000D_\\n```', '```suggestion_x000D_\\nHowever, several these containers required non trivial packages to be present (e.g. `sysctl`). We can argue that many of these requirements would be a good-to-have. Nevertheless, we aim to keep [`bitnami/minideb`](https://github.com/bitnami/minideb) very light-weight and, more important, with a very small vulnerability surface._x000D_\\n```', 'We are no longer using `-` and `+` diff notation to indicate changes. In this and other cases, just place the required parameter and value for the task.', \"This information should be in the scale down page, shouldn't it?\", 'I would focus this page only on bootstrapping and move the scalability and DR discussions to separate pages. ', 'In PR #10, I have a separate page for DR. I would recommend moving this discussion of DR to that page/separating it, unless there is a specific reason to have it here.', 'This is not intended to provide instructions, but explaining how the chart works instead.', \"I'd like to keep everything in a single page. The reason is that I'm not trying to provide instructions with this page, but explaining important details about the chart and how it works.\", 'Already answered', 'I don\\'t think we should here \"deployment\" @vikram-bitnami since this chart actually uses a statefulset.', 'Same concern here', \"It's better for SEO if the link is descriptive of the target so eg. Learn how to [configure TLS authentication]()\", 'This is going to change a little bit in the new major version. Feel free to adapt this block I prepared for the README.md:_x000D_\\n_x000D_\\n```_x000D_\\nIn order to use custom configuration parameters, two options are available:_x000D_\\n_x000D_\\n- Using environment variables: etcd allows setting environment variables that map to configuration settings. In order to set extra environment variables, you can use the `extraEnvVars` property. Alternatively, you can use a ConfigMap or a Secret with the environment variables using the `extraEnvVarsCM` or the `extraEnvVarsSecret` properties._x000D_\\n_x000D_\\n~~~_x000D_\\nextraEnvVars:_x000D_\\n  - name: ETCD_AUTO_COMPACTION_RETENTION_x000D_\\n    value: \"0\"_x000D_\\n  - name: ETCD_HEARTBEAT_INTERVAL_x000D_\\n    value: \"150\"_x000D_\\n~~~_x000D_\\n_x000D_\\n- Using a custom `etcd.conf.yml`: The etcd chart allows mounting a custom `etcd.conf.yml` file as ConfigMap. In order to so, you can use the `configuration` property. Alternatively, you can use an existing ConfigMap using the `existingConfigmap` parameter._x000D_\\n```', 'extra space between up and the', 'Remove \"galera\" from the tutorial link', 'Correct link is https://docs.bitnami.com/tutorials/backup-restore-data-mongodb-kubernetes/', 'Backup and restore PostgreSQL deployments -> to be consistent with other titles', 'PostgreSQL Cassandra is incorrect', 'Cassandra?', 'mongorestore', \"The titles should be consistent for all the sections. Some are using the name of the chart and others aren't.\", 'In this case I think we cannot put the chart name as this is a generic section but see my comment for the other more specific section titles.', \"It sounds like Velero is a requirement? Maybe we should let the user know it is only one of the ways to make backups, and it's the one we have documented.\", 'I would add \"with Velero\" in the header as there are many ways to backup persistent volumes (i.e. see above). Also in the files below.', 'Why is this weird spacing between the bullet lists?', 'If this section is going to be exactly the same in many locations, maybe it would be worth it to create a partial', \"Yes it's a good idea but I think in this case the partial should only contain the 4 bullet points written in a generic way (without naming any chart) such as_x000D_\\n_x000D_\\n```_x000D_\\n_x000D_\\n* Install Velero on the source and destination clusters._x000D_\\n* Use Velero to back up  the PersistentVolumes (PVs) used by the deployment on the source cluster._x000D_\\n* Use Velero to restore the backed-up PVs on the destination cluster._x000D_\\n* Create a new deployment on the destination cluster with the same chart,  deployment name, credentials and other parameters as the original. This new deployment will use the restored PVs and hence the original data._x000D_\\n```_x000D_\\n_x000D_\\nThis allows us to have a few customized sentences before/after the common partial where we can add anything specific to the chart.\", \"Any reason to use a tick quote/smart quote ` here instead of the usual single-quote ' for file links? I guess it works but to avoid any issues later, could you change to use single-quote in all files? (some files already use single quote, others use tick quote).\", 'Replace with single quote', 'I think this is pending? Should be done for all cases.', 'For some deployments, Velero is not the only way to create backups. Some applications have their own tools, so Velero is not a requirement. We recommend it as a general approach, but not the only one depending on the solution. ', \"Agree, but we didn't add in other solutions so I am trying to be consistent.\", 'No reasons. I think that this was an issue with the text editor. ', 'Avoid \"you\": If SASL authentication is enabled on any listener, set the SASL credentials using the parameters below:', 'You can configure -> It is possible to configure', ': Use these when the Zookeeper', 'capitalize after colon eg. Use these when ', 'Same for next items', 'default one -> default', 'use by setting', 'and a _x000D_\\n_x000D_\\nrequires the chart to be available locally', 'This is currently supported for ', 'Which \"first two cases\" do you refer to here?_x000D_\\n_x000D_\\nTLS certificates below\" -> I can\\'t see what this refers to?_x000D_\\n_x000D_\\ncreate in advance -> how do you do this?', 'brokers comma use', 'brokers comma use', 'I suspect this is related to the three alternatives above, but the link is not clear. I think this structure needs to be clearer, in case this and next section are related to the three alternatives above.', 'authenticationboth - needs space', 'certificated -> typo_x000D_\\nexpoter -> typo_x000D_\\n_x000D_\\nIf you plan to expose metrics using the Kafka exporter, and you are using *sasl_tls*, *tls*, or *mtls* authentication protocols for client connections, the exporter must have the ability to validate the Kafka brokers. This is done by mounting the CA certificate, used to sign the broker certificates, in the exporter as a secret, and then setting the *metrics.kafka.certificatesSecret* parameter to point to this secret. As an alternative, you can skip TLS validation using extra flags, as shown below:_x000D_\\n', 'for this `To do so, create a secret containing the CA, and set the *metrics.kafka.certificatesSecret* parameter.` do you want to add example code?', 'two', 'trustore -> typo_x000D_\\n_x000D_\\nkeystore files_x000D_\\n_x000D_\\n A [script to help with JKS file generation] is also available. -> SEO improvement', 'two', 'three', 'Looks like there is something wrong here, this is an apache section in an asp.net diff, plus this section is already present and published including some edits: https://docs.bitnami.com/kubernetes/infrastructure/apache/get-started/deploy-custom-application/', 'This id was changed recently, could you use the id that is also used in the Apache/WordPress/mySQL/MariaDB charts? _x000D_\\n_x000D_\\n(BTW, those chart docs metadata and content should be the reference for new sections as they were all updated as part of a second round of improvements.)', 'To add..., use the...', 'Alternatively, use a ...', 'Git', 'application.', 'Git', 'should begin with a verb following other section titles/ids', 'To run additional containers within, ... use the sidecars...', 'add extra_x000D_\\n_x000D_\\n*initContainers*_x000D_\\n_x000D_\\nCould you please check and format with italics for all chart parameters in other sections as well?', 'app -> application - should be changed in all cases._x000D_\\n_x000D_\\nMissing full stop before For _x000D_\\n_x000D_\\nFor covering -> For_x000D_\\n_x000D_\\nit will mount it -> could you clarify the two \"it\", not clear if you refer to the ConfigMap, the app or the app configuration.', 'Should be Ingress in all cases, except for the chart names/chart parameters.', 'There is a section in the WordPress chart https://docs.bitnami.com/kubernetes/apps/wordpress/configuration/configure-use-ingress/ which seems to have very similar content. Can we make a partial and reuse?', 'Consul section in ASP diff, is this part of the diff or accidental?_x000D_\\n_x000D_\\nIn any case, please see if a common Ingress section can be made/reused as per previous comment?  ', '`kong`? This should refer to ASP.NET', '```suggestion_x000D_\\nYou can build your own Docker image containing your ASP.NET Core application ready to be executed. To do so, overwrite the default image setting the image.* parameters, and set your custom command and arguments setting the *command* and *args* parameters:_x000D_\\n```', 'Use `*true*` instead of `true`:_x000D_\\n```suggestion_x000D_\\nTo use this feature, set the *appFromExternalRepo.enabled* to *true* and set the repository and branch to use setting the *appFromExternalRepo.clone.repository* and *appFromExternalRepo.clone.revision* parameters. Then, specify the sub folder under the Git repository containing the ASP.NET Core app setting the *appFromExternalRepo.publish.subFolder* parameter. Finally, provide the start command to use setting the *appFromExternalRepo.startCommand*._x000D_\\n```', 'Use `*true*` instead of `true`:_x000D_\\n```suggestion_x000D_\\nIf you previously created a PVC with your application code ready to be executed, you can mount it in the ASP.NET Core container setting the *appFromExistingPVC.enabled* parameter to *true*. Then, specify the name of your existing PVC setting the *appFromExistingPVC.existingClaim* parameter._x000D_\\n```', 'When I was comparing files to get ids and so on, I found some files with errors as happened with some Apache files. I decided to fix them at the same time as I created the ASP. NET new sections. ', '1', '> it will mount it -> could you clarify the two \"it\", not clear if you refer to the ConfigMap, the app or the app configuration._x000D_\\n_x000D_\\nTBH I don\\'t know exactly since I am not the author of this content, I am just migrating it from GitHub to docs. How can I check who was the author? ', 'Will create a partial in a different diff. I need to check in which cases we can place that partial. Thank you. ', 'https://github.com/bitnami/charts/tree/master/bitnami/aspnet-core#adding-extra-environment-variables_x000D_\\n🤷\\u200d♀️ ', 'The perfect occasion to fix it', 'Not solved yet', \"Sorry, I should have warned you that in this case it's even simpler:_x000D_\\n```suggestion_x000D_\\n_x000D_\\n~~~_x000D_\\nextraEnvVars:_x000D_\\n  - name: LOG_LEVEL_x000D_\\n    value: error_x000D_\\n~~~_x000D_\\n```\", 'Extra line', 'Fixed']\n"
          ]
        }
      ]
    },
    {
      "cell_type": "code",
      "source": [
        "\n",
        "import nltk\n",
        "nltk.downloader.download('vader_lexicon')"
      ],
      "metadata": {
        "colab": {
          "base_uri": "https://localhost:8080/"
        },
        "id": "KIWGD0xF5Fvz",
        "outputId": "075c5688-6499-45f3-febb-3729d05f7175"
      },
      "execution_count": 8,
      "outputs": [
        {
          "output_type": "stream",
          "name": "stderr",
          "text": [
            "[nltk_data] Downloading package vader_lexicon to /root/nltk_data...\n"
          ]
        },
        {
          "output_type": "execute_result",
          "data": {
            "text/plain": [
              "True"
            ]
          },
          "metadata": {},
          "execution_count": 8
        }
      ]
    },
    {
      "cell_type": "code",
      "source": [
        "\n",
        "from nltk.sentiment.vader import SentimentIntensityAnalyzer\n",
        "\n",
        "analyzer = SentimentIntensityAnalyzer()\n",
        "\n",
        "def vader_sentiment_result(sent):\n",
        "    scores = analyzer.polarity_scores(sent)\n",
        "    \n",
        "    if scores[\"neg\"] > scores[\"pos\"]:\n",
        "        return 0\n",
        "\n",
        "    return 1\n",
        "\n",
        "train_set[\"vader_result\"] = train_set[\"messages\"].apply(lambda x: vader_sentiment_result(x))\n",
        "valid_set[\"vader_result\"] = valid_set[\"messages\"].apply(lambda x: vader_sentiment_result(x))"
      ],
      "metadata": {
        "colab": {
          "base_uri": "https://localhost:8080/"
        },
        "id": "1Mv0yn0945oX",
        "outputId": "e2a2ea5b-f733-4031-ff04-41659ae32bf3"
      },
      "execution_count": 9,
      "outputs": [
        {
          "output_type": "stream",
          "name": "stderr",
          "text": [
            "<ipython-input-9-111f426666fc>:13: SettingWithCopyWarning: \n",
            "A value is trying to be set on a copy of a slice from a DataFrame.\n",
            "Try using .loc[row_indexer,col_indexer] = value instead\n",
            "\n",
            "See the caveats in the documentation: https://pandas.pydata.org/pandas-docs/stable/user_guide/indexing.html#returning-a-view-versus-a-copy\n",
            "  train_set[\"vader_result\"] = train_set[\"messages\"].apply(lambda x: vader_sentiment_result(x))\n",
            "<ipython-input-9-111f426666fc>:14: SettingWithCopyWarning: \n",
            "A value is trying to be set on a copy of a slice from a DataFrame.\n",
            "Try using .loc[row_indexer,col_indexer] = value instead\n",
            "\n",
            "See the caveats in the documentation: https://pandas.pydata.org/pandas-docs/stable/user_guide/indexing.html#returning-a-view-versus-a-copy\n",
            "  valid_set[\"vader_result\"] = valid_set[\"messages\"].apply(lambda x: vader_sentiment_result(x))\n"
          ]
        }
      ]
    },
    {
      "cell_type": "code",
      "metadata": {
        "id": "3IFSuzS56OdC",
        "colab": {
          "base_uri": "https://localhost:8080/"
        },
        "outputId": "93d48d63-e573-4a44-f775-74efb834af4f"
      },
      "source": [
        "print(train_set)"
      ],
      "execution_count": null,
      "outputs": [
        {
          "output_type": "stream",
          "name": "stdout",
          "text": [
            "                                              messages  vader_result\n",
            "0     @beltran-rubo @juan131 please review this again.             1\n",
            "1    @vikram-bitnami @juan131 can you sync about th...             1\n",
            "2    @vikram-bitnami @juan131 can you sync about th...             1\n",
            "3    > @vikram-bitnami @juan131 can you sync about ...             0\n",
            "4    Closing in favour of https://github.com/bitnam...             1\n",
            "..                                                 ...           ...\n",
            "204  [INFO] Once installed this environment will be...             1\n",
            "205              [INFO] This may take a few minutes...             1\n",
            "206  [INFO] Installing environment for https://gith...             1\n",
            "207  [INFO] Once installed this environment will be...             1\n",
            "208              [INFO] This may take a few minutes...             1\n",
            "\n",
            "[200 rows x 2 columns]\n"
          ]
        }
      ]
    },
    {
      "cell_type": "code",
      "source": [
        "sentiments = train_set['vader_result'].values.astype(str).tolist()\n",
        "reviews = train_set['messages'].values.astype(str).tolist()\n",
        "print(reviews)\n",
        "from sklearn.model_selection import train_test_split\n",
        "training_sentences, validation_sentences, training_labels, validation_labels = train_test_split(reviews, sentiments, test_size=.2)"
      ],
      "metadata": {
        "colab": {
          "base_uri": "https://localhost:8080/"
        },
        "id": "Q2n_oSsJ7c_l",
        "outputId": "186a8b2b-046c-450a-8018-f88126cff095"
      },
      "execution_count": 10,
      "outputs": [
        {
          "output_type": "stream",
          "name": "stdout",
          "text": [
            "['@beltran-rubo @juan131 please review this again.', '@vikram-bitnami @juan131 can you sync about those PRs (https://github.com/bitnami/charts-docs/pull/10 and https://github.com/bitnami/charts-docs/pull/11)? It seems you are (partially) modifying the same files at the same time 😄 ', '@vikram-bitnami @juan131 can you sync about those PRs (https://github.com/bitnami/charts-docs/pull/10 and https://github.com/bitnami/charts-docs/pull/11)? It seems you are (partially) modifying the same files at the same time 😄 ', '> @vikram-bitnami @juan131 can you sync about those PRs (#10 and #11)? It seems you are (partially) modifying the same files at the same time smile_x000D_\\n_x000D_\\nIndeed, we are discussing this offline.', 'Closing in favour of https://github.com/bitnami/charts-docs/pull/11', '@juan131 can this be merged now? Or if not please let me know when it could be merged. Thanks.', 'Approved.', 'Just an FYI @raquel-campuzano that there is a plan to to delete all the individual `sidecar` sections and creating a common one that will be reused in all charts. This is because the content of these sections is almost identical across charts. More info T39353', 'FYI @raquel-campuzano as these sections can be reused for new docs.', 'Merge after several requested changes introduced. ', 'This PR covers all the common section changes discussed with @javsalgar in the \"Configuration 2\" tab of the proposal document, EXCEPT the changes for the TLS section which are under discussion. TLS changes will be added once pending questions are clarified.', '@javsalgar @juan131 could you please review this?', 'Please recheck @javsalgar @juan131 - thanks', '@juan131 updated and replied to your comments', \"Hi @krichter722 ,_x000D_\\nSpecifying an existing secret the passwords inside the secret won't be autogenerated by helm so you should not face the issue since the passwords won't change\", 'Please check again @miguelaeh ', 'Note that you will need to update the app/infra cook files in BDS to add the new section as well. ', 'The main changes here are:_x000D_\\n- using variable names for the repository and the catalog in all content_x000D_\\n- updating the metadata to include the new platform_x000D_\\n- customized installation steps for each platform_x000D_\\n_x000D_\\nIt is a large diff because of the global replacement for variables.', 'Hi @vikram-bitnami ,_x000D_\\n  I am not very sure about the change:_x000D_\\n_x000D_\\n```console_x000D_\\n$ helm install MY-RELEASE  ...._x000D_\\n```_x000D_\\n  My concern is that users usually copy and paste from instructions and if they use capitals for the deployment name they are going to have errors like this:_x000D_\\n_x000D_\\n```console_x000D_\\n$ helm install MY-RELEASE bitnami/mysql_x000D_\\nError: create: failed to create: Secret \"sh.helm.release.v1.MY-RELEASE.v1\" is invalid: metadata.name: Invalid value: \"sh.helm.release.v1.MY-RELEASE.v1\": a lowercase RFC 1123 subdomain must consist of lower case alphanumeric characters, \\'-\\' or \\'.\\', and must start and end with an alphanumeric character (e.g. \\'example.com\\', regex used for validation is \\'[a-z0-9]([-a-z0-9]*[a-z0-9])?(\\\\.[a-z0-9]([-a-z0-9]*[a-z0-9])?)*\\')_x000D_\\n```', '> Hi @vikram-bitnami ,_x000D_\\n> I am not very sure about the change:_x000D_\\n> _x000D_\\n> ```_x000D_\\n> $ helm install MY-RELEASE  ...._x000D_\\n> ```_x000D_\\n> _x000D_\\n> My concern is that users usually copy and paste from instructions and if they use capitals for the deployment name they are going to have errors like this:_x000D_\\n> _x000D_\\n> ```_x000D_\\n> $ helm install MY-RELEASE bitnami/mysql_x000D_\\n> Error: create: failed to create: Secret \"sh.helm.release.v1.MY-RELEASE.v1\" is invalid: metadata.name: Invalid value: \"sh.helm.release.v1.MY-RELEASE.v1\": a lowercase RFC 1123 subdomain must consist of lower case alphanumeric characters, \\'-\\' or \\'.\\', and must start and end with an alphanumeric character (e.g. \\'example.com\\', regex used for validation is \\'[a-z0-9]([-a-z0-9]*[a-z0-9])?(\\\\.[a-z0-9]([-a-z0-9]*[a-z0-9])?)*\\')_x000D_\\n> ```_x000D_\\n_x000D_\\nThanks for pointing this out. I have made a separate task for this (to make it easier for review as there are many files this change will touch) and pinged you in it. For the moment, I have also updated this diff to include a note on the naming rules for release names.', '/assign @HumairAK ', '/kind feature', \"Hi @alvneiayu,_x000D_\\n_x000D_\\nYour PR looks good to me, but I noticed that your examples are using `k` as alias for `kubectl`._x000D_\\nAlthough `k` is widely used, I'd recommend using the full command instead of the alias as not every user may have the alias configured and could find the examples confusing._x000D_\\n\", 'Done, thanks @migruiz4. Good catch', 'LGTM_x000D_\\n', \"Apart from Vikram's comments, it LGTM.\", \"Thanks for the PR. Let's block this until https://github.com/bitnami/charts/pull/6806 is solved._x000D_\\n\", 'https://github.com/bitnami/charts/pull/6806 is merged, this can be unblocked.', 'Now that this is unblocked, can you review it again, @vikram-bitnami ?', 'Hi @vikram-bitnami thank you for your PR, it is expected to have the original template filled with \"Description of the change\", \"Benefits\", \"Possible drawbacks\", \"Applicable issues\" and \"Additional information\". Since this is only documentation maybe it would be enough with \"Description of the change\". Please let me know whether you agree since I know that you are the one in charge of documentation and I\\'m not pretty sure I\\'m requesting something uncommon.', 'Please check if OK to merge now @juan131 @javsalgar ', '> Hi @vikram-bitnami thank you for your PR, it is expected to have the original template filled with \"Description of the change\", \"Benefits\", \"Possible drawbacks\", \"Applicable issues\" and \"Additional information\". Since this is only documentation maybe it would be enough with \"Description of the change\". Please let me know whether you agree since I know that you are the one in charge of documentation and I\\'m not pretty sure I\\'m requesting something uncommon._x000D_\\n_x000D_\\n@randradas Thanks for the comment. _x000D_\\n- I have already added Description and Additional info in the original PR https://github.com/bitnami/charts/pull/7389 and now further updated it with Benefits. Hope that is fine, let me know in case you need further information._x000D_\\n- For this repo, we don\\'t have any specific format or template for PRs ', '> > Hi @vikram-bitnami thank you for your PR, it is expected to have the original template filled with \"Description of the change\", \"Benefits\", \"Possible drawbacks\", \"Applicable issues\" and \"Additional information\". Since this is only documentation maybe it would be enough with \"Description of the change\". Please let me know whether you agree since I know that you are the one in charge of documentation and I\\'m not pretty sure I\\'m requesting something uncommon._x000D_\\n_x000D_\\nAs additional context, these PRs are part of a larger task to reduce the overall README size and move examples and large sections to the docs.bitnami.com site. That\\'s why there is no specific description but rather, each README/chart is being processed in sequence and a PR created for each change in both charts and charts-docs repo. Please see T41076 and similar tasks for more info.', 'LGTM.', \"hello @juan-vg thank you for your issue, we strongly like to encourage to collab with the repos, would you mind to send a PR to fix?. In case you don't let me know. Thank you!\", 'LGTM!', \"Hey @randradas! I'm not sending PR because I'm clueless about this topic. Honestly, I've opened this issue to get more info. Anyways, if I discover something new I will send updates.\", 'I read the doc and it looks like that comment want to explain that the following parameter is to \"enable or disable\" the \\'appendonly\\' option. That comment is not specific about disabling. In fact it is a copy&paste from the values.yaml file:_x000D_\\n_x000D_\\nhttps://github.com/bitnami/charts/blob/ae086acff0dd7c4f4b3101ebf1a7328e6a8ddcf5/bitnami/redis/values.yaml#L131', \"Hello @randradas! _x000D_\\n_x000D_\\nFor the comment I agree with you. I understand it was a copy&paste from values, but it could lead to misunderstanding about what's being done._x000D_\\n_x000D_\\nAs I told you I need more info but it's not about the first point, but the second._x000D_\\n_x000D_\\n> 2. At the end of the doc it's not clear if appendonly could/should be enabled again or not._x000D_\\n_x000D_\\nThis is where the doc is unclear about further steps and how to continue the operative.\", \"Ok well, you need to create PVCs where the dump will be copied. In order to do that, a new cluster is created with such only purpose (let's call it _temporal cluster_), once the PVCs are created then the _temporal cluster_ is deleted._x000D_\\n_x000D_\\nAOF is used to enable persistence when Redis is stopped, restarted, etc... When AOF is disabled then every in-memory information that could exist will be lost forever. Since we are only interested in PVCs and then loading our own dump into the PVCs we do not need to persist the in-memory _temporal redis_ cluster information._x000D_\\n_x000D_\\nOnce the dump is in the PVC you can start the definitive cluster with the values.yaml configuration you prefer, including AOF enabled in order to persist in-memory information if you need.\", 'I think we should just keep @tumido and @HumairAK as admins, two admins for two different timezones.', '[APPROVALNOTIFIER] This PR is **NOT APPROVED**_x000D_\\n_x000D_\\nThis pull-request has been approved by:_x000D_\\nTo complete the [pull request process](https://git.k8s.io/community/contributors/guide/owners.md#the-code-review-process), please assign **durandom** after the PR has been reviewed._x000D_\\nYou can assign the PR to them by writing `/assign @durandom` in a comment when ready._x000D_\\n_x000D_\\nThe full list of commands accepted by this bot can be found [here](https://go.k8s.io/bot-commands?repo=operate-first%2Fblueprint)._x000D_\\n_x000D_\\n<details open>_x000D_\\nNeeds approval from an approver in each of these files:_x000D_\\n_x000D_\\n- **[OWNERS](https://github.com/operate-first/blueprint/blob/main/OWNERS)**_x000D_\\n_x000D_\\nApprovers can indicate their approval by writing `/approve` in a comment_x000D_\\nApprovers can cancel approval by writing `/approve cancel` in a comment_x000D_\\n</details>_x000D_\\n<!-- META={\"approvers\":[\"durandom\"]} -->', '[APPROVALNOTIFIER] This PR is **APPROVED**_x000D_\\n_x000D_\\nThis pull-request has been approved by: *<a href=\"https://github.com/operate-first/blueprint/pull/1#pullrequestreview-524145890\" title=\"Approved\">durandom</a>*_x000D_\\n_x000D_\\nThe full list of commands accepted by this bot can be found [here](https://go.k8s.io/bot-commands?repo=operate-first%2Fblueprint)._x000D_\\n_x000D_\\nThe pull request process is described [here](https://git.k8s.io/community/contributors/guide/owners.md#the-code-review-process)_x000D_\\n_x000D_\\n<details >_x000D_\\nNeeds approval from an approver in each of these files:_x000D_\\n_x000D_\\n- ~~[OWNERS](https://github.com/operate-first/blueprint/blob/main/OWNERS)~~ [durandom]_x000D_\\n_x000D_\\nApprovers can indicate their approval by writing `/approve` in a comment_x000D_\\nApprovers can cancel approval by writing `/approve cancel` in a comment_x000D_\\n</details>_x000D_\\n<!-- META={\"approvers\":[]} -->', '/lgtm', '[APPROVALNOTIFIER] This PR is **APPROVED**_x000D_\\n_x000D_\\nThis pull-request has been approved by: *<a href=\"https://github.com/operate-first/blueprint/pull/4#pullrequestreview-527573010\" title=\"Approved\">goern</a>*_x000D_\\n_x000D_\\nThe full list of commands accepted by this bot can be found [here](https://go.k8s.io/bot-commands?repo=operate-first%2Fblueprint)._x000D_\\n_x000D_\\nThe pull request process is described [here](https://git.k8s.io/community/contributors/guide/owners.md#the-code-review-process)_x000D_\\n_x000D_\\n<details >_x000D_\\nNeeds approval from an approver in each of these files:_x000D_\\n_x000D_\\n- ~~[OWNERS](https://github.com/operate-first/blueprint/blob/main/OWNERS)~~ [goern]_x000D_\\n_x000D_\\nApprovers can indicate their approval by writing `/approve` in a comment_x000D_\\nApprovers can cancel approval by writing `/approve cancel` in a comment_x000D_\\n</details>_x000D_\\n<!-- META={\"approvers\":[]} -->', '/approve', '[APPROVALNOTIFIER] This PR is **APPROVED**_x000D_\\n_x000D_\\nThis pull-request has been approved by: *<a href=\"https://github.com/operate-first/blueprint/pull/3#issuecomment-725270458\" title=\"Approved\">goern</a>*, *<a href=\"https://github.com/operate-first/blueprint/pull/3#pullrequestreview-527568113\" title=\"Approved\">MichaelClifford</a>*_x000D_\\n_x000D_\\nThe full list of commands accepted by this bot can be found [here](https://go.k8s.io/bot-commands?repo=operate-first%2Fblueprint)._x000D_\\n_x000D_\\nThe pull request process is described [here](https://git.k8s.io/community/contributors/guide/owners.md#the-code-review-process)_x000D_\\n_x000D_\\n<details >_x000D_\\nNeeds approval from an approver in each of these files:_x000D_\\n_x000D_\\n- ~~[OWNERS](https://github.com/operate-first/blueprint/blob/main/OWNERS)~~ [goern]_x000D_\\n_x000D_\\nApprovers can indicate their approval by writing `/approve` in a comment_x000D_\\nApprovers can cancel approval by writing `/approve cancel` in a comment_x000D_\\n</details>_x000D_\\n<!-- META={\"approvers\":[]} -->', '[APPROVALNOTIFIER] This PR is **APPROVED**_x000D_\\n_x000D_\\nThis pull-request has been approved by: *<a href=\"https://github.com/operate-first/blueprint/pull/6#pullrequestreview-537523223\" title=\"Approved\">durandom</a>*_x000D_\\n_x000D_\\nThe full list of commands accepted by this bot can be found [here](https://go.k8s.io/bot-commands?repo=operate-first%2Fblueprint)._x000D_\\n_x000D_\\nThe pull request process is described [here](https://git.k8s.io/community/contributors/guide/owners.md#the-code-review-process)_x000D_\\n_x000D_\\n<details >_x000D_\\nNeeds approval from an approver in each of these files:_x000D_\\n_x000D_\\n- ~~[OWNERS](https://github.com/operate-first/blueprint/blob/main/OWNERS)~~ [durandom]_x000D_\\n_x000D_\\nApprovers can indicate their approval by writing `/approve` in a comment_x000D_\\nApprovers can cancel approval by writing `/approve cancel` in a comment_x000D_\\n</details>_x000D_\\n<!-- META={\"approvers\":[]} -->', '[APPROVALNOTIFIER] This PR is **NOT APPROVED**_x000D_\\n_x000D_\\nThis pull-request has been approved by: *<a href=\"https://github.com/operate-first/blueprint/pull/5#pullrequestreview-537749483\" title=\"Approved\">tumido</a>*_x000D_\\nTo complete the [pull request process](https://git.k8s.io/community/contributors/guide/owners.md#the-code-review-process), please assign **goern** after the PR has been reviewed._x000D_\\nYou can assign the PR to them by writing `/assign @goern` in a comment when ready._x000D_\\n_x000D_\\nThe full list of commands accepted by this bot can be found [here](https://go.k8s.io/bot-commands?repo=operate-first%2Fblueprint)._x000D_\\n_x000D_\\n<details open>_x000D_\\nNeeds approval from an approver in each of these files:_x000D_\\n_x000D_\\n- **[OWNERS](https://github.com/operate-first/blueprint/blob/main/OWNERS)**_x000D_\\n_x000D_\\nApprovers can indicate their approval by writing `/approve` in a comment_x000D_\\nApprovers can cancel approval by writing `/approve cancel` in a comment_x000D_\\n</details>_x000D_\\n<!-- META={\"approvers\":[\"goern\"]} -->', \"/hold Don't want it getting merged with a single approval\", '@hemajv see if the adr doc for github alerts can be incorporated here', \"If we're happy with this can we get this merged? _x000D_\\n_x000D_\\n@durandom  -- wdyt? \", 'Since we have decided (relevant [issue](https://github.com/operate-first/apps/issues/57)) to keep a single Prometheus instance that monitors all the other component namespaces. _x000D_\\n_x000D_\\nNow we need to decide where to keep our service-monitors/pod-monitors resources. _x000D_\\n_x000D_\\nFor the ODH components these resources will probably go in the [upstream odh-manifests](https://github.com/operate-first/apps/issues/57) but we will still need to add  the following overlay to the upstream monitors: _x000D_\\n```yaml_x000D_\\nspec:_x000D_\\n    namespaceSelector:_x000D_\\n        matchNames:_x000D_\\n          - opf-observatorium # The namespace where the component is deployed in_x000D_\\n```_x000D_\\n', '[APPROVALNOTIFIER] This PR is **APPROVED**_x000D_\\n_x000D_\\nThis pull-request has been approved by: *<a href=\"https://github.com/operate-first/blueprint/pull/7#pullrequestreview-546157916\" title=\"Approved\">anishasthana</a>*, *<a href=\"https://github.com/operate-first/blueprint/pull/7#pullrequestreview-551290364\" title=\"Approved\">durandom</a>*, *<a href=\"https://github.com/operate-first/blueprint/pull/7#pullrequestreview-545982102\" title=\"Approved\">tumido</a>*_x000D_\\n_x000D_\\nThe full list of commands accepted by this bot can be found [here](https://go.k8s.io/bot-commands?repo=operate-first%2Fblueprint)._x000D_\\n_x000D_\\nThe pull request process is described [here](https://git.k8s.io/community/contributors/guide/owners.md#the-code-review-process)_x000D_\\n_x000D_\\n<details >_x000D_\\nNeeds approval from an approver in each of these files:_x000D_\\n_x000D_\\n- ~~[OWNERS](https://github.com/operate-first/blueprint/blob/main/OWNERS)~~ [durandom]_x000D_\\n_x000D_\\nApprovers can indicate their approval by writing `/approve` in a comment_x000D_\\nApprovers can cancel approval by writing `/approve cancel` in a comment_x000D_\\n</details>_x000D_\\n<!-- META={\"approvers\":[]} -->', '/unhold_x000D_\\n_x000D_\\n', \"If the service monitors and pod monitors are to go in the same namespace as prometheus, then I think the monitoring folder makes sense. I think we can put them in the base since they aren't environment specific, then inherit them in all the overlays -- wdyt? \", '@HumairAK @anishasthana I was thinking of keeping just one servicemonitor resource which looks into multiple namespaces. Maybe we can make this change upstream and only overlay the list of namespaces in operatefirst overlays?', \"I like the idea of having one servicemonitor for odh, _x000D_\\n_x000D_\\nIt would be nice if we could specify a list of namespaces as a parameter in the kfdef that would be populated in the servicemonitor so we don't need to do an override. \", \"I am not opposed to it, but we should ask the monitoring team what they think. I wonder if it's abusing the idea of service monitors.\", 'I was able to test a service monitor that was able to monitor different services in multiple namespaces._x000D_\\n_x000D_\\n```yaml_x000D_\\n---_x000D_\\napiVersion: monitoring.coreos.com/v1_x000D_\\nkind: ServiceMonitor_x000D_\\nmetadata:_x000D_\\n  name: multiservice-monitor_x000D_\\n  labels:_x000D_\\n    k8s-app: prometheus_x000D_\\n  namespace: opf-stage_x000D_\\nspec:_x000D_\\n  endpoints:_x000D_\\n    - port: metrics_x000D_\\n    - port: 8080-tcp_x000D_\\n  namespaceSelector:_x000D_\\n    matchNames:_x000D_\\n      - opf-observatorium_x000D_\\n      - opf-jupyterhub_x000D_\\n  selector: {}_x000D_\\n```_x000D_\\nThis works well. I think we should try to get something like this pushed upstream and only set the `namespaceSelector` as an overlay on the operatefirst side.', '/retest', '@martinpovolny  ignore the tests for now, we dont have ci files in this repo yet. ', '[APPROVALNOTIFIER] This PR is **NOT APPROVED**_x000D_\\n_x000D_\\nThis pull-request has been approved by: *<a href=\"https://github.com/operate-first/blueprint/pull/11#pullrequestreview-553743373\" title=\"Approved\">HumairAK</a>*_x000D_\\nTo complete the [pull request process](https://git.k8s.io/community/contributors/guide/owners.md#the-code-review-process), please assign **durandom** after the PR has been reviewed._x000D_\\nYou can assign the PR to them by writing `/assign @durandom` in a comment when ready._x000D_\\n_x000D_\\nThe full list of commands accepted by this bot can be found [here](https://go.k8s.io/bot-commands?repo=operate-first%2Fblueprint)._x000D_\\n_x000D_\\n<details open>_x000D_\\nNeeds approval from an approver in each of these files:_x000D_\\n_x000D_\\n- **[OWNERS](https://github.com/operate-first/blueprint/blob/main/OWNERS)**_x000D_\\n_x000D_\\nApprovers can indicate their approval by writing `/approve` in a comment_x000D_\\nApprovers can cancel approval by writing `/approve cancel` in a comment_x000D_\\n</details>_x000D_\\n<!-- META={\"approvers\":[\"durandom\"]} -->', 'Let\\'s start with the 2 personas we have in our own team. That would be _x000D_\\n_x000D_\\n* Service Operator _x000D_\\n* Service Consumer_x000D_\\n_x000D_\\n\"Service\" is a placeholder for every ODH and non-ODH component we\\'re running. _x000D_\\n_x000D_\\n', '/retest', 'How about using a well defined structure for writing the user stories? I remember Cucumber for Behavior Driven Development. This [blog post](https://medium.com/@nic/writing-user-stories-with-gherkin-dda63461b1d2) explains it a bit._x000D_\\n_x000D_\\n', 'Ignore the build-check test failing, this should be resolved after the pr is merged. ', 'So this covers the prometheus aspect of monitoring, what about grafana/alerting? ', '> So this covers the prometheus aspect of monitoring, what about grafana/alerting?_x000D_\\n_x000D_\\nI was thinking we can create separate ADRs for visualization and alerting', 'SourceOps should stay as is, as it contains Sesheta and enables bots and tools to work on the source_x000D_\\n_x000D_\\nWe should have one group of humans that are able to push-force into all repos, this is handy to apply hotfixes (aka bypassing PR-review process).', '/sig devops_x000D_\\n/sig cyborgs', '/sig user-experience', '/kind feature_x000D_\\n', '[APPROVALNOTIFIER] This PR is **NOT APPROVED**_x000D_\\n_x000D_\\nThis pull-request has been approved by: *<a href=\"https://github.com/operate-first/blueprint/pull/15#pullrequestreview-563627181\" title=\"Approved\">4n4nd</a>*, *<a href=\"https://github.com/operate-first/blueprint/pull/15#pullrequestreview-563643648\" title=\"Approved\">hemajv</a>*_x000D_\\nTo complete the [pull request process](https://git.k8s.io/community/contributors/guide/owners.md#the-code-review-process), please assign **goern** after the PR has been reviewed._x000D_\\nYou can assign the PR to them by writing `/assign @goern` in a comment when ready._x000D_\\n_x000D_\\nThe full list of commands accepted by this bot can be found [here](https://go.k8s.io/bot-commands?repo=operate-first%2Fblueprint)._x000D_\\n_x000D_\\n<details open>_x000D_\\nNeeds approval from an approver in each of these files:_x000D_\\n_x000D_\\n- **[OWNERS](https://github.com/operate-first/blueprint/blob/main/OWNERS)**_x000D_\\n_x000D_\\nApprovers can indicate their approval by writing `/approve` in a comment_x000D_\\nApprovers can cancel approval by writing `/approve cancel` in a comment_x000D_\\n</details>_x000D_\\n<!-- META={\"approvers\":[\"goern\"]} -->', '/retest', 'Hi @4n4nd', '      Unauthorised to run /retest command.', '/retest', 'Hi @4n4nd', '      Unauthorised to run /retest command.', '/retest', '> @hemajv see if the adr doc for github alerts can be incorporated here_x000D_\\n_x000D_\\nI think it would be easier to have a separate ADR for this._x000D_\\ncreated #16, for adding the ADR of our alerting setup', '/retest', '/retest', 'cc @goern with https://github.com/operate-first/apps/issues/108', '/regate', '/recheck', '[APPROVALNOTIFIER] This PR is **APPROVED**_x000D_\\n_x000D_\\nApproval requirements bypassed by manually added approval._x000D_\\n_x000D_\\nThis pull-request has been approved by: *<a href=\"https://github.com/operate-first/blueprint/pull/13#pullrequestreview-568567770\" title=\"Approved\">anishasthana</a>*, *<a href=\"https://github.com/operate-first/blueprint/pull/13#pullrequestreview-568541739\" title=\"Approved\">hemajv</a>*_x000D_\\n_x000D_\\nThe full list of commands accepted by this bot can be found [here](https://go.k8s.io/bot-commands?repo=operate-first%2Fblueprint)._x000D_\\n_x000D_\\nThe pull request process is described [here](https://git.k8s.io/community/contributors/guide/owners.md#the-code-review-process)_x000D_\\n_x000D_\\n<details >_x000D_\\nNeeds approval from an approver in each of these files:_x000D_\\n_x000D_\\n- **[OWNERS](https://github.com/operate-first/blueprint/blob/main/OWNERS)**_x000D_\\n_x000D_\\nApprovers can indicate their approval by writing `/approve` in a comment_x000D_\\nApprovers can cancel approval by writing `/approve cancel` in a comment_x000D_\\n</details>_x000D_\\n<!-- META={\"approvers\":[\"durandom\"]} -->', '/hold', \"/hold _x000D_\\nLet's get this [pr](https://github.com/operate-first/blueprint/pull/17) in first. \", '@tumido _x000D_\\n_x000D_\\nWhat do you think of tying in operators, clusterrolebindings, etc. into the language here along with namespaces/groups/etc. As these will be manifests we commonly have to deploy._x000D_\\n_x000D_\\n[Relevant](https://github.com/open-infrastructure-labs/ops-issues/issues/6)', \"> What do you think of tying in operators, clusterrolebindings, etc_x000D_\\n_x000D_\\n@HumairAK very good point! I'll include that. :slightly_smiling_face: \", '@tumido I think this is great :+1: ', '[APPROVALNOTIFIER] This PR is **NOT APPROVED**_x000D_\\n_x000D_\\nThis pull-request has been approved by: *<a href=\"https://github.com/operate-first/blueprint/pull/20#pullrequestreview-570715132\" title=\"Approved\">4n4nd</a>*, *<a href=\"https://github.com/operate-first/blueprint/pull/20#pullrequestreview-571386944\" title=\"Approved\">anishasthana</a>*, *<a href=\"https://github.com/operate-first/blueprint/pull/20#pullrequestreview-571148123\" title=\"Approved\">tumido</a>*_x000D_\\nTo complete the [pull request process](https://git.k8s.io/community/contributors/guide/owners.md#the-code-review-process), please assign **goern** after the PR has been reviewed._x000D_\\nYou can assign the PR to them by writing `/assign @goern` in a comment when ready._x000D_\\n_x000D_\\nThe full list of commands accepted by this bot can be found [here](https://go.k8s.io/bot-commands?repo=operate-first%2Fblueprint)._x000D_\\n_x000D_\\n<details open>_x000D_\\nNeeds approval from an approver in each of these files:_x000D_\\n_x000D_\\n- **[OWNERS](https://github.com/operate-first/blueprint/blob/main/OWNERS)**_x000D_\\n_x000D_\\nApprovers can indicate their approval by writing `/approve` in a comment_x000D_\\nApprovers can cancel approval by writing `/approve cancel` in a comment_x000D_\\n</details>_x000D_\\n<!-- META={\"approvers\":[\"goern\"]} -->', 'One minor mistake, but outside of that I think this looks good.', '/hold', 'Split it into ops-admins and ops, perhaps? ops-admins would consist of @tumido , @4n4nd , and @HumairAK . Everyone else would be dumped into ops.', '[APPROVALNOTIFIER] This PR is **NOT APPROVED**_x000D_\\n_x000D_\\nThis pull-request has been approved by: *<a href=\"https://github.com/operate-first/blueprint/pull/19#pullrequestreview-571374051\" title=\"Approved\">4n4nd</a>*, *<a href=\"https://github.com/operate-first/blueprint/pull/19#pullrequestreview-571417406\" title=\"Approved\">anishasthana</a>*_x000D_\\nTo complete the [pull request process](https://git.k8s.io/community/contributors/guide/owners.md#the-code-review-process), please assign **goern** after the PR has been reviewed._x000D_\\nYou can assign the PR to them by writing `/assign @goern` in a comment when ready._x000D_\\n_x000D_\\nThe full list of commands accepted by this bot can be found [here](https://go.k8s.io/bot-commands?repo=operate-first%2Fblueprint)._x000D_\\n_x000D_\\n<details open>_x000D_\\nNeeds approval from an approver in each of these files:_x000D_\\n_x000D_\\n- **[OWNERS](https://github.com/operate-first/blueprint/blob/main/OWNERS)**_x000D_\\n_x000D_\\nApprovers can indicate their approval by writing `/approve` in a comment_x000D_\\nApprovers can cancel approval by writing `/approve cancel` in a comment_x000D_\\n</details>_x000D_\\n<!-- META={\"approvers\":[\"goern\"]} -->', '/hold', '[APPROVALNOTIFIER] This PR is **NOT APPROVED**_x000D_\\n_x000D_\\nThis pull-request has been approved by: *<a href=\"https://github.com/operate-first/blueprint/pull/17#pullrequestreview-569605796\" title=\"Approved\">4n4nd</a>*, *<a href=\"https://github.com/operate-first/blueprint/pull/17#pullrequestreview-571422209\" title=\"Approved\">anishasthana</a>*, *<a href=\"https://github.com/operate-first/blueprint/pull/17#pullrequestreview-571406341\" title=\"Approved\">tumido</a>*_x000D_\\nTo complete the [pull request process](https://git.k8s.io/community/contributors/guide/owners.md#the-code-review-process), please assign **durandom** after the PR has been reviewed._x000D_\\nYou can assign the PR to them by writing `/assign @durandom` in a comment when ready._x000D_\\n_x000D_\\nThe full list of commands accepted by this bot can be found [here](https://go.k8s.io/bot-commands?repo=operate-first%2Fblueprint)._x000D_\\n_x000D_\\n<details open>_x000D_\\nNeeds approval from an approver in each of these files:_x000D_\\n_x000D_\\n- **[OWNERS](https://github.com/operate-first/blueprint/blob/main/OWNERS)**_x000D_\\n_x000D_\\nApprovers can indicate their approval by writing `/approve` in a comment_x000D_\\nApprovers can cancel approval by writing `/approve cancel` in a comment_x000D_\\n</details>_x000D_\\n<!-- META={\"approvers\":[\"durandom\"]} -->', '/unhold', '/unhold', 'bump for more discussion', 'I\\'d add few more personas to consider from top of my head:_x000D_\\n_x000D_\\n- System Integrator_x000D_\\n- Platform maintainer (overlaps the Humair\\'s \"Users looking to emulate our setup\")_x000D_\\n- Solution Architect/Technology scout_x000D_\\n_x000D_\\n### System integrator_x000D_\\nTo me this persona signifies somebody who wants to integrate their application into our setup and make it accessible for our users on clusters managed by us. This persons has to be able to obtain the knowledge and understanding into:_x000D_\\n- How our setup works in general so they can verify we are genuine and trustworthy._x000D_\\n- what steps he should take to be included - from namespace and user groups creation and creating ArgoCD apps, to how to structure their application manifests to be able to  deploy everything they have in their repository, in a single step._x000D_\\n- How to provide us their secrets, what communication channels should be used and where they can see their application status, monitoring and stuff and how they, personally can be alerted on their application misbehavior._x000D_\\n_x000D_\\n### Platform maintainer_x000D_\\nI imagine Lars and Ilana to fit in this role. This persona is somebody who can deploy an OCP cluster and wants to get it ready for us, so we can deploy all our applications in there. I\\'d say this persona has to have access to info about:_x000D_\\n- What are the basic needs for us._x000D_\\n- How to grant us the proper access._x000D_\\n- How to deploy our ArgoCD setup in case this is an isolated environment._x000D_\\n- How to attach their cluster to an existing ArgoCD environment in case this new cluster should belong to any existing deployment._x000D_\\n_x000D_\\n### Solution Architect/Technology scout_x000D_\\nThis persona is quite the opposite to the ones above. This persona should be able to gain trust in our solution so it can be promoted further. This persona should easily obtain:_x000D_\\n- All the information on how we do things and why._x000D_\\n- Can easily grant access to an example deployment as an user in any end user role imaginable._x000D_\\n- Should be able to spin up a dev environment without much previous knowledge - in a \"single click deployment\" way as possible', 'Great write-up! _x000D_\\n_x000D_\\nThis LGTM besides the nit picks above, feel free to unhold this pr whenever you are ready.', 'Updated. Please review once more @HumairAK @anishasthana  :slightly_smiling_face: ', 'lgtm_x000D_\\n@anishasthana  once you give it another look, please unhold. ', '/unhold', '@HumairAK I think you would need to approve this once more. :slightly_smiling_face: ', '[APPROVALNOTIFIER] This PR is **NOT APPROVED**_x000D_\\n_x000D_\\nThis pull-request has been approved by: *<a href=\"https://github.com/operate-first/blueprint/pull/21#pullrequestreview-575532671\" title=\"Approved\">anishasthana</a>*, *<a href=\"https://github.com/operate-first/blueprint/pull/21#pullrequestreview-575550989\" title=\"Approved\">HumairAK</a>*_x000D_\\nTo complete the [pull request process](https://git.k8s.io/community/contributors/guide/owners.md#the-code-review-process), please assign **durandom** after the PR has been reviewed._x000D_\\nYou can assign the PR to them by writing `/assign @durandom` in a comment when ready._x000D_\\n_x000D_\\nThe full list of commands accepted by this bot can be found [here](https://go.k8s.io/bot-commands?repo=operate-first%2Fblueprint)._x000D_\\n_x000D_\\n<details open>_x000D_\\nNeeds approval from an approver in each of these files:_x000D_\\n_x000D_\\n- **[OWNERS](https://github.com/operate-first/blueprint/blob/main/OWNERS)**_x000D_\\n_x000D_\\nApprovers can indicate their approval by writing `/approve` in a comment_x000D_\\nApprovers can cancel approval by writing `/approve cancel` in a comment_x000D_\\n</details>_x000D_\\n<!-- META={\"approvers\":[\"durandom\"]} -->', \"I'd like to add the **Application Owner**, its an extension of the **cloud-native application developer**, this persona would like to try deploying his app and running it, so that he can gather operational experience (which is very different from an integration test) and feed that experience back into the documentation._x000D_\\n_x000D_\\n**Application Owner**_x000D_\\n_x000D_\\n* all the info to get the application deployed_x000D_\\n* all the docs to pass on to the developers, so that could they can deploy the app_x000D_\\n* all the source of info required to run the app_x000D_\\n\", '/hold', '[APPROVALNOTIFIER] This PR is **NOT APPROVED**_x000D_\\n_x000D_\\nThis pull-request has been approved by: *<a href=\"https://github.com/operate-first/blueprint/pull/25#pullrequestreview-578477535\" title=\"Approved\">HumairAK</a>*, *<a href=\"https://github.com/operate-first/blueprint/pull/25#pullrequestreview-578471227\" title=\"Approved\">tumido</a>*_x000D_\\nTo complete the [pull request process](https://git.k8s.io/community/contributors/guide/owners.md#the-code-review-process), please assign **goern** after the PR has been reviewed._x000D_\\nYou can assign the PR to them by writing `/assign @goern` in a comment when ready._x000D_\\n_x000D_\\nThe full list of commands accepted by this bot can be found [here](https://go.k8s.io/bot-commands?repo=operate-first%2Fblueprint)._x000D_\\n_x000D_\\n<details open>_x000D_\\nNeeds approval from an approver in each of these files:_x000D_\\n_x000D_\\n- **[OWNERS](https://github.com/operate-first/blueprint/blob/main/OWNERS)**_x000D_\\n_x000D_\\nApprovers can indicate their approval by writing `/approve` in a comment_x000D_\\nApprovers can cancel approval by writing `/approve cancel` in a comment_x000D_\\n</details>_x000D_\\n<!-- META={\"approvers\":[\"goern\"]} -->', '/unhold', '/hold', 'Thanks @tumido  this is a great write-up. _x000D_\\n_x000D_\\n/lgtm', \"@goern: The label(s) `sig/docs` cannot be applied, because the repository doesn't have them_x000D_\\n_x000D_\\n<details>_x000D_\\n_x000D_\\nIn response to [this](https://github.com/operate-first/blueprint/issues/27):_x000D_\\n_x000D_\\n>SSIA_x000D_\\n>_x000D_\\n>lets figure out what labels we need for op1st and how they support our workflows. See https://github.com/thoth-station/thoth-application/blob/master/prow/overlays/cnv-prod/labels.yaml and PR against it._x000D_\\n>_x000D_\\n>#srcOps _x000D_\\n>/sig docs_x000D_\\n>_x000D_\\n_x000D_\\n_x000D_\\nInstructions for interacting with me using PR comments are available [here](https://git.k8s.io/community/contributors/guide/pull-requests.md).  If you have questions or suggestions related to my behavior, please file an issue against the [kubernetes/test-infra](https://github.com/kubernetes/test-infra/issues/new?title=Prow%20issue:) repository._x000D_\\n</details>\", 'Hey @goern , this is new to me, so I have a few questions: _x000D_\\n- Are you suggesting we need a file like this somewhere that organizes the labels prow can apply for each repo? _x000D_\\n- The field `addedBy: anyone` -- what does do for us if it\\'s _not_ prow? Is it just creating the label for that repo?_x000D_\\n- The labels that prow applies currently, like \"do-not-merge\" where are they stored currently? _x000D_\\n_x000D_\\nI\\'ve been creating labels now and then to help us organize our issues, but I\\'ve just done this via the UI._x000D_\\n_x000D_\\nThanks!', 'New changes are detected. LGTM label has been removed.', '@larsks @martinpovolny thank you for great feedback! :+1: All requests/notes addressed. Can you please take one more look? :pray: ', '[APPROVALNOTIFIER] This PR is **NOT APPROVED**_x000D_\\n_x000D_\\nThis pull-request has been approved by: *<a href=\"https://github.com/operate-first/blueprint/pull/26#pullrequestreview-579424926\" title=\"LGTM\">anishasthana</a>*, *<a href=\"https://github.com/operate-first/blueprint/pull/26#pullrequestreview-580760360\" title=\"Approved\">larsks</a>*, *<a href=\"https://github.com/operate-first/blueprint/pull/26#pullrequestreview-581092690\" title=\"Approved\">martinpovolny</a>*_x000D_\\nTo complete the [pull request process](https://git.k8s.io/community/contributors/guide/owners.md#the-code-review-process), please assign **durandom** after the PR has been reviewed._x000D_\\nYou can assign the PR to them by writing `/assign @durandom` in a comment when ready._x000D_\\n_x000D_\\nThe full list of commands accepted by this bot can be found [here](https://go.k8s.io/bot-commands?repo=operate-first%2Fblueprint)._x000D_\\n_x000D_\\n<details open>_x000D_\\nNeeds approval from an approver in each of these files:_x000D_\\n_x000D_\\n- **[OWNERS](https://github.com/operate-first/blueprint/blob/main/OWNERS)**_x000D_\\n_x000D_\\nApprovers can indicate their approval by writing `/approve` in a comment_x000D_\\nApprovers can cancel approval by writing `/approve cancel` in a comment_x000D_\\n</details>_x000D_\\n<!-- META={\"approvers\":[\"durandom\"]} -->', \"@HumairAK @4n4nd please review once more and unhold if you're satisfied :slightly_smiling_face: \", \"I don't mind unifying them. I actually agree they both feel more like a dev env than anything else... And I usually end up mixing my own apps/resources combination (I never deploy the defaults) to fit into crc/quicklab, since the cluster size is limited.\", 'cc @martinpovolny @anishasthana ', '/approve', '[APPROVALNOTIFIER] This PR is **NOT APPROVED**_x000D_\\n_x000D_\\nThis pull-request has been approved by: *<a href=\"https://github.com/operate-first/blueprint/pull/29#pullrequestreview-581956033\" title=\"Approved\">anishasthana</a>*, *<a href=\"https://github.com/operate-first/blueprint/pull/29#issuecomment-772346874\" title=\"Approved\">tumido</a>*_x000D_\\nTo complete the [pull request process](https://git.k8s.io/community/contributors/guide/owners.md#the-code-review-process), please assign **goern** after the PR has been reviewed._x000D_\\nYou can assign the PR to them by writing `/assign @goern` in a comment when ready._x000D_\\n_x000D_\\nThe full list of commands accepted by this bot can be found [here](https://go.k8s.io/bot-commands?repo=operate-first%2Fblueprint)._x000D_\\n_x000D_\\n<details open>_x000D_\\nNeeds approval from an approver in each of these files:_x000D_\\n_x000D_\\n- **[OWNERS](https://github.com/operate-first/blueprint/blob/main/OWNERS)**_x000D_\\n_x000D_\\nApprovers can indicate their approval by writing `/approve` in a comment_x000D_\\nApprovers can cancel approval by writing `/approve cancel` in a comment_x000D_\\n</details>_x000D_\\n<!-- META={\"approvers\":[\"goern\"]} -->', \"I'm a ++ for this. They have seemed almost identical whenever I did stuff.\", ' /lgtm', 'Just a note, creating such admin teams doesn\\'t mean the org owners won\\'t be admins anymore. So me, @HumairAK, @durandom, @goern are always admins by definition since we are org owners, no matter if we are part of any admin team or not._x000D_\\n_x000D_\\nLet\\'s have an admin team for me and @HumairAK and @4n4nd (Anand, you can be either a member of the admin team + an approver for everything or neither of those, I don\\'t see a way for you to pick the second and not be listed in the first :slightly_smiling_face: ), so we can be called via `@operate-first/team-name` on urgent matters._x000D_\\n_x000D_\\nI\\'d say the rest of the teams and folks should have triage access + should be grouped into:_x000D_\\n- 1 general team for all core contributors_x000D_\\n- a team per topic/sig: `ops`, `telemetry`, `support`, `documentation`, `build`/`cyborgs` - this way we can \"call for help\" a team (via the `@operate-first/team-name` alias) and we don\\'t have to list all the people.', \"let's just add the teams and see how it goes and how they're used. _x000D_\\n_x000D_\\ngiven that it's not only ops stuff, would `admin` make more sense? Are `admin` granted write access for all repos and approvers are not._x000D_\\n_x000D_\\nIIUC this issue is only about team communication and organization - not about approval and merge process_x000D_\\n\", '\"core contributors\" would have admin/force-push access to all repos?', '... lets have a look if prow can manage all that for us ;)', '> \"core contributors\" would have admin/force-push access to all repos?_x000D_\\n_x000D_\\n@goern if you mean the team I\\'ve hinted in my comment above, I meant a core contrib team for all the current operate first folks (since this is our current \"core\", and we\\'d like to expand it to external community). I don\\'t think this team should have write access to repos though. ', \"> IIUC this issue is only about team communication and organization - not about approval and merge process_x000D_\\n_x000D_\\nWe also need to consider who will have manual abilities to approve in the event prow fails to merge pr's (due to downtime/slow period/etc.) \", \"Humair, thats the reasone why we have a SourceOps team that is able to manually merge and force-push, I think Kubernetes calls this team 'on-call'\", '> Humair, thats the reasone why we have a SourceOps team that is able to manually merge and force-push, I think Kubernetes calls this team \\'on-call\\'_x000D_\\n_x000D_\\nAh I see, I think I\\'ve just delegated this role to the admin team for now. _x000D_\\n_x000D_\\n> a team per topic/sig: ops, telemetry, support, documentation, build/cyborgs - this way we can \"call for help\" a team (via the @operate-first/team-name alias) and we don\\'t have to list all the people. _x000D_\\n_x000D_\\nI feel like this is overkill for our team size, but then again creating teams cost nothing. Who goes where? _x000D_\\n_x000D_\\n', \"This is what I've created thus far: _x000D_\\n_x000D_\\n![image](https://user-images.githubusercontent.com/10904967/107279429-0713bb80-6a25-11eb-9628-38304bfd5c45.png)_x000D_\\n_x000D_\\nI distributed permissions as follows: _x000D_\\n- admins have admin on all repos _x000D_\\n- contributors have triage on all repos _x000D_\\n- `workshopers` having admin access to `operate-first/workshop-apps `_x000D_\\n\", '/lgtm', '/approve', '[APPROVALNOTIFIER] This PR is **APPROVED**_x000D_\\n_x000D_\\nThis pull-request has been approved by: *<a href=\"https://github.com/operate-first/blueprint/pull/32#issuecomment-776700339\" title=\"Approved\">HumairAK</a>*_x000D_\\n_x000D_\\nThe full list of commands accepted by this bot can be found [here](https://go.k8s.io/bot-commands?repo=operate-first%2Fblueprint)._x000D_\\n_x000D_\\nThe pull request process is described [here](https://git.k8s.io/community/contributors/guide/owners.md#the-code-review-process)_x000D_\\n_x000D_\\n<details >_x000D_\\nNeeds approval from an approver in each of these files:_x000D_\\n_x000D_\\n- ~~[OWNERS](https://github.com/operate-first/blueprint/blob/main/OWNERS)~~ [HumairAK]_x000D_\\n_x000D_\\nApprovers can indicate their approval by writing `/approve` in a comment_x000D_\\nApprovers can cancel approval by writing `/approve cancel` in a comment_x000D_\\n</details>_x000D_\\n<!-- META={\"approvers\":[]} -->', 'The answer from the MOC perspective is \"because that\\'s what the Openshift Container Storage\" *(OCS) product uses. But I guess you are looking at this in a more general sense?', 'Assuming folks are happy with this setup, closing for now. Feel free to re-open.', 'I think for the most part, folks have been pretty good at linking to and fro from Operate-First repositories, so the information is certainly there and can/should be retrievable via github api for example. We would just need a way to aggregate/collect and present it in a fashion that is easier to consume.', \"I think this is an important problem to solve, but also a challenging one and one that I don't have any great ideas for how to fix._x000D_\\n_x000D_\\nWe could certainly write some scripts to measure contributions on pull requests and issues and that sort of thing, but..._x000D_\\n![giphy](https://user-images.githubusercontent.com/5041129/110962142-9fe87000-831e-11eb-84bc-58e4f8dc5dc0.gif)_x000D_\\n_x000D_\\nWhat would people thing of try to start some demo sessions where we show off to each other what we've been working on?_x000D_\\n\", 'Yes, I think we should adapt to the new standard and update our default branches to `main`.', \"What's a good plan of action? Create issues on all repositories and slowly port them over? \", '<details>', '<summary>Pre-Commit Test failed! Click here</summary>', '```', '[INFO] Initializing environment for git://github.com/Lucas-C/pre-commit-hooks.', '[INFO] Initializing environment for git://github.com/pre-commit/pre-commit-hooks.', '[INFO] Initializing environment for https://github.com/adrienverge/yamllint.git.', '[INFO] Installing environment for git://github.com/Lucas-C/pre-commit-hooks.', '[INFO] Once installed this environment will be reused.', '[INFO] This may take a few minutes...', '[INFO] Installing environment for git://github.com/pre-commit/pre-commit-hooks.', '[INFO] Once installed this environment will be reused.', '[INFO] This may take a few minutes...', '[INFO] Installing environment for https://github.com/adrienverge/yamllint.git.', '[INFO] Once installed this environment will be reused.', '[INFO] This may take a few minutes...', 'Tabs remover.............................................................Passed', 'Trim Trailing Whitespace.................................................Failed', '- exit code: 1', 'Fixing docs/userstories/add_image.md', 'Check for merge conflicts................................................Passed', 'Fix End of Files.........................................................Passed', 'Check for added large files..............................................Passed', 'Check for case conflicts.................................................Passed', 'Check JSON...........................................(no files to check)Skipped', 'Check for broken symlinks............................(no files to check)Skipped', 'Detect Private Key.......................................................Passed', 'yamllint.................................................................Passed', '```', '</details>', '[APPROVALNOTIFIER] This PR is **APPROVED**_x000D_\\n_x000D_\\nThis pull-request has been approved by: *<a href=\"https://github.com/operate-first/blueprint/pull/36#pullrequestreview-597350239\" title=\"Approved\">tumido</a>*_x000D_\\n_x000D_\\nThe full list of commands accepted by this bot can be found [here](https://go.k8s.io/bot-commands?repo=operate-first%2Fblueprint)._x000D_\\n_x000D_\\nThe pull request process is described [here](https://git.k8s.io/community/contributors/guide/owners.md#the-code-review-process)_x000D_\\n_x000D_\\n<details >_x000D_\\nNeeds approval from an approver in each of these files:_x000D_\\n_x000D_\\n- ~~[OWNERS](https://github.com/operate-first/blueprint/blob/main/OWNERS)~~ [tumido]_x000D_\\n_x000D_\\nApprovers can indicate their approval by writing `/approve` in a comment_x000D_\\nApprovers can cancel approval by writing `/approve cancel` in a comment_x000D_\\n</details>_x000D_\\n<!-- META={\"approvers\":[]} -->', '/approve', '[APPROVALNOTIFIER] This PR is **APPROVED**_x000D_\\n_x000D_\\nThis pull-request has been approved by: *<a href=\"https://github.com/operate-first/blueprint/pull/37#issuecomment-785092142\" title=\"Approved\">HumairAK</a>*_x000D_\\n_x000D_\\nThe full list of commands accepted by this bot can be found [here](https://go.k8s.io/bot-commands?repo=operate-first%2Fblueprint)._x000D_\\n_x000D_\\nThe pull request process is described [here](https://git.k8s.io/community/contributors/guide/owners.md#the-code-review-process)_x000D_\\n_x000D_\\n<details >_x000D_\\nNeeds approval from an approver in each of these files:_x000D_\\n_x000D_\\n- ~~[OWNERS](https://github.com/operate-first/blueprint/blob/main/OWNERS)~~ [HumairAK]_x000D_\\n_x000D_\\nApprovers can indicate their approval by writing `/approve` in a comment_x000D_\\nApprovers can cancel approval by writing `/approve cancel` in a comment_x000D_\\n</details>_x000D_\\n<!-- META={\"approvers\":[]} -->', \"We would like to be more verbose about what persona this feature is targeting, I'd imagine this could be added under the feature description itself.\", \"The persona for this feature should probably be someone that is part of operate-first JH ops. We may want to consider adding a complimentary user story from a data science perspective whereby this user does not _care about a pvc_ they just want _more space_. This userstory would likely just be about the user creating an issue and when it's closed, the result will be more space for the user.\", \"@HumairAK @tumido I am having a hard time figuring out what the user has already been given. _x000D_\\nI know the user has access to a Jupyter Notebook environment, but for the Ceph bucket I don't know if they are supposed to request one or should I just assume they have access to a bucket and it's credentials?\", '[APPROVALNOTIFIER] This PR is **NOT APPROVED**_x000D_\\n_x000D_\\nThis pull-request has been approved by:_x000D_\\nTo complete the [pull request process](https://git.k8s.io/community/contributors/guide/owners.md#the-code-review-process), please assign **durandom** after the PR has been reviewed._x000D_\\nYou can assign the PR to them by writing `/assign @durandom` in a comment when ready._x000D_\\n_x000D_\\nThe full list of commands accepted by this bot can be found [here](https://go.k8s.io/bot-commands?repo=operate-first%2Fblueprint)._x000D_\\n_x000D_\\n<details open>_x000D_\\nNeeds approval from an approver in each of these files:_x000D_\\n_x000D_\\n- **[OWNERS](https://github.com/operate-first/blueprint/blob/main/OWNERS)**_x000D_\\n_x000D_\\nApprovers can indicate their approval by writing `/approve` in a comment_x000D_\\nApprovers can cancel approval by writing `/approve cancel` in a comment_x000D_\\n</details>_x000D_\\n<!-- META={\"approvers\":[\"durandom\"]} -->', '@tumido , @HumairAK : something more along these lines? _x000D_\\n(see docs/userstories/request_a_storage_bucket.feature)_x000D_\\n_x000D_\\nThx for any feedback!', '[APPROVALNOTIFIER] This PR is **APPROVED**_x000D_\\n_x000D_\\nThis pull-request has been approved by: *<a href=\"https://github.com/operate-first/blueprint/pull/44#pullrequestreview-598390103\" title=\"Approved\">tumido</a>*_x000D_\\n_x000D_\\nThe full list of commands accepted by this bot can be found [here](https://go.k8s.io/bot-commands?repo=operate-first%2Fblueprint)._x000D_\\n_x000D_\\nThe pull request process is described [here](https://git.k8s.io/community/contributors/guide/owners.md#the-code-review-process)_x000D_\\n_x000D_\\n<details >_x000D_\\nNeeds approval from an approver in each of these files:_x000D_\\n_x000D_\\n- ~~[OWNERS](https://github.com/operate-first/blueprint/blob/main/OWNERS)~~ [tumido]_x000D_\\n_x000D_\\nApprovers can indicate their approval by writing `/approve` in a comment_x000D_\\nApprovers can cancel approval by writing `/approve cancel` in a comment_x000D_\\n</details>_x000D_\\n<!-- META={\"approvers\":[]} -->', \"I'd rather just create one issue with a checklist for all repos. Off the top of my head, some of the kfdefs will need to be updated and any links in docs throughout the org. And down stream repos linking via remote references (aicoe-cd comes to mind). Shouldn't be too bad imo.\", '<details>', '<summary>Pre-Commit Test failed! Click here</summary>', '```', '[INFO] Initializing environment for git://github.com/Lucas-C/pre-commit-hooks.', '[INFO] Initializing environment for git://github.com/pre-commit/pre-commit-hooks.', '[INFO] Initializing environment for https://github.com/adrienverge/yamllint.git.', '[INFO] Installing environment for git://github.com/Lucas-C/pre-commit-hooks.', '[INFO] Once installed this environment will be reused.', '[INFO] This may take a few minutes...', '[INFO] Installing environment for git://github.com/pre-commit/pre-commit-hooks.', '[INFO] Once installed this environment will be reused.', '[INFO] This may take a few minutes...', '[INFO] Installing environment for https://github.com/adrienverge/yamllint.git.', '[INFO] Once installed this environment will be reused.', '[INFO] This may take a few minutes...']\n"
          ]
        }
      ]
    },
    {
      "cell_type": "markdown",
      "metadata": {
        "id": "oUQOTf7R6Gh6"
      },
      "source": [
        "## Tokenization"
      ]
    },
    {
      "cell_type": "code",
      "metadata": {
        "id": "hkSKNsVl6Fn0",
        "colab": {
          "base_uri": "https://localhost:8080/",
          "height": 145,
          "referenced_widgets": [
            "d210d82c23ea4f259382d224bae74cad",
            "c466be8cd38444abb424cf9b05305269",
            "d412f012c9184749a5da5ae51f123cf2",
            "3620c4b3c4e54cca84aea64d70114cd0",
            "bcbe774a04ee4b8498efe2637f839790",
            "8b6315e21a6140bf988b0faf075542c3",
            "e56e4c5d5b8f40c79247e6ba910b90c4",
            "94fa6b212f1c431ba0031a6c7700f42d",
            "54d4c1f2a4694fdaa7309adfec92a599",
            "6d7d7e5b197446afb53ac0f993ec1257",
            "16745d76478e48ea8631d0c71fcb585f",
            "c9a36ddea95d4c47a3765211662004be",
            "acaf5bbf70ad42ce845c1fdbda529319",
            "cd09dc2d743d4a78ae58fb586f696ab6",
            "466248ec07994f44bc1e17d9ae92528d",
            "dea4aaf1221a4d5d801088724a66696c",
            "bd3319e07d9f486b9528a38d2dcc0c2a",
            "b701ca86e35d44a0b6a101757757074a",
            "6bf1af6dd3ae49319057898514eded62",
            "3343ac976d074c289338ccf8f0c68bd6",
            "75f10265ec024864a5520b56d43187f7",
            "da71f7e2acd645bcaa30bbbf0254c595",
            "dd7c71d249eb44af97492d2b816c09a2",
            "8f05081387314673888d89d05c1c00d5",
            "be098d4a17714ad588ced725f194951f",
            "ca1c7a075c1a493d96cf677f67e3d937",
            "2d4987b858f8484386c1a2c95d18fbb0",
            "548ee9f925834e5787eb4a76630a864c",
            "ffcbfc8baa014db0a12130f44847ff52",
            "eb0479f0784c465b943d17a73a8909ff",
            "5d0aa9668a4d4375a9895e56b0d53e2f",
            "397581168175407683d29fbd08f5df7e",
            "1270fdba322a4a4bad521858bb4333a6",
            "c42a666db89c4454a2ec9579a8a24754",
            "63a27507a65c4893aa521927e752e1c3",
            "d3cb6ef509014f2cbd86a0a641f83f2f",
            "c4cf2fe5876b4965904721e92c1411fc",
            "9a29bb2cd24045cca80c205f2504ee01",
            "03e20487393d46dd8cad180b4d97c5ef",
            "e8d9c0ca54fd48a4b1111f2eb4c5ef27",
            "6d4544779f8d494f9aefa43a2e986391",
            "bdf1744bc3554fd29ec7e1796d310755",
            "942ab6559ee14b45853faa08d166914c",
            "207dcced0b8c42eeb800d6ddf7633a3b"
          ]
        },
        "outputId": "ba62ac39-f896-412f-bf22-fb4a6fad996a"
      },
      "source": [
        "tokenizer = DistilBertTokenizerFast.from_pretrained('distilbert-base-uncased')"
      ],
      "execution_count": 11,
      "outputs": [
        {
          "output_type": "display_data",
          "data": {
            "text/plain": [
              "Downloading:   0%|          | 0.00/28.0 [00:00<?, ?B/s]"
            ],
            "application/vnd.jupyter.widget-view+json": {
              "version_major": 2,
              "version_minor": 0,
              "model_id": "d210d82c23ea4f259382d224bae74cad"
            }
          },
          "metadata": {}
        },
        {
          "output_type": "display_data",
          "data": {
            "text/plain": [
              "Downloading:   0%|          | 0.00/232k [00:00<?, ?B/s]"
            ],
            "application/vnd.jupyter.widget-view+json": {
              "version_major": 2,
              "version_minor": 0,
              "model_id": "c9a36ddea95d4c47a3765211662004be"
            }
          },
          "metadata": {}
        },
        {
          "output_type": "display_data",
          "data": {
            "text/plain": [
              "Downloading:   0%|          | 0.00/466k [00:00<?, ?B/s]"
            ],
            "application/vnd.jupyter.widget-view+json": {
              "version_major": 2,
              "version_minor": 0,
              "model_id": "dd7c71d249eb44af97492d2b816c09a2"
            }
          },
          "metadata": {}
        },
        {
          "output_type": "display_data",
          "data": {
            "text/plain": [
              "Downloading:   0%|          | 0.00/483 [00:00<?, ?B/s]"
            ],
            "application/vnd.jupyter.widget-view+json": {
              "version_major": 2,
              "version_minor": 0,
              "model_id": "c42a666db89c4454a2ec9579a8a24754"
            }
          },
          "metadata": {}
        }
      ]
    },
    {
      "cell_type": "code",
      "metadata": {
        "colab": {
          "base_uri": "https://localhost:8080/"
        },
        "id": "UDfvWmsF6JEn",
        "outputId": "4d8042ae-16e0-4320-fc09-fd65273c9974"
      },
      "source": [
        "tokenizer([training_sentences[0]], truncation=True,\n",
        "                            padding=True, max_length=64)"
      ],
      "execution_count": 12,
      "outputs": [
        {
          "output_type": "execute_result",
          "data": {
            "text/plain": [
              "{'input_ids': [[101, 1048, 13512, 2213, 999, 102]], 'attention_mask': [[1, 1, 1, 1, 1, 1]]}"
            ]
          },
          "metadata": {},
          "execution_count": 12
        }
      ]
    },
    {
      "cell_type": "code",
      "metadata": {
        "colab": {
          "base_uri": "https://localhost:8080/"
        },
        "id": "RgpyLmLHdMdK",
        "outputId": "52c98168-ff7c-49cd-86b2-ec23f1645566"
      },
      "source": [
        "sequence = '@beltran-rubo @juan131 please review this again.'\n",
        "tokenizer.tokenize(sequence)"
      ],
      "execution_count": 13,
      "outputs": [
        {
          "output_type": "execute_result",
          "data": {
            "text/plain": [
              "['@',\n",
              " 'belt',\n",
              " '##ran',\n",
              " '-',\n",
              " 'rub',\n",
              " '##o',\n",
              " '@',\n",
              " 'juan',\n",
              " '##13',\n",
              " '##1',\n",
              " 'please',\n",
              " 'review',\n",
              " 'this',\n",
              " 'again',\n",
              " '.']"
            ]
          },
          "metadata": {},
          "execution_count": 13
        }
      ]
    },
    {
      "cell_type": "code",
      "metadata": {
        "colab": {
          "base_uri": "https://localhost:8080/"
        },
        "id": "kN24EfHKdY0A",
        "outputId": "17a6ac5a-5585-4fe1-ce8b-ec6f3a266cb3"
      },
      "source": [
        "tokenizer(sequence)"
      ],
      "execution_count": 14,
      "outputs": [
        {
          "output_type": "execute_result",
          "data": {
            "text/plain": [
              "{'input_ids': [101, 1030, 5583, 5521, 1011, 14548, 2080, 1030, 5348, 17134, 2487, 3531, 3319, 2023, 2153, 1012, 102], 'attention_mask': [1, 1, 1, 1, 1, 1, 1, 1, 1, 1, 1, 1, 1, 1, 1, 1, 1]}"
            ]
          },
          "metadata": {},
          "execution_count": 14
        }
      ]
    },
    {
      "cell_type": "code",
      "metadata": {
        "id": "8hKqoBpk6J_j"
      },
      "source": [
        "train_encodings = tokenizer(training_sentences,\n",
        "                            truncation=True,\n",
        "                            padding=True)\n",
        "val_encodings = tokenizer(validation_sentences,\n",
        "                            truncation=True,\n",
        "                            padding=True)"
      ],
      "execution_count": 15,
      "outputs": []
    },
    {
      "cell_type": "markdown",
      "metadata": {
        "id": "Q1qWpLE26TqE"
      },
      "source": [
        "## TensorFlow dataset"
      ]
    },
    {
      "cell_type": "code",
      "metadata": {
        "id": "2dV175p06U8c"
      },
      "source": [
        "train_dataset = tf.data.Dataset.from_tensor_slices((\n",
        "    dict(train_encodings),\n",
        "    training_labels\n",
        "))\n",
        "\n",
        "val_dataset = tf.data.Dataset.from_tensor_slices((\n",
        "    dict(val_encodings),\n",
        "    validation_labels\n",
        "))"
      ],
      "execution_count": 16,
      "outputs": []
    },
    {
      "cell_type": "markdown",
      "metadata": {
        "id": "qSwNdT-X6WC0"
      },
      "source": [
        "## Model"
      ]
    },
    {
      "cell_type": "code",
      "metadata": {
        "colab": {
          "base_uri": "https://localhost:8080/",
          "height": 184,
          "referenced_widgets": [
            "c47f9524bb3d470d9698746e0287b222",
            "aeb2069251074a37baed9201c4c94cb5",
            "78ca557a94db4eebb91015bf404e9f3a",
            "7eaff8be6e444adbbd0b35b97883cfb2",
            "6381d6292c064675b2296ee950713d50",
            "f9d0c1e5cd5443dca1e18fbd6403b6e3",
            "9dfd5f7185e3477793b684d2ee232ad3",
            "4360bc32bd7e4ed1b5150c9e9d28c071",
            "f07b0d62a6ec4e24a4c4f83b58a5b947",
            "49fd4eefe85f4ebcb0c60da4189151fb",
            "673943d4a0d64858b5ab02ace19a2146"
          ]
        },
        "id": "gh4Hdwwj6YAz",
        "outputId": "8a56a145-a6d5-467e-bacd-642e8f2b5a79"
      },
      "source": [
        "model = TFDistilBertForSequenceClassification.from_pretrained('distilbert-base-uncased',\n",
        "                                                              num_labels=2)"
      ],
      "execution_count": 17,
      "outputs": [
        {
          "output_type": "display_data",
          "data": {
            "text/plain": [
              "Downloading:   0%|          | 0.00/363M [00:00<?, ?B/s]"
            ],
            "application/vnd.jupyter.widget-view+json": {
              "version_major": 2,
              "version_minor": 0,
              "model_id": "c47f9524bb3d470d9698746e0287b222"
            }
          },
          "metadata": {}
        },
        {
          "output_type": "stream",
          "name": "stderr",
          "text": [
            "Some layers from the model checkpoint at distilbert-base-uncased were not used when initializing TFDistilBertForSequenceClassification: ['vocab_transform', 'vocab_projector', 'vocab_layer_norm', 'activation_13']\n",
            "- This IS expected if you are initializing TFDistilBertForSequenceClassification from the checkpoint of a model trained on another task or with another architecture (e.g. initializing a BertForSequenceClassification model from a BertForPreTraining model).\n",
            "- This IS NOT expected if you are initializing TFDistilBertForSequenceClassification from the checkpoint of a model that you expect to be exactly identical (initializing a BertForSequenceClassification model from a BertForSequenceClassification model).\n",
            "Some layers of TFDistilBertForSequenceClassification were not initialized from the model checkpoint at distilbert-base-uncased and are newly initialized: ['pre_classifier', 'classifier', 'dropout_19']\n",
            "You should probably TRAIN this model on a down-stream task to be able to use it for predictions and inference.\n"
          ]
        }
      ]
    },
    {
      "cell_type": "code",
      "metadata": {
        "colab": {
          "base_uri": "https://localhost:8080/"
        },
        "id": "MWhJpOc61wLO",
        "outputId": "f6f136f9-fa3a-4bec-d95f-980c5e6438b3"
      },
      "source": [
        "# using the Hugginface model saves as the time and effor to build the model on our own\n",
        "# https://www.tensorflow.org/official_models/fine_tuning_bert_files/output_8L__-erBwLIQ_0.png?dcb_=0.04391390122987171\n",
        "\n",
        "model.summary()"
      ],
      "execution_count": 18,
      "outputs": [
        {
          "output_type": "stream",
          "name": "stdout",
          "text": [
            "Model: \"tf_distil_bert_for_sequence_classification\"\n",
            "_________________________________________________________________\n",
            " Layer (type)                Output Shape              Param #   \n",
            "=================================================================\n",
            " distilbert (TFDistilBertMai  multiple                 66362880  \n",
            " nLayer)                                                         \n",
            "                                                                 \n",
            " pre_classifier (Dense)      multiple                  590592    \n",
            "                                                                 \n",
            " classifier (Dense)          multiple                  1538      \n",
            "                                                                 \n",
            " dropout_19 (Dropout)        multiple                  0         \n",
            "                                                                 \n",
            "=================================================================\n",
            "Total params: 66,955,010\n",
            "Trainable params: 66,955,010\n",
            "Non-trainable params: 0\n",
            "_________________________________________________________________\n"
          ]
        }
      ]
    },
    {
      "cell_type": "markdown",
      "metadata": {
        "id": "UXn_E0Vz6bIp"
      },
      "source": [
        "## Training"
      ]
    },
    {
      "cell_type": "code",
      "metadata": {
        "colab": {
          "base_uri": "https://localhost:8080/",
          "height": 798
        },
        "id": "NaszA-vW6Y_7",
        "outputId": "bf07123d-8c3b-4bba-f438-56776bdbba40"
      },
      "source": [
        "\n",
        "optimizer = tf.keras.optimizers.Adam(learning_rate=5e-5, epsilon=1e-08)\n",
        "model.compile(optimizer=optimizer, loss=model.compute_loss, metrics=['accuracy'])\n",
        "model.fit(train_dataset.shuffle(10).batch(16),\n",
        "              epochs=2,\n",
        "              batch_size=16,\n",
        "              validation_data=val_dataset.shuffle(10).batch(16))"
      ],
      "execution_count": 19,
      "outputs": [
        {
          "output_type": "stream",
          "name": "stdout",
          "text": [
            "Epoch 1/2\n"
          ]
        },
        {
          "output_type": "error",
          "ename": "AttributeError",
          "evalue": "ignored",
          "traceback": [
            "\u001b[0;31m---------------------------------------------------------------------------\u001b[0m",
            "\u001b[0;31mAttributeError\u001b[0m                            Traceback (most recent call last)",
            "\u001b[0;32m<ipython-input-19-bfce84bfd593>\u001b[0m in \u001b[0;36m<module>\u001b[0;34m\u001b[0m\n\u001b[1;32m      1\u001b[0m \u001b[0moptimizer\u001b[0m \u001b[0;34m=\u001b[0m \u001b[0mtf\u001b[0m\u001b[0;34m.\u001b[0m\u001b[0mkeras\u001b[0m\u001b[0;34m.\u001b[0m\u001b[0moptimizers\u001b[0m\u001b[0;34m.\u001b[0m\u001b[0mAdam\u001b[0m\u001b[0;34m(\u001b[0m\u001b[0mlearning_rate\u001b[0m\u001b[0;34m=\u001b[0m\u001b[0;36m5e-5\u001b[0m\u001b[0;34m,\u001b[0m \u001b[0mepsilon\u001b[0m\u001b[0;34m=\u001b[0m\u001b[0;36m1e-08\u001b[0m\u001b[0;34m)\u001b[0m\u001b[0;34m\u001b[0m\u001b[0;34m\u001b[0m\u001b[0m\n\u001b[1;32m      2\u001b[0m \u001b[0mmodel\u001b[0m\u001b[0;34m.\u001b[0m\u001b[0mcompile\u001b[0m\u001b[0;34m(\u001b[0m\u001b[0moptimizer\u001b[0m\u001b[0;34m=\u001b[0m\u001b[0moptimizer\u001b[0m\u001b[0;34m,\u001b[0m \u001b[0mloss\u001b[0m\u001b[0;34m=\u001b[0m\u001b[0mmodel\u001b[0m\u001b[0;34m.\u001b[0m\u001b[0mcompute_loss\u001b[0m\u001b[0;34m,\u001b[0m \u001b[0mmetrics\u001b[0m\u001b[0;34m=\u001b[0m\u001b[0;34m[\u001b[0m\u001b[0;34m'accuracy'\u001b[0m\u001b[0;34m]\u001b[0m\u001b[0;34m)\u001b[0m\u001b[0;34m\u001b[0m\u001b[0;34m\u001b[0m\u001b[0m\n\u001b[0;32m----> 3\u001b[0;31m model.fit(train_dataset.shuffle(10).batch(16),\n\u001b[0m\u001b[1;32m      4\u001b[0m               \u001b[0mepochs\u001b[0m\u001b[0;34m=\u001b[0m\u001b[0;36m2\u001b[0m\u001b[0;34m,\u001b[0m\u001b[0;34m\u001b[0m\u001b[0;34m\u001b[0m\u001b[0m\n\u001b[1;32m      5\u001b[0m               \u001b[0mbatch_size\u001b[0m\u001b[0;34m=\u001b[0m\u001b[0;36m16\u001b[0m\u001b[0;34m,\u001b[0m\u001b[0;34m\u001b[0m\u001b[0;34m\u001b[0m\u001b[0m\n",
            "\u001b[0;32m/usr/local/lib/python3.8/dist-packages/keras/utils/traceback_utils.py\u001b[0m in \u001b[0;36merror_handler\u001b[0;34m(*args, **kwargs)\u001b[0m\n\u001b[1;32m     65\u001b[0m     \u001b[0;32mexcept\u001b[0m \u001b[0mException\u001b[0m \u001b[0;32mas\u001b[0m \u001b[0me\u001b[0m\u001b[0;34m:\u001b[0m  \u001b[0;31m# pylint: disable=broad-except\u001b[0m\u001b[0;34m\u001b[0m\u001b[0;34m\u001b[0m\u001b[0m\n\u001b[1;32m     66\u001b[0m       \u001b[0mfiltered_tb\u001b[0m \u001b[0;34m=\u001b[0m \u001b[0m_process_traceback_frames\u001b[0m\u001b[0;34m(\u001b[0m\u001b[0me\u001b[0m\u001b[0;34m.\u001b[0m\u001b[0m__traceback__\u001b[0m\u001b[0;34m)\u001b[0m\u001b[0;34m\u001b[0m\u001b[0;34m\u001b[0m\u001b[0m\n\u001b[0;32m---> 67\u001b[0;31m       \u001b[0;32mraise\u001b[0m \u001b[0me\u001b[0m\u001b[0;34m.\u001b[0m\u001b[0mwith_traceback\u001b[0m\u001b[0;34m(\u001b[0m\u001b[0mfiltered_tb\u001b[0m\u001b[0;34m)\u001b[0m \u001b[0;32mfrom\u001b[0m \u001b[0;32mNone\u001b[0m\u001b[0;34m\u001b[0m\u001b[0;34m\u001b[0m\u001b[0m\n\u001b[0m\u001b[1;32m     68\u001b[0m     \u001b[0;32mfinally\u001b[0m\u001b[0;34m:\u001b[0m\u001b[0;34m\u001b[0m\u001b[0;34m\u001b[0m\u001b[0m\n\u001b[1;32m     69\u001b[0m       \u001b[0;32mdel\u001b[0m \u001b[0mfiltered_tb\u001b[0m\u001b[0;34m\u001b[0m\u001b[0;34m\u001b[0m\u001b[0m\n",
            "\u001b[0;32m/usr/local/lib/python3.8/dist-packages/keras/engine/training.py\u001b[0m in \u001b[0;36mtf__train_function\u001b[0;34m(iterator)\u001b[0m\n\u001b[1;32m     13\u001b[0m                 \u001b[0;32mtry\u001b[0m\u001b[0;34m:\u001b[0m\u001b[0;34m\u001b[0m\u001b[0;34m\u001b[0m\u001b[0m\n\u001b[1;32m     14\u001b[0m                     \u001b[0mdo_return\u001b[0m \u001b[0;34m=\u001b[0m \u001b[0;32mTrue\u001b[0m\u001b[0;34m\u001b[0m\u001b[0;34m\u001b[0m\u001b[0m\n\u001b[0;32m---> 15\u001b[0;31m                     \u001b[0mretval_\u001b[0m \u001b[0;34m=\u001b[0m \u001b[0mag__\u001b[0m\u001b[0;34m.\u001b[0m\u001b[0mconverted_call\u001b[0m\u001b[0;34m(\u001b[0m\u001b[0mag__\u001b[0m\u001b[0;34m.\u001b[0m\u001b[0mld\u001b[0m\u001b[0;34m(\u001b[0m\u001b[0mstep_function\u001b[0m\u001b[0;34m)\u001b[0m\u001b[0;34m,\u001b[0m \u001b[0;34m(\u001b[0m\u001b[0mag__\u001b[0m\u001b[0;34m.\u001b[0m\u001b[0mld\u001b[0m\u001b[0;34m(\u001b[0m\u001b[0mself\u001b[0m\u001b[0;34m)\u001b[0m\u001b[0;34m,\u001b[0m \u001b[0mag__\u001b[0m\u001b[0;34m.\u001b[0m\u001b[0mld\u001b[0m\u001b[0;34m(\u001b[0m\u001b[0miterator\u001b[0m\u001b[0;34m)\u001b[0m\u001b[0;34m)\u001b[0m\u001b[0;34m,\u001b[0m \u001b[0;32mNone\u001b[0m\u001b[0;34m,\u001b[0m \u001b[0mfscope\u001b[0m\u001b[0;34m)\u001b[0m\u001b[0;34m\u001b[0m\u001b[0;34m\u001b[0m\u001b[0m\n\u001b[0m\u001b[1;32m     16\u001b[0m                 \u001b[0;32mexcept\u001b[0m\u001b[0;34m:\u001b[0m\u001b[0;34m\u001b[0m\u001b[0;34m\u001b[0m\u001b[0m\n\u001b[1;32m     17\u001b[0m                     \u001b[0mdo_return\u001b[0m \u001b[0;34m=\u001b[0m \u001b[0;32mFalse\u001b[0m\u001b[0;34m\u001b[0m\u001b[0;34m\u001b[0m\u001b[0m\n",
            "\u001b[0;32m/usr/local/lib/python3.8/dist-packages/transformers/modeling_tf_utils.py\u001b[0m in \u001b[0;36mtrain_step\u001b[0;34m(self, data)\u001b[0m\n\u001b[1;32m   1552\u001b[0m \u001b[0;34m\u001b[0m\u001b[0m\n\u001b[1;32m   1553\u001b[0m             \u001b[0;32mif\u001b[0m \u001b[0mloss\u001b[0m \u001b[0;32mis\u001b[0m \u001b[0;32mNone\u001b[0m\u001b[0;34m:\u001b[0m\u001b[0;34m\u001b[0m\u001b[0;34m\u001b[0m\u001b[0m\n\u001b[0;32m-> 1554\u001b[0;31m                 \u001b[0mloss\u001b[0m \u001b[0;34m=\u001b[0m \u001b[0mself\u001b[0m\u001b[0;34m.\u001b[0m\u001b[0mcompiled_loss\u001b[0m\u001b[0;34m(\u001b[0m\u001b[0my\u001b[0m\u001b[0;34m,\u001b[0m \u001b[0my_pred\u001b[0m\u001b[0;34m,\u001b[0m \u001b[0msample_weight\u001b[0m\u001b[0;34m,\u001b[0m \u001b[0mregularization_losses\u001b[0m\u001b[0;34m=\u001b[0m\u001b[0mself\u001b[0m\u001b[0;34m.\u001b[0m\u001b[0mlosses\u001b[0m\u001b[0;34m)\u001b[0m\u001b[0;34m\u001b[0m\u001b[0;34m\u001b[0m\u001b[0m\n\u001b[0m\u001b[1;32m   1555\u001b[0m \u001b[0;34m\u001b[0m\u001b[0m\n\u001b[1;32m   1556\u001b[0m         \u001b[0;31m# Run backwards pass.\u001b[0m\u001b[0;34m\u001b[0m\u001b[0;34m\u001b[0m\u001b[0;34m\u001b[0m\u001b[0m\n",
            "\u001b[0;32m/usr/local/lib/python3.8/dist-packages/transformers/modeling_tf_utils.py\u001b[0m in \u001b[0;36mtf__compute_loss\u001b[0;34m(self, *args, **kwargs)\u001b[0m\n\u001b[1;32m     35\u001b[0m                         \u001b[0mdo_return\u001b[0m \u001b[0;34m=\u001b[0m \u001b[0;32mFalse\u001b[0m\u001b[0;34m\u001b[0m\u001b[0;34m\u001b[0m\u001b[0m\n\u001b[1;32m     36\u001b[0m                         \u001b[0;32mraise\u001b[0m\u001b[0;34m\u001b[0m\u001b[0;34m\u001b[0m\u001b[0m\n\u001b[0;32m---> 37\u001b[0;31m                 \u001b[0mag__\u001b[0m\u001b[0;34m.\u001b[0m\u001b[0mif_stmt\u001b[0m\u001b[0;34m(\u001b[0m\u001b[0mag__\u001b[0m\u001b[0;34m.\u001b[0m\u001b[0mconverted_call\u001b[0m\u001b[0;34m(\u001b[0m\u001b[0mag__\u001b[0m\u001b[0;34m.\u001b[0m\u001b[0mld\u001b[0m\u001b[0;34m(\u001b[0m\u001b[0mhasattr\u001b[0m\u001b[0;34m)\u001b[0m\u001b[0;34m,\u001b[0m \u001b[0;34m(\u001b[0m\u001b[0mag__\u001b[0m\u001b[0;34m.\u001b[0m\u001b[0mld\u001b[0m\u001b[0;34m(\u001b[0m\u001b[0mtf\u001b[0m\u001b[0;34m)\u001b[0m\u001b[0;34m.\u001b[0m\u001b[0mkeras\u001b[0m\u001b[0;34m.\u001b[0m\u001b[0mModel\u001b[0m\u001b[0;34m,\u001b[0m \u001b[0;34m'compute_loss'\u001b[0m\u001b[0;34m)\u001b[0m\u001b[0;34m,\u001b[0m \u001b[0;32mNone\u001b[0m\u001b[0;34m,\u001b[0m \u001b[0mfscope\u001b[0m\u001b[0;34m)\u001b[0m\u001b[0;34m,\u001b[0m \u001b[0mif_body\u001b[0m\u001b[0;34m,\u001b[0m \u001b[0melse_body\u001b[0m\u001b[0;34m,\u001b[0m \u001b[0mget_state\u001b[0m\u001b[0;34m,\u001b[0m \u001b[0mset_state\u001b[0m\u001b[0;34m,\u001b[0m \u001b[0;34m(\u001b[0m\u001b[0;34m'do_return'\u001b[0m\u001b[0;34m,\u001b[0m \u001b[0;34m'retval_'\u001b[0m\u001b[0;34m)\u001b[0m\u001b[0;34m,\u001b[0m \u001b[0;36m2\u001b[0m\u001b[0;34m)\u001b[0m\u001b[0;34m\u001b[0m\u001b[0;34m\u001b[0m\u001b[0m\n\u001b[0m\u001b[1;32m     38\u001b[0m                 \u001b[0;32mreturn\u001b[0m \u001b[0mfscope\u001b[0m\u001b[0;34m.\u001b[0m\u001b[0mret\u001b[0m\u001b[0;34m(\u001b[0m\u001b[0mretval_\u001b[0m\u001b[0;34m,\u001b[0m \u001b[0mdo_return\u001b[0m\u001b[0;34m)\u001b[0m\u001b[0;34m\u001b[0m\u001b[0;34m\u001b[0m\u001b[0m\n\u001b[1;32m     39\u001b[0m         \u001b[0;32mreturn\u001b[0m \u001b[0mtf__compute_loss\u001b[0m\u001b[0;34m\u001b[0m\u001b[0;34m\u001b[0m\u001b[0m\n",
            "\u001b[0;32m/usr/local/lib/python3.8/dist-packages/transformers/modeling_tf_utils.py\u001b[0m in \u001b[0;36mif_body\u001b[0;34m()\u001b[0m\n\u001b[1;32m     21\u001b[0m                     \u001b[0;32mtry\u001b[0m\u001b[0;34m:\u001b[0m\u001b[0;34m\u001b[0m\u001b[0;34m\u001b[0m\u001b[0m\n\u001b[1;32m     22\u001b[0m                         \u001b[0mdo_return\u001b[0m \u001b[0;34m=\u001b[0m \u001b[0;32mTrue\u001b[0m\u001b[0;34m\u001b[0m\u001b[0;34m\u001b[0m\u001b[0m\n\u001b[0;32m---> 23\u001b[0;31m                         \u001b[0mretval_\u001b[0m \u001b[0;34m=\u001b[0m \u001b[0mag__\u001b[0m\u001b[0;34m.\u001b[0m\u001b[0mconverted_call\u001b[0m\u001b[0;34m(\u001b[0m\u001b[0mag__\u001b[0m\u001b[0;34m.\u001b[0m\u001b[0mconverted_call\u001b[0m\u001b[0;34m(\u001b[0m\u001b[0mag__\u001b[0m\u001b[0;34m.\u001b[0m\u001b[0mld\u001b[0m\u001b[0;34m(\u001b[0m\u001b[0msuper\u001b[0m\u001b[0;34m)\u001b[0m\u001b[0;34m,\u001b[0m \u001b[0;34m(\u001b[0m\u001b[0;34m)\u001b[0m\u001b[0;34m,\u001b[0m \u001b[0;32mNone\u001b[0m\u001b[0;34m,\u001b[0m \u001b[0mfscope\u001b[0m\u001b[0;34m)\u001b[0m\u001b[0;34m.\u001b[0m\u001b[0mcompute_loss\u001b[0m\u001b[0;34m,\u001b[0m \u001b[0mtuple\u001b[0m\u001b[0;34m(\u001b[0m\u001b[0mag__\u001b[0m\u001b[0;34m.\u001b[0m\u001b[0mld\u001b[0m\u001b[0;34m(\u001b[0m\u001b[0margs\u001b[0m\u001b[0;34m)\u001b[0m\u001b[0;34m)\u001b[0m\u001b[0;34m,\u001b[0m \u001b[0mdict\u001b[0m\u001b[0;34m(\u001b[0m\u001b[0;34m**\u001b[0m\u001b[0mag__\u001b[0m\u001b[0;34m.\u001b[0m\u001b[0mld\u001b[0m\u001b[0;34m(\u001b[0m\u001b[0mkwargs\u001b[0m\u001b[0;34m)\u001b[0m\u001b[0;34m)\u001b[0m\u001b[0;34m,\u001b[0m \u001b[0mfscope\u001b[0m\u001b[0;34m)\u001b[0m\u001b[0;34m\u001b[0m\u001b[0;34m\u001b[0m\u001b[0m\n\u001b[0m\u001b[1;32m     24\u001b[0m                     \u001b[0;32mexcept\u001b[0m\u001b[0;34m:\u001b[0m\u001b[0;34m\u001b[0m\u001b[0;34m\u001b[0m\u001b[0m\n\u001b[1;32m     25\u001b[0m                         \u001b[0mdo_return\u001b[0m \u001b[0;34m=\u001b[0m \u001b[0;32mFalse\u001b[0m\u001b[0;34m\u001b[0m\u001b[0;34m\u001b[0m\u001b[0m\n",
            "\u001b[0;31mAttributeError\u001b[0m: in user code:\n\n    File \"/usr/local/lib/python3.8/dist-packages/keras/engine/training.py\", line 1051, in train_function  *\n        return step_function(self, iterator)\n    File \"/usr/local/lib/python3.8/dist-packages/transformers/modeling_tf_utils.py\", line 1436, in compute_loss  *\n        return super().compute_loss(*args, **kwargs)\n    File \"/usr/local/lib/python3.8/dist-packages/keras/engine/training.py\", line 948, in compute_loss  **\n        return self.compiled_loss(\n    File \"/usr/local/lib/python3.8/dist-packages/keras/engine/compile_utils.py\", line 199, in __call__\n        y_t, y_p, sw = match_dtype_and_rank(y_t, y_p, sw)\n    File \"/usr/local/lib/python3.8/dist-packages/keras/engine/compile_utils.py\", line 726, in match_dtype_and_rank\n        if ((y_t.dtype.is_floating and y_p.dtype.is_floating) or\n\n    AttributeError: 'NoneType' object has no attribute 'dtype'\n"
          ]
        }
      ]
    },
    {
      "cell_type": "markdown",
      "metadata": {
        "id": "DRFX61gMajzU"
      },
      "source": [
        "IMDB Sentiment Benchmark https://paperswithcode.com/sota/sentiment-analysis-on-imdb"
      ]
    },
    {
      "cell_type": "markdown",
      "metadata": {
        "id": "vBL78JQR6dFR"
      },
      "source": [
        "## Save model"
      ]
    },
    {
      "cell_type": "code",
      "metadata": {
        "id": "NFY-qsfL6cbv"
      },
      "source": [
        "model.save_pretrained(\"./model\")"
      ],
      "execution_count": null,
      "outputs": []
    },
    {
      "cell_type": "markdown",
      "metadata": {
        "id": "edgS0DAxb_ER"
      },
      "source": [
        "## Load model from storage (for demo purpuses without time for fullt raining)"
      ]
    },
    {
      "cell_type": "code",
      "metadata": {
        "id": "ZvyD9wypcKDz"
      },
      "source": [
        "!gsutil cp -r gs://machine-learning-samples/models/sentiment/model . "
      ],
      "execution_count": null,
      "outputs": []
    },
    {
      "cell_type": "markdown",
      "metadata": {
        "id": "zaNItlPT6ggG"
      },
      "source": [
        "## Load model"
      ]
    },
    {
      "cell_type": "code",
      "metadata": {
        "id": "aaeTUy-V6fQi"
      },
      "source": [
        "loaded_model = TFDistilBertForSequenceClassification.from_pretrained(\"./model\")"
      ],
      "execution_count": null,
      "outputs": []
    },
    {
      "cell_type": "markdown",
      "metadata": {
        "id": "-T_jMwj56jHX"
      },
      "source": [
        "## Prediction"
      ]
    },
    {
      "cell_type": "code",
      "metadata": {
        "id": "PPCwaKU06hrr"
      },
      "source": [
        "test_sentence = \"DoiT is a great company\"\n",
        "\n",
        "# replace to test_sentence_sarcasm variable, if you want to test sarcasm\n",
        "predict_input = tokenizer.encode(test_sentence,\n",
        "                                 truncation=True,\n",
        "                                 padding=True,\n",
        "                                 return_tensors=\"tf\")\n",
        "\n",
        "tf_output = loaded_model.predict(predict_input)[0]\n",
        "\n",
        "tf_prediction = tf.nn.softmax(tf_output, axis=1)\n",
        "labels = ['Negative','Positive']\n",
        "label = tf.argmax(tf_prediction, axis=1)\n",
        "label = label.numpy()\n",
        "print(labels[label[0]])"
      ],
      "execution_count": null,
      "outputs": []
    },
    {
      "cell_type": "code",
      "metadata": {
        "id": "l6WK09A36j_V"
      },
      "source": [],
      "execution_count": null,
      "outputs": []
    },
    {
      "cell_type": "markdown",
      "metadata": {
        "id": "LYSN4NTKiwdf"
      },
      "source": [
        "## Excursion"
      ]
    },
    {
      "cell_type": "markdown",
      "metadata": {
        "id": "jHRPIT-Kl9aI"
      },
      "source": [
        "### Masking"
      ]
    },
    {
      "cell_type": "code",
      "metadata": {
        "id": "f4bjxafpixcI"
      },
      "source": [
        "from transformers import pipeline\n",
        "unmasker = pipeline('fill-mask', model='distilbert-base-uncased')\n",
        "unmasker(\"DoiT is a [MASK] company to work for.\")"
      ],
      "execution_count": null,
      "outputs": []
    },
    {
      "cell_type": "markdown",
      "metadata": {
        "id": "NQIt_XwIl_Jd"
      },
      "source": [
        "### Tokenization"
      ]
    },
    {
      "cell_type": "code",
      "metadata": {
        "id": "VILVN9KjizqH"
      },
      "source": [
        "tokenizer.tokenize('Cat Dog Cat Dog')"
      ],
      "execution_count": null,
      "outputs": []
    },
    {
      "cell_type": "code",
      "metadata": {
        "id": "TtPFfE6VjMfv"
      },
      "source": [
        "tokenizer(['Cat Dog Cat Dog'], \n",
        "          truncation=True,\n",
        "          padding=True, \n",
        "          max_length=128)"
      ],
      "execution_count": null,
      "outputs": []
    },
    {
      "cell_type": "markdown",
      "metadata": {
        "id": "VG0WZKjAmAfC"
      },
      "source": [
        "### Biased\n",
        "BERT was trained on Wikipedia and Book Corpus and thus learns underlying bias. This is a important topic and we need to be aware of that at any time we work with machine learning models and data."
      ]
    },
    {
      "cell_type": "code",
      "metadata": {
        "id": "L4mScflhmBIw"
      },
      "source": [
        "unmasker(\"The White man worked as a [MASK].\")"
      ],
      "execution_count": null,
      "outputs": []
    },
    {
      "cell_type": "code",
      "metadata": {
        "id": "30WgSdRbmQ08"
      },
      "source": [
        "unmasker(\"The woman worked as a [MASK].\")"
      ],
      "execution_count": null,
      "outputs": []
    },
    {
      "cell_type": "code",
      "metadata": {
        "id": "WrSzArCLmXn1"
      },
      "source": [
        "unmasker(\"The Black woman worked as a [MASK].\")"
      ],
      "execution_count": null,
      "outputs": []
    },
    {
      "cell_type": "code",
      "metadata": {
        "id": "NooR6lvwnbTR"
      },
      "source": [],
      "execution_count": null,
      "outputs": []
    }
  ]
}